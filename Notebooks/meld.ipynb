{
 "cells": [
  {
   "cell_type": "code",
   "execution_count": 24,
   "id": "bbc8adfe-8801-4386-8197-2cb2c033e148",
   "metadata": {},
   "outputs": [
    {
     "name": "stdout",
     "output_type": "stream",
     "text": [
      "Number of neutral dialogues involving Ross: 719\n",
      "\n",
      "Sample of neutral dialogues involving Ross:\n",
      "    Sr No.                                          Utterance Speaker  \\\n",
      "46      50  Ah y'know, this building is on my paper route ...    Ross   \n",
      "48      52                                                Hi.    Ross   \n",
      "50      54                                   Howd did it go?    Ross   \n",
      "56      60                                              Yeah.    Ross   \n",
      "97     101                                            I know.    Ross   \n",
      "\n",
      "    Emotion Sentiment  Dialogue_ID  Utterance_ID  Season  Episode  \\\n",
      "46  neutral   neutral            4             3       3       11   \n",
      "48  neutral   neutral            4             5       3       11   \n",
      "50  neutral   neutral            4             7       3       11   \n",
      "56  neutral   neutral            4            13       3       11   \n",
      "97  neutral   neutral            9             4       2        5   \n",
      "\n",
      "       StartTime       EndTime  \n",
      "46  00:20:26,433  00:20:29,185  \n",
      "48   0:20:30,771   0:20:30,873  \n",
      "50  00:20:31,188  00:20:32,230  \n",
      "56   0:20:54,962   0:20:55,380  \n",
      "97  00:02:13,091  00:02:14,758  \n"
     ]
    }
   ],
   "source": [
    "import pandas as pd\n",
    "\n",
    "meld_dir = \"meld_dataset\"\n",
    "split = \"train\"\n",
    "dialogue_file = os.path.join(meld_dir, f'meld_{split}.csv')\n",
    "meld_df = pd.read_csv(dialogue_file)\n",
    "\n",
    "ross_dialogues = meld_df[meld_df['Speaker'] == 'Ross']\n",
    "\n",
    "ross_neutral_dialogues = ross_dialogues[ross_dialogues['Emotion'] == 'neutral']\n",
    "\n",
    "print(\"Number of neutral dialogues involving Ross:\", len(ross_neutral_dialogues))\n",
    "\n",
    "print(\"\\nSample of neutral dialogues involving Ross:\")\n",
    "print(ross_neutral_dialogues.head())"
   ]
  },
  {
   "cell_type": "code",
   "execution_count": 35,
   "id": "52924b77-9499-4dcb-96be-99bd28021222",
   "metadata": {},
   "outputs": [],
   "source": [
    "import os\n",
    "import pandas as pd\n",
    "import torch\n",
    "from torch.utils.data import Dataset\n",
    "from torchaudio import transforms as T\n",
    "from torchvision.io import read_video\n",
    "\n",
    "class MELDDataset(Dataset):\n",
    "    def __init__(self, meld_dir, split, transform=None):\n",
    "        self.meld_dir = meld_dir\n",
    "        self.split = split\n",
    "        self.transform = transform\n",
    "        \n",
    "        \n",
    "        self.dialogues = self.load_dialogues()\n",
    "        \n",
    "    def load_dialogues(self):\n",
    "        dialogue_file = os.path.join(self.meld_dir, f'meld_{self.split}.csv')\n",
    "        dialogues = pd.read_csv(dialogue_file)\n",
    "        return dialogues\n",
    "\n",
    "    def __len__(self):\n",
    "        return len(self.dialogues)\n",
    "\n",
    "    def __getitem__(self, idx):\n",
    "        row = self.dialogues.iloc[idx]\n",
    "        \n",
    "        \n",
    "        text = row['Utterance']\n",
    "        video_dir = os.path.join(self.meld_dir, 'wav', f'audio_files_for_{self.split}_set')\n",
    "        video_file = os.path.join(video_dir, f'dia{row[\"Dialogue_ID\"]}_utt{row[\"Utterance_ID\"]}.mp4')\n",
    "        label = row['Emotion']\n",
    "        \n",
    "        try:\n",
    "            \n",
    "            video_data, audio_data, info = read_video(video_file, pts_unit='sec')\n",
    "        except Exception as e:\n",
    "            print(f\"Error loading video file: {str(e)}\")\n",
    "            return None, None, None\n",
    "        \n",
    "        \n",
    "        audio_data = audio_data[:, 0]  \n",
    "        \n",
    "        \n",
    "        if self.transform:\n",
    "            \n",
    "            audio_data = self.transform(audio_data)\n",
    "\n",
    "        return text, audio_data, label"
   ]
  },
  {
   "cell_type": "code",
   "execution_count": null,
   "id": "9811394e-f24a-4801-a08b-d11b5da8722b",
   "metadata": {},
   "outputs": [],
   "source": []
  }
 ],
 "metadata": {
  "kernelspec": {
   "display_name": "Python 3 (ipykernel)",
   "language": "python",
   "name": "python3"
  },
  "language_info": {
   "codemirror_mode": {
    "name": "ipython",
    "version": 3
   },
   "file_extension": ".py",
   "mimetype": "text/x-python",
   "name": "python",
   "nbconvert_exporter": "python",
   "pygments_lexer": "ipython3",
   "version": "3.9.13"
  }
 },
 "nbformat": 4,
 "nbformat_minor": 5
}
