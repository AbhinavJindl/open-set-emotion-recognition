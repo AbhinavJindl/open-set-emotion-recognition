{
 "cells": [
  {
   "cell_type": "markdown",
   "metadata": {
    "collapsed": false
   },
   "source": [
    "# Open Set Emotion Recognition"
   ]
  },
  {
   "cell_type": "markdown",
   "metadata": {
    "collapsed": false
   },
   "source": [
    "## Library Imports"
   ]
  },
  {
   "cell_type": "code",
   "execution_count": 1,
   "metadata": {
    "collapsed": false
   },
   "outputs": [
    {
     "name": "stdout",
     "output_type": "stream",
     "text": [
      "Using device: cuda\n"
     ]
    }
   ],
   "source": [
    "import warnings\n",
    "warnings.filterwarnings(\"ignore\")\n",
    "import sys\n",
    "import os\n",
    "module_path = os.path.abspath(os.path.join('..'))\n",
    "if module_path not in sys.path:\n",
    "    sys.path.append(module_path)\n",
    "%matplotlib inline\n",
    "from collections import Counter, defaultdict\n",
    "import torch.nn as nn\n",
    "import os\n",
    "import pandas as pd\n",
    "from torch.utils.data import Dataset\n",
    "from torch.utils.data import DataLoader\n",
    "from tqdm.notebook import tqdm\n",
    "tqdm.pandas()\n",
    "from tqdm import tqdm\n",
    "import librosa\n",
    "import re\n",
    "from collections import Counter\n",
    "import torch\n",
    "from torchvision import models, transforms\n",
    "from PIL import Image\n",
    "from scipy import signal\n",
    "from scipy.io import wavfile\n",
    "import matplotlib.pyplot as plt\n",
    "import numpy as np\n",
    "import time\n",
    "from sklearn.model_selection import StratifiedShuffleSplit\n",
    "from sklearn.metrics import accuracy_score,f1_score,confusion_matrix\n",
    "import torch.nn.functional as F\n",
    "from torch.optim.lr_scheduler import ReduceLROnPlateau\n",
    "import torchaudio\n",
    "from transformers import HubertModel, HubertConfig\n",
    "from sentence_transformers import SentenceTransformer\n",
    "from functools import lru_cache\n",
    "\n",
    "import utils\n",
    "\n",
    "device = (\n",
    "    \"cuda\"\n",
    "    if torch.cuda.is_available()\n",
    "    else \"mps\"\n",
    "    if torch.backends.mps.is_available()\n",
    "    else \"cpu\"\n",
    ")\n",
    "print(f\"Using device: {device}\")"
   ]
  },
  {
   "cell_type": "code",
   "execution_count": 2,
   "metadata": {},
   "outputs": [],
   "source": [
    "OTHER_LABEL = 6"
   ]
  },
  {
   "cell_type": "markdown",
   "metadata": {
    "collapsed": false
   },
   "source": [
    "## Dataset Creation"
   ]
  },
  {
   "cell_type": "markdown",
   "metadata": {
    "collapsed": false
   },
   "source": [
    "### MELD"
   ]
  },
  {
   "cell_type": "code",
   "execution_count": 3,
   "metadata": {
    "collapsed": false
   },
   "outputs": [],
   "source": [
    "# class MELDDataset(Dataset):\n",
    "#     def __init__(self, meld_dir, split, transform=None):\n",
    "#         train_df = pd.read_csv(\"../MELD_Dataset/train_sent_emo.csv\")\n",
    "#         labels = train_df['Emotion'].unique().tolist()\n",
    "#         self.label_to_int = {label: i for i, label in enumerate(labels)}\n",
    "\n",
    "#         self.meld_dir = meld_dir\n",
    "#         self.transform = transform\n",
    "#         self.split = split\n",
    "#         self.img_path = os.path.join(self.meld_dir, 'mel_spectrograms', f'{self.split}_img')\n",
    "#         self.img_path = os.path.join(self.meld_dir, 'log_spectrogram', f'{self.split}_audio')\n",
    "\n",
    "#         # load and create sentence embeddings\n",
    "#         self.dialogues = self.load_dialogues()\n",
    "#         self.sbert = SentenceTransformer('multi-qa-mpnet-base-dot-v1', device=device)\n",
    "#         sentences = self.dialogues['Utterance'].tolist()\n",
    "#         sentences = [text.replace(\"\\x92\", \"'\") for text in sentences]\n",
    "#         self.sentence_embeddings = self.sbert.encode(sentences, convert_to_tensor=True, show_progress_bar=True, batch_size=128, device=device)\n",
    "\n",
    "#         self.spectrograms = self.load_spectrograms()\n",
    "#         self.resnet_model = models.resnet50(pretrained=True)\n",
    "#         self.feature_extractor = torch.nn.Sequential(*list(self.resnet_model.children())[:-1]).to(device)\n",
    "#         self.feature_extractor.eval()\n",
    "\n",
    "#     def load_dialogues(self):\n",
    "#         dialogue_file = os.path.join(self.meld_dir, f'{self.split}_sent_emo.csv')\n",
    "#         dialogues = pd.read_csv(dialogue_file)\n",
    "#         return dialogues\n",
    "\n",
    "#     def load_spectrograms(self):\n",
    "#         images = os.listdir(self.img_path)\n",
    "#         return images\n",
    "\n",
    "#     def __len__(self):\n",
    "#         assert(len(self.sentence_embeddings) == len(self.spectrograms))\n",
    "#         return len(self.dialogues)\n",
    "\n",
    "#     def preprocess_img(self, img):\n",
    "#         preprocessor = transforms.Compose([\n",
    "#             transforms.Resize(256),\n",
    "#             transforms.CenterCrop(224),\n",
    "#             transforms.ToTensor(),\n",
    "#         ])\n",
    "#         img_t =  preprocessor(img).to(device)\n",
    "#         return img_t\n",
    "\n",
    "#     def extract_audio_features_from_spectrogram(self, img):\n",
    "#         # Pass the input through the model\n",
    "#         with torch.no_grad():\n",
    "#             output = self.feature_extractor(img)\n",
    "#         return output\n",
    "\n",
    "#     def __getitem__(self, idx):\n",
    "#         row = self.dialogues.iloc[idx]\n",
    "#         text = self.sentence_embeddings[idx]\n",
    "#         spectrogram_data = Image.open(os.path.join(self.img_path, f'dia{row[\"Dialogue_ID\"]}_utt{row[\"Utterance_ID\"]}.png'))\n",
    "#         spectrogram_data = self.preprocess_img(spectrogram_data)\n",
    "#         spectrogram_data = spectrogram_data[0:3, :, :]\n",
    "#         spectrogram_data = spectrogram_data.unsqueeze(0)\n",
    "#         spectrogram_data = self.extract_audio_features_from_spectrogram(spectrogram_data)\n",
    "#         spectrogram_data = spectrogram_data.view(-1, 2048)[0]\n",
    "#         label = row['Emotion']\n",
    "#         label = torch.tensor(self.label_to_int[label])\n",
    "#         return text, spectrogram_data, label\n",
    "\n",
    "# train_meld = MELDDataset(\"../MELD_Dataset\", \"train\")\n",
    "# # test_meld = MELDDataset(\"../MELD_Dataset\", \"test\")\n",
    "# # dev_meld = MELDDataset(\"../MELD_Dataset\", \"dev\")\n",
    "\n",
    "# # concat all 3 datasets into 1 dataset\n",
    "# meld_dataset = train_meld # + test_meld + dev_meld"
   ]
  },
  {
   "cell_type": "code",
   "execution_count": 4,
   "metadata": {
    "collapsed": false
   },
   "outputs": [],
   "source": [
    "# len(meld_dataset)"
   ]
  },
  {
   "cell_type": "markdown",
   "metadata": {
    "collapsed": false
   },
   "source": [
    "#### IEMOCAP"
   ]
  },
  {
   "cell_type": "code",
   "execution_count": 5,
   "metadata": {
    "collapsed": false
   },
   "outputs": [],
   "source": [
    "class IemocapDataset(Dataset):\n",
    "    def __init__(self, iemocap_dataset_full_path, iemocap_spectrogram_dir, iemocap_log_spectrogram_dir, is_closed_label_set_flag, labels_to_int, split, modality = \"both\", transform=None):\n",
    "        self.IEMOCAP_MAIN_FOLDER = os.path.join(iemocap_dataset_full_path,\"IEMOCAP_full_release\")\n",
    "        self.TRANSCRIPTION_FOLDER = os.path.join(\"dialog\", \"transcriptions\")\n",
    "        self.AUDIO_FOLDER = os.path.join(\"sentences\", \"wav\")\n",
    "        self.CATEGORICAL_LABELS_PATH = os.path.join(\"dialog\", \"EmoEvaluation\", \"Categorical\")\n",
    "        self.split = split\n",
    "        self.transform = transform\n",
    "        self.is_closed_label_set_flag = is_closed_label_set_flag\n",
    "        self.iemocap_spectrogram_dir = iemocap_spectrogram_dir\n",
    "        self.iemocap_log_spectrogram_dir = iemocap_log_spectrogram_dir\n",
    "        self.modality = modality\n",
    "        \n",
    "        self.errors = defaultdict(int)\n",
    "        self.unique_labels = []\n",
    "        self.audio_files = []\n",
    "        self.sentences_list = []\n",
    "        self.dataset = self.create_dataset()\n",
    "        self.labels_to_int = labels_to_int\n",
    "\n",
    "        self.sbert = SentenceTransformer('multi-qa-mpnet-base-dot-v1', device=device)\n",
    "        self.sentence_embeddings = self.sbert.encode(self.sentences_list, convert_to_tensor=True, show_progress_bar=True, batch_size=128, device=device)\n",
    "        \n",
    "        # config = HubertConfig.from_pretrained(\"facebook/hubert-large-ls960-ft\")\n",
    "        # self.hubert_model = HubertModel.from_pretrained(\"facebook/hubert-large-ls960-ft\", config=config)\n",
    "\n",
    "        utils.create_spectrograms(self.iemocap_spectrogram_dir, self.audio_files)\n",
    "        utils.create_log_spectrograms(self.iemocap_log_spectrogram_dir, self.audio_files)\n",
    "\n",
    "        self.resnet_model = models.resnet50(pretrained=True)\n",
    "        self.feature_extractor = torch.nn.Sequential(*list(self.resnet_model.children())[:-1]).to(device)\n",
    "        self.feature_extractor.eval()\n",
    "        \n",
    "    def get_evaluator_filenames_with_video_file_prefix(self, input_list, prefix_value):\n",
    "        regex_pattern = re.compile(f'^{re.escape(prefix_value)}.*\\.txt$')\n",
    "        matching_strings = [s for s in input_list if regex_pattern.match(s)]\n",
    "        return matching_strings\n",
    "    \n",
    "    def get_utterance_to_evaluationCounter_mapping_from_evaluation_files(self, evaluation_files):\n",
    "        utterance_to_all_evaluations = {}\n",
    "\n",
    "        for evaluation_file in evaluation_files:\n",
    "            utterance_to_evaluationList = {}\n",
    "            with open(evaluation_file,'r') as f:\n",
    "                contents = f.read()\n",
    "                utterance_evaluations = contents.split(\"\\n\")\n",
    "                for evaluation in utterance_evaluations:\n",
    "                    evaluation = evaluation.strip()\n",
    "                    if(len(evaluation)==0):\n",
    "                        continue\n",
    "                    matches = re.findall(r':[^;]+;', evaluation)\n",
    "                    matches = [match[1:-1] for match in matches]\n",
    "                    utterance_to_evaluationList[evaluation.split()[0]] = matches\n",
    "            \n",
    "            # Combine lists from dict1\n",
    "            for key, value_list in utterance_to_evaluationList.items():\n",
    "                utterance_to_all_evaluations[key] = utterance_to_all_evaluations.get(key, []) + value_list\n",
    "\n",
    "        utterance_to_evaluationsCounter = {k:Counter(v).most_common(1)[0][0] for k,v in utterance_to_all_evaluations.items()}\n",
    "        return utterance_to_evaluationsCounter\n",
    "    \n",
    "    def is_label_a_closed_label(self,evaluation):\n",
    "        return evaluation in [\"Frustration\",\"Excited\",\"Neutral state\",\"Anger\",\"Sadness\",\"Happiness\"]\n",
    "    \n",
    "    def create_dataset(self):\n",
    "        dataset = []\n",
    "        for session_num in range(1,6):\n",
    "            for transcription_filename in os.listdir(os.path.join(self.IEMOCAP_MAIN_FOLDER,f\"Session{session_num}\", self.TRANSCRIPTION_FOLDER)):\n",
    "                if(transcription_filename[0]!=\".\"): \n",
    "\n",
    "                    filename_without_extension = transcription_filename.split(\".\")[0]\n",
    "                    \n",
    "                    categorical_labels_folder_full_path = os.path.join(self.IEMOCAP_MAIN_FOLDER, f\"Session{session_num}\", self.CATEGORICAL_LABELS_PATH)\n",
    "                    evaluation_filenames = [self.get_evaluator_filenames_with_video_file_prefix(os.listdir(categorical_labels_folder_full_path), filename_without_extension)[0]]\n",
    "                    evaluation_files_full_paths_for_this_file = [os.path.join(self.IEMOCAP_MAIN_FOLDER, f\"Session{session_num}\", self.CATEGORICAL_LABELS_PATH, f) for f in evaluation_filenames]\n",
    "                    evaluations_per_utterance = self.get_utterance_to_evaluationCounter_mapping_from_evaluation_files(evaluation_files_full_paths_for_this_file)\n",
    "                    \n",
    "                    transcription_file_full_path = os.path.join(self.IEMOCAP_MAIN_FOLDER, f\"Session{session_num}\", self.TRANSCRIPTION_FOLDER, transcription_filename) \n",
    "                    with open(transcription_file_full_path,'r') as f:\n",
    "                        contents = f.read()\n",
    "                        lines = contents.split(\"\\n\")\n",
    "\n",
    "                        # Iterate through utterances where every utterance looks like:\n",
    "                        # Ses01F_impro01_F000 [006.2901-008.2357]: Excuse me.\n",
    "                        for line in lines:\n",
    "\n",
    "                            # Remove extra spaces and check if the line is not an empty link (usually at EOF)\n",
    "                            line = line.strip()\n",
    "                            if(len(line)==0):\n",
    "                                break\n",
    "\n",
    "                            # Remove idx of first space, ], -\n",
    "                            try:\n",
    "                                space_idx = line.index(\" \")\n",
    "                                timestampEndBracket_idx = line.index(\"]\")\n",
    "                                timestampHyphen_idx = line.index(\"-\")\n",
    "                            except:\n",
    "                                continue\n",
    "                            else:\n",
    "                                audio_filename = line[:space_idx]        # output audio file name = utterance name\n",
    "                                text = line[timestampEndBracket_idx+3:]         # the transcription of the utterance\n",
    "                                evaluation = evaluations_per_utterance.get(audio_filename,\"KEY_ERROR\")\n",
    "\n",
    "                                utterance_audios_per_video_folder = audio_filename[:line.rindex('_')]       # Only need Ses01F_impro01 from Ses01F_impro01_F000\n",
    "                                audio_file_full_path = os.path.join(self.IEMOCAP_MAIN_FOLDER, f\"Session{session_num}\", self.AUDIO_FOLDER, utterance_audios_per_video_folder, audio_filename+\".wav\")         # name of the video file\n",
    "\n",
    "                                if(evaluation!=\"KEY_ERROR\" and os.path.isfile(audio_file_full_path)==True and self.is_label_a_closed_label(evaluation)==self.is_closed_label_set_flag):\n",
    "                                # if(evaluation!=\"KEY_ERROR\" and os.path.isfile(audio_file_full_path)==True):    \n",
    "                                    self.audio_files.append(audio_file_full_path)\n",
    "                                    self.sentences_list.append(text)\n",
    "                                    dataset.append((text,audio_file_full_path,evaluation))\n",
    "                                    if evaluation not in self.unique_labels:\n",
    "                                        self.unique_labels.append(evaluation)\n",
    "        return dataset\n",
    "\n",
    "    def preprocess_img(self, img):\n",
    "        preprocessor = transforms.Compose([\n",
    "            transforms.Resize(256),\n",
    "            transforms.CenterCrop(224),\n",
    "            transforms.ToTensor(),\n",
    "        ])\n",
    "        img_t =  preprocessor(img).to(device)\n",
    "        return img_t\n",
    "\n",
    "    def extract_audio_features_from_spectrogram(self, img):\n",
    "        # Pass the input through the model\n",
    "        with torch.no_grad():\n",
    "            output = self.feature_extractor(img)\n",
    "        return output\n",
    "    \n",
    "    def __len__(self):\n",
    "        return len(self.dataset)\n",
    "    \n",
    "\n",
    "    @lru_cache(maxsize=None)\n",
    "    def cached_audio_features(self, img_path):\n",
    "        spectrogram_data = Image.open(img_path)\n",
    "        spectrogram_data = self.preprocess_img(spectrogram_data)\n",
    "        spectrogram_data = spectrogram_data[0:3, :, :]\n",
    "        spectrogram_data = spectrogram_data.unsqueeze(0)\n",
    "        spectrogram_data = self.extract_audio_features_from_spectrogram(spectrogram_data)\n",
    "        spectrogram_data = spectrogram_data.view(-1, 2048)[0]\n",
    "        return spectrogram_data\n",
    "\n",
    "    # @lru_cache(maxsize=None)\n",
    "    # def cached_audio_features(self,audio_path):\n",
    "    #     waveform, sample_rate = torchaudio.load(audio_path)\n",
    "\n",
    "    #     # Resample if necessary (HuBERT uses 16 kHz sample rate)\n",
    "    #     if sample_rate != 16000:\n",
    "    #         waveform = torchaudio.transforms.Resample(sample_rate, 16000)(waveform)\n",
    "    #         sample_rate = 16000\n",
    "\n",
    "    #     # Ensure single channel audio (mono)\n",
    "    #     if waveform.shape[0] > 1:\n",
    "    #         waveform = torch.mean(waveform, dim=0, keepdim=True)\n",
    "\n",
    "    #     # Normalize audio\n",
    "    #     waveform = waveform / torch.max(torch.abs(waveform))\n",
    "\n",
    "    #     # Step 3: Encode audio waveforms using HuBERT model\n",
    "    #     # Pass the waveform through the model\n",
    "    #     with torch.no_grad():\n",
    "    #         outputs = self.hubert_model(waveform)\n",
    "\n",
    "    #     # Get the hidden states\n",
    "    #     hidden_states = outputs.last_hidden_state\n",
    "    #     frame_averaged_hidden_states = torch.mean(hidden_states, dim=1)\n",
    "    #     frame_averaged_hidden_states = frame_averaged_hidden_states.view(-1,1024)[0]\n",
    "    #     return frame_averaged_hidden_states\n",
    "    \n",
    "    def __getitem__(self, idx):\n",
    "        _, audio, label = self.dataset[idx]\n",
    "\n",
    "        if self.modality == \"text\" or self.modality == \"both\":\n",
    "            text = self.sentence_embeddings[idx]\n",
    "\n",
    "        if self.modality == \"audio\" or self.modality == \"both\":\n",
    "            img_path = os.path.join(os.path.dirname(os.getcwd()),self.iemocap_spectrogram_dir,os.path.splitext(os.path.basename(audio))[0]+\".png\")\n",
    "            audio_features = self.cached_audio_features(img_path)\n",
    "\n",
    "        if self.is_closed_label_set_flag==False:\n",
    "            label = OTHER_LABEL\n",
    "        else:\n",
    "            label = self.labels_to_int[label]\n",
    "\n",
    "        if (self.modality == \"audio\" or self.modality == \"both\") and self.transform:\n",
    "            audio = self.transform(audio)\n",
    "        \n",
    "        if self.modality == \"both\":\n",
    "            return text, audio_features, label\n",
    "        elif self.modality == \"text\":\n",
    "            return text, label\n",
    "        else:\n",
    "            return audio_features, label"
   ]
  },
  {
   "cell_type": "code",
   "execution_count": 6,
   "metadata": {
    "collapsed": false
   },
   "outputs": [
    {
     "name": "stderr",
     "output_type": "stream",
     "text": [
      "Batches: 100%|██████████| 2/2 [00:06<00:00,  3.01s/it]\n",
      "100%|██████████| 219/219 [00:00<?, ?it/s]\n"
     ]
    },
    {
     "name": "stdout",
     "output_type": "stream",
     "text": [
      "Batch conversion completed for spectrograms. Processed 0 files.\n"
     ]
    },
    {
     "name": "stderr",
     "output_type": "stream",
     "text": [
      "100%|██████████| 219/219 [00:00<?, ?it/s]\n"
     ]
    },
    {
     "name": "stdout",
     "output_type": "stream",
     "text": [
      "Batch conversion completed for log spectrograms. Processed 0 files.\n"
     ]
    },
    {
     "name": "stderr",
     "output_type": "stream",
     "text": [
      "Batches: 100%|██████████| 77/77 [00:10<00:00,  7.29it/s]\n",
      "100%|██████████| 9740/9740 [00:00<00:00, 1620103.15it/s]\n"
     ]
    },
    {
     "name": "stdout",
     "output_type": "stream",
     "text": [
      "Batch conversion completed for spectrograms. Processed 0 files.\n"
     ]
    },
    {
     "name": "stderr",
     "output_type": "stream",
     "text": [
      "100%|██████████| 9740/9740 [00:00<00:00, 1727160.23it/s]\n"
     ]
    },
    {
     "name": "stdout",
     "output_type": "stream",
     "text": [
      "Batch conversion completed for log spectrograms. Processed 0 files.\n"
     ]
    },
    {
     "name": "stderr",
     "output_type": "stream",
     "text": [
      "Batches: 100%|██████████| 77/77 [00:10<00:00,  7.62it/s]\n",
      "100%|██████████| 9740/9740 [00:00<00:00, 1627655.32it/s]\n"
     ]
    },
    {
     "name": "stdout",
     "output_type": "stream",
     "text": [
      "Batch conversion completed for spectrograms. Processed 0 files.\n"
     ]
    },
    {
     "name": "stderr",
     "output_type": "stream",
     "text": [
      "100%|██████████| 9740/9740 [00:00<00:00, 2143814.07it/s]\n"
     ]
    },
    {
     "name": "stdout",
     "output_type": "stream",
     "text": [
      "Batch conversion completed for log spectrograms. Processed 0 files.\n"
     ]
    },
    {
     "name": "stderr",
     "output_type": "stream",
     "text": [
      "Batches: 100%|██████████| 77/77 [00:10<00:00,  7.59it/s]\n",
      "100%|██████████| 9740/9740 [00:00<00:00, 1499175.08it/s]\n"
     ]
    },
    {
     "name": "stdout",
     "output_type": "stream",
     "text": [
      "Batch conversion completed for spectrograms. Processed 0 files.\n"
     ]
    },
    {
     "name": "stderr",
     "output_type": "stream",
     "text": [
      "100%|██████████| 9740/9740 [00:00<00:00, 1567753.51it/s]\n"
     ]
    },
    {
     "name": "stdout",
     "output_type": "stream",
     "text": [
      "Batch conversion completed for log spectrograms. Processed 0 files.\n"
     ]
    }
   ],
   "source": [
    "IEMOCAP_FULL_PATH = os.path.join(os.path.dirname(os.getcwd()),\"IEMOCAP_full_release\")\n",
    "labels_to_int = {'Neutral state': 0,\n",
    "                'Frustration': 1,\n",
    "                'Anger': 2,\n",
    "                'Sadness': 3,\n",
    "                'Happiness': 4,\n",
    "                'Excited': 5,\n",
    "                'Surprise': 6,\n",
    "                'Fear': 7,\n",
    "                'Other': 8,\n",
    "                'Disgust': 9}\n",
    "\n",
    "openIemocapDataset = IemocapDataset(iemocap_dataset_full_path=IEMOCAP_FULL_PATH,\n",
    "                                iemocap_spectrogram_dir=os.path.join(\"iemocap\",\"spectrogram\"),\n",
    "                                iemocap_log_spectrogram_dir=os.path.join(\"iemocap\",\"log_spectrogram\"),\n",
    "                                is_closed_label_set_flag=False,\n",
    "                                labels_to_int=labels_to_int,\n",
    "                                split=None,\n",
    "                                transform=None)\n",
    "closedIemocapDataset = IemocapDataset(iemocap_dataset_full_path=IEMOCAP_FULL_PATH,\n",
    "                                iemocap_spectrogram_dir=os.path.join(\"iemocap\",\"spectrogram\"),\n",
    "                                iemocap_log_spectrogram_dir=os.path.join(\"iemocap\",\"log_spectrogram\"),\n",
    "                                is_closed_label_set_flag=True,\n",
    "                                labels_to_int=labels_to_int,\n",
    "                                split=None,\n",
    "                                transform=None)\n",
    "\n",
    "closedTextOnlyIemocapDataset = IemocapDataset(iemocap_dataset_full_path=IEMOCAP_FULL_PATH,\n",
    "                                    iemocap_spectrogram_dir=os.path.join(\"iemocap\",\"spectrogram\"),\n",
    "                                    iemocap_log_spectrogram_dir=os.path.join(\"iemocap\",\"log_spectrogram\"),\n",
    "                                    is_closed_label_set_flag=True,\n",
    "                                    labels_to_int=labels_to_int,\n",
    "                                    split=None,\n",
    "                                    transform=None,\n",
    "                                    modality = \"text\")\n",
    "\n",
    "closedAudioOnlyIemocapDataset = IemocapDataset(iemocap_dataset_full_path=IEMOCAP_FULL_PATH,\n",
    "                                    iemocap_spectrogram_dir=os.path.join(\"iemocap\",\"spectrogram\"),\n",
    "                                    iemocap_log_spectrogram_dir=os.path.join(\"iemocap\",\"log_spectrogram\"),\n",
    "                                    is_closed_label_set_flag=True,\n",
    "                                    labels_to_int=labels_to_int,\n",
    "                                    split=None,\n",
    "                                    transform=None,\n",
    "                                    modality = \"audio\")"
   ]
  },
  {
   "cell_type": "markdown",
   "metadata": {
    "collapsed": false
   },
   "source": []
  },
  {
   "cell_type": "code",
   "execution_count": 7,
   "metadata": {},
   "outputs": [
    {
     "name": "stdout",
     "output_type": "stream",
     "text": [
      "Counter({1: 3787, 5: 2505, 2: 1204, 3: 1178, 0: 571, 4: 495})\n"
     ]
    },
    {
     "data": {
      "text/plain": [
       "9740"
      ]
     },
     "execution_count": 7,
     "metadata": {},
     "output_type": "execute_result"
    }
   ],
   "source": [
    "print(Counter([i[2] for i in closedIemocapDataset]))\n",
    "len(closedIemocapDataset)"
   ]
  },
  {
   "cell_type": "code",
   "execution_count": 8,
   "metadata": {
    "collapsed": false
   },
   "outputs": [
    {
     "name": "stdout",
     "output_type": "stream",
     "text": [
      "Counter({6: 219})\n"
     ]
    },
    {
     "data": {
      "text/plain": [
       "219"
      ]
     },
     "execution_count": 8,
     "metadata": {},
     "output_type": "execute_result"
    }
   ],
   "source": [
    "print(Counter([i[2] for i in openIemocapDataset]))\n",
    "len(openIemocapDataset)"
   ]
  },
  {
   "cell_type": "code",
   "execution_count": 9,
   "metadata": {},
   "outputs": [],
   "source": [
    "def get_stratified_split(dataset, test_size):\n",
    "\n",
    "    indices = list(range(len(dataset)))\n",
    "    dataset_labels = [item[-1] for item in dataset]\n",
    "    stratified_splitter = StratifiedShuffleSplit(n_splits=1, test_size=test_size, random_state=42)\n",
    "\n",
    "    # Get the indices for training and testing sets\n",
    "    for train_idx, test_idx in stratified_splitter.split(indices, dataset_labels):\n",
    "        train_dataset = torch.utils.data.Subset(dataset, train_idx)\n",
    "        test_dataset = torch.utils.data.Subset(dataset, test_idx)\n",
    "    \n",
    "    return train_dataset,test_dataset"
   ]
  },
  {
   "cell_type": "code",
   "execution_count": 10,
   "metadata": {},
   "outputs": [],
   "source": [
    "# TEXT + AUDIO SPLITS\n",
    "train_dataset, temp_dataset = get_stratified_split(closedIemocapDataset,0.2)\n",
    "val_dataset_1, test_dataset_1 = get_stratified_split(temp_dataset,0.5)\n",
    "val_dataset_2, test_dataset_2 = get_stratified_split(openIemocapDataset,0.5)\n",
    "val_dataset = val_dataset_1+val_dataset_2\n",
    "test_dataset = test_dataset_1+test_dataset_2\n",
    "\n",
    "# TEXT SPLIT\n",
    "train_dataset_text_only, val_dataset_text_only = get_stratified_split(closedTextOnlyIemocapDataset,0.2)\n",
    "\n",
    "# AUDIO SPLIT\n",
    "train_dataset_audio_only, val_dataset_audio_only = get_stratified_split(closedAudioOnlyIemocapDataset,0.2)"
   ]
  },
  {
   "cell_type": "code",
   "execution_count": 11,
   "metadata": {
    "collapsed": false
   },
   "outputs": [],
   "source": [
    "# Create data loaders.\n",
    "batch_size = 64\n",
    "\n",
    "# AUDIO + TEXT DATALOADERS (CONSISTS OF BOTH OPEN AND CLOSED LABELS)\n",
    "train_dataloader = DataLoader(train_dataset, batch_size=batch_size)\n",
    "val_dataloader = DataLoader(val_dataset, batch_size=batch_size)\n",
    "test_dataloader = DataLoader(test_dataset, batch_size=batch_size, shuffle=True)\n",
    "\n",
    "# AUDIO + TEXT DATALOADERS (ONLY CLOSED LABELS - USED FOR CHECKING MODEL PERFORMANCE AFTER KEEPING ASIDE THE OPEN SET CHALLENGE)\n",
    "val_closed_set_dataloader = DataLoader(val_dataset_1, batch_size=batch_size)\n",
    "test_closed_set_dataloader = DataLoader(test_dataset_1, batch_size=batch_size)\n",
    "\n",
    "# TEXT DATALOADERS\n",
    "train_dataloader_text_only = DataLoader(train_dataset_text_only, batch_size=batch_size)\n",
    "val_dataloader_text_only = DataLoader(val_dataset_text_only, batch_size=batch_size)\n",
    "\n",
    "# AUDIO DATALOADERS\n",
    "train_dataloader_audio_only = DataLoader(train_dataset_audio_only, batch_size=batch_size)\n",
    "val_dataloader_audio_only = DataLoader(val_dataset_audio_only, batch_size=batch_size)"
   ]
  },
  {
   "cell_type": "markdown",
   "metadata": {
    "collapsed": false
   },
   "source": [
    "## Model Architectures Definition"
   ]
  },
  {
   "cell_type": "code",
   "execution_count": 12,
   "metadata": {},
   "outputs": [],
   "source": [
    "class EarlyStopping:\n",
    "    def __init__(self, patience=5, delta=0, path='model_checkpoint.pt'):\n",
    "        self.patience = patience\n",
    "        self.delta = delta\n",
    "        self.path = path\n",
    "        self.counter = 0\n",
    "        self.best_score = None\n",
    "        self.early_stop = False\n",
    "        self.val_acc_max = np.Inf\n",
    "\n",
    "    def __call__(self, val_acc, model):\n",
    "\n",
    "        if self.best_score is None:\n",
    "            self.best_score = val_acc\n",
    "            self.save_checkpoint(val_acc, model)\n",
    "        elif val_acc < self.best_score + self.delta:\n",
    "            self.counter += 1\n",
    "            print(f'EarlyStopping counter: {self.counter} out of {self.patience}')\n",
    "            if self.counter >= self.patience:\n",
    "                self.early_stop = True\n",
    "        else:\n",
    "            self.best_score = val_acc\n",
    "            self.save_checkpoint(val_acc, model)\n",
    "            self.counter = 0\n",
    "\n",
    "    def save_checkpoint(self, val_acc, model):\n",
    "        torch.save(model.state_dict(), self.path)\n",
    "        self.val_loss_min = val_acc"
   ]
  },
  {
   "cell_type": "markdown",
   "metadata": {},
   "source": [
    "### Text Unimodal"
   ]
  },
  {
   "cell_type": "code",
   "execution_count": 13,
   "metadata": {},
   "outputs": [
    {
     "data": {
      "text/plain": [
       "TextEmotionModel(\n",
       "  (fc): Sequential(\n",
       "    (0): Linear(in_features=768, out_features=1024, bias=True)\n",
       "    (1): BatchNorm1d(1024, eps=1e-05, momentum=0.1, affine=True, track_running_stats=True)\n",
       "    (2): Dropout(p=0.2, inplace=False)\n",
       "    (3): ReLU()\n",
       "    (4): Linear(in_features=1024, out_features=512, bias=True)\n",
       "    (5): BatchNorm1d(512, eps=1e-05, momentum=0.1, affine=True, track_running_stats=True)\n",
       "    (6): Dropout(p=0.2, inplace=False)\n",
       "    (7): ReLU()\n",
       "    (8): Linear(in_features=512, out_features=6, bias=True)\n",
       "  )\n",
       ")"
      ]
     },
     "execution_count": 13,
     "metadata": {},
     "output_type": "execute_result"
    }
   ],
   "source": [
    "class TextEmotionModel(nn.Module):\n",
    "    def __init__(self, num_classes):\n",
    "        super(TextEmotionModel, self).__init__()\n",
    "        # sequential model with 2 layers, followed by dropout and relu layers and output layer\n",
    "        self.fc = nn.Sequential(\n",
    "            nn.Linear(768, 1024),\n",
    "            nn.BatchNorm1d(1024),\n",
    "            nn.Dropout(0.2),\n",
    "            nn.ReLU(),\n",
    "            nn.Linear(1024, 512),\n",
    "            nn.BatchNorm1d(512),\n",
    "            nn.Dropout(0.2),\n",
    "            nn.ReLU(),\n",
    "            nn.Linear(512, num_classes)\n",
    "        )\n",
    "\n",
    "\n",
    "    def forward(self, text):\n",
    "        return self.fc(text)\n",
    "\n",
    "\n",
    "text_model = TextEmotionModel(6)\n",
    "text_model.to(device)"
   ]
  },
  {
   "cell_type": "markdown",
   "metadata": {},
   "source": [
    "### Audio Unimodal"
   ]
  },
  {
   "cell_type": "code",
   "execution_count": 14,
   "metadata": {},
   "outputs": [
    {
     "data": {
      "text/plain": [
       "AudioEmotionModel(\n",
       "  (fc): Sequential(\n",
       "    (0): Linear(in_features=2048, out_features=1024, bias=True)\n",
       "    (1): BatchNorm1d(1024, eps=1e-05, momentum=0.1, affine=True, track_running_stats=True)\n",
       "    (2): Dropout(p=0.2, inplace=False)\n",
       "    (3): ReLU()\n",
       "    (4): Linear(in_features=1024, out_features=512, bias=True)\n",
       "    (5): BatchNorm1d(512, eps=1e-05, momentum=0.1, affine=True, track_running_stats=True)\n",
       "    (6): Dropout(p=0.2, inplace=False)\n",
       "    (7): ReLU()\n",
       "    (8): Linear(in_features=512, out_features=6, bias=True)\n",
       "  )\n",
       ")"
      ]
     },
     "execution_count": 14,
     "metadata": {},
     "output_type": "execute_result"
    }
   ],
   "source": [
    "class AudioEmotionModel(nn.Module):\n",
    "    def __init__(self, num_classes):\n",
    "        super(AudioEmotionModel, self).__init__()\n",
    "        # sequential model with 2 layers, followed by dropout and relu layers and output layer\n",
    "        self.fc = nn.Sequential(\n",
    "            nn.Linear(2048, 1024),\n",
    "            nn.BatchNorm1d(1024),\n",
    "            nn.Dropout(0.2),\n",
    "            nn.ReLU(),\n",
    "            nn.Linear(1024, 512),\n",
    "            nn.BatchNorm1d(512),\n",
    "            nn.Dropout(0.2),\n",
    "            nn.ReLU(),\n",
    "            nn.Linear(512, num_classes)\n",
    "        )\n",
    "\n",
    "\n",
    "    def forward(self, audio):\n",
    "        return self.fc(audio)\n",
    "\n",
    "\n",
    "audio_model = AudioEmotionModel(6)\n",
    "audio_model.to(device)"
   ]
  },
  {
   "cell_type": "markdown",
   "metadata": {},
   "source": [
    "### Multimodal"
   ]
  },
  {
   "cell_type": "code",
   "execution_count": 15,
   "metadata": {
    "collapsed": false
   },
   "outputs": [
    {
     "data": {
      "text/plain": [
       "AudioTextEmotionModel(\n",
       "  (fc): Sequential(\n",
       "    (0): Linear(in_features=2816, out_features=1024, bias=True)\n",
       "    (1): BatchNorm1d(1024, eps=1e-05, momentum=0.1, affine=True, track_running_stats=True)\n",
       "    (2): Dropout(p=0.2, inplace=False)\n",
       "    (3): ReLU()\n",
       "    (4): Linear(in_features=1024, out_features=512, bias=True)\n",
       "    (5): BatchNorm1d(512, eps=1e-05, momentum=0.1, affine=True, track_running_stats=True)\n",
       "    (6): Dropout(p=0.2, inplace=False)\n",
       "    (7): ReLU()\n",
       "    (8): Linear(in_features=512, out_features=6, bias=True)\n",
       "  )\n",
       ")"
      ]
     },
     "execution_count": 15,
     "metadata": {},
     "output_type": "execute_result"
    }
   ],
   "source": [
    "class AudioTextEmotionModel(nn.Module):\n",
    "    def __init__(self, num_classes):\n",
    "        super(AudioTextEmotionModel, self).__init__()\n",
    "        # sequential model with 2 layers, followed by dropout and relu layers and output layer\n",
    "        self.fc = nn.Sequential(\n",
    "            nn.Linear(2048 + 768, 1024),\n",
    "            nn.BatchNorm1d(1024),\n",
    "            nn.Dropout(0.2),\n",
    "            nn.ReLU(),\n",
    "            nn.Linear(1024, 512),\n",
    "            nn.BatchNorm1d(512),\n",
    "            nn.Dropout(0.2),\n",
    "            nn.ReLU(),\n",
    "            nn.Linear(512, num_classes)\n",
    "        )\n",
    "\n",
    "\n",
    "    def forward(self, text, audio):\n",
    "        combined = torch.cat([audio, text], axis=1)\n",
    "        return self.fc(combined)\n",
    "\n",
    "\n",
    "model = AudioTextEmotionModel(6)\n",
    "model.to(device)\n"
   ]
  },
  {
   "cell_type": "markdown",
   "metadata": {
    "collapsed": false
   },
   "source": [
    "## Loss Function and Optimizer (of the 2 unimodal models and the multimodal model)"
   ]
  },
  {
   "cell_type": "code",
   "execution_count": 16,
   "metadata": {
    "collapsed": false
   },
   "outputs": [],
   "source": [
    "# TEXT ONLY \n",
    "loss_fn_text = nn.CrossEntropyLoss()\n",
    "optimizer_text = torch.optim.RMSprop(text_model.parameters(), lr=1e-3, momentum=0.9)\n",
    "scheduler_text = ReduceLROnPlateau(optimizer_text, mode='max', factor=0.1, patience=3, verbose=True)\n",
    "\n",
    "# AUDIO ONLY\n",
    "loss_fn_audio = nn.CrossEntropyLoss()\n",
    "optimizer_audio = torch.optim.RMSprop(audio_model.parameters(), lr=1e-3, momentum=0.9)\n",
    "scheduler_audio = ReduceLROnPlateau(optimizer_audio, mode='max', factor=0.1, patience=3, verbose=True)\n",
    "\n",
    "# TEXT + AUDIO\n",
    "loss_fn = nn.CrossEntropyLoss()\n",
    "optimizer = torch.optim.RMSprop(model.parameters(), lr=1e-3, momentum=0.9)\n",
    "scheduler = ReduceLROnPlateau(optimizer, mode='max', factor=0.1, patience=3, verbose=True)\n",
    "\n",
    "num_epochs = 100"
   ]
  },
  {
   "cell_type": "markdown",
   "metadata": {
    "collapsed": false
   },
   "source": [
    "## Train (the 2 unimodal models and the multimodal model on only closed set labels to test the performance. We have kept aside the open set challenge for now)"
   ]
  },
  {
   "cell_type": "code",
   "execution_count": 17,
   "metadata": {
    "collapsed": false
   },
   "outputs": [],
   "source": [
    "def accuracy(dataloader, model):\n",
    "    size = len(dataloader.dataset)\n",
    "    total_correct = 0\n",
    "    model.eval()\n",
    "    for batch, x_and_y in enumerate(dataloader):\n",
    "        x_and_y_device = [x_and_y[i].to(device) for i in range(len(x_and_y))]\n",
    "\n",
    "        # Compute prediction error\n",
    "        pred = model(*x_and_y_device[:-1])\n",
    "        predicted = torch.argmax(pred,dim=1).cpu()\n",
    "        label = x_and_y_device[-1]\n",
    "        actual = label.cpu()\n",
    "        correct = predicted == actual\n",
    "        total_correct += correct.sum().item()\n",
    "    return total_correct/size\n",
    "\n",
    "def train(dataloader, model, loss_fn, optimizer):\n",
    "    size = len(dataloader.dataset)\n",
    "    model.train()\n",
    "    for batch, x_and_y in enumerate(dataloader):\n",
    "        x_and_y_device = [x_and_y[i].to(device) for i in range(len(x_and_y))]\n",
    "\n",
    "        # Compute prediction error\n",
    "        pred = model(*x_and_y[:-1])\n",
    "        label = x_and_y_device[-1]\n",
    "        loss = loss_fn(pred, label)\n",
    "        # acc = accuracy_score(torch.argmax(pred,dim=1).cpu(), label.cpu())\n",
    "        # f1 = f1_score(torch.argmax(pred,dim=1).cpu(),label.cpu(),average=\"micro\")\n",
    "\n",
    "        # Backpropagation\n",
    "        loss.backward()\n",
    "        optimizer.step()\n",
    "        optimizer.zero_grad()\n",
    "\n",
    "        if batch % 100 == 0:\n",
    "            loss, current = loss.item(), (batch + 1) * len(x_and_y_device[0])\n",
    "            # print(f\"loss: {loss:>7f}\\t\\tAccuracy: {acc:>7f}\\t\\tF1 Score: {f1:>7f}  [{current:>5d}/{size:>5d}]\")\n",
    "            \n",
    "            print(f\"loss: {loss:>7f}  [{current:>5d}/{size:>5d}]\")"
   ]
  },
  {
   "cell_type": "markdown",
   "metadata": {},
   "source": [
    "### Text Unimodal Training"
   ]
  },
  {
   "cell_type": "code",
   "execution_count": 18,
   "metadata": {},
   "outputs": [
    {
     "name": "stdout",
     "output_type": "stream",
     "text": [
      "Epoch 1\n",
      "-------------------------------\n"
     ]
    },
    {
     "name": "stdout",
     "output_type": "stream",
     "text": [
      "loss: 1.954727  [   64/ 7792]\n",
      "loss: 1.604673  [ 6464/ 7792]\n",
      "Accuracy on Train Set => 0.538629363449692 | Accuracy on Closed Validation Set => 0.4912731006160164\n",
      "Epoch 2\n",
      "-------------------------------\n",
      "loss: 1.290629  [   64/ 7792]\n",
      "loss: 1.507148  [ 6464/ 7792]\n",
      "Accuracy on Train Set => 0.5954825462012321 | Accuracy on Closed Validation Set => 0.5133470225872689\n",
      "Epoch 3\n",
      "-------------------------------\n",
      "loss: 1.201499  [   64/ 7792]\n",
      "loss: 1.352405  [ 6464/ 7792]\n",
      "Accuracy on Train Set => 0.6309034907597536 | Accuracy on Closed Validation Set => 0.5143737166324436\n",
      "Epoch 4\n",
      "-------------------------------\n",
      "loss: 1.104843  [   64/ 7792]\n",
      "loss: 1.327033  [ 6464/ 7792]\n",
      "Accuracy on Train Set => 0.6731262833675564 | Accuracy on Closed Validation Set => 0.5313141683778234\n",
      "Epoch 5\n",
      "-------------------------------\n",
      "loss: 1.072112  [   64/ 7792]\n",
      "loss: 1.142216  [ 6464/ 7792]\n",
      "Accuracy on Train Set => 0.7029004106776181 | Accuracy on Closed Validation Set => 0.5251540041067762\n",
      "EarlyStopping counter: 1 out of 9\n",
      "Epoch 6\n",
      "-------------------------------\n",
      "loss: 0.883662  [   64/ 7792]\n",
      "loss: 1.104059  [ 6464/ 7792]\n",
      "Accuracy on Train Set => 0.7136806981519507 | Accuracy on Closed Validation Set => 0.5030800821355236\n",
      "EarlyStopping counter: 2 out of 9\n",
      "Epoch 7\n",
      "-------------------------------\n",
      "loss: 0.730688  [   64/ 7792]\n",
      "loss: 0.971188  [ 6464/ 7792]\n",
      "Accuracy on Train Set => 0.7437114989733059 | Accuracy on Closed Validation Set => 0.5\n",
      "EarlyStopping counter: 3 out of 9\n",
      "Epoch 8\n",
      "-------------------------------\n",
      "loss: 0.716096  [   64/ 7792]\n",
      "loss: 0.860871  [ 6464/ 7792]\n",
      "Accuracy on Train Set => 0.7736139630390144 | Accuracy on Closed Validation Set => 0.5174537987679672\n",
      "EarlyStopping counter: 4 out of 9\n",
      "Epoch 9\n",
      "-------------------------------\n",
      "loss: 0.647869  [   64/ 7792]\n",
      "loss: 0.511627  [ 6464/ 7792]\n",
      "Accuracy on Train Set => 0.8322638603696099 | Accuracy on Closed Validation Set => 0.5302874743326489\n",
      "EarlyStopping counter: 5 out of 9\n",
      "Epoch 10\n",
      "-------------------------------\n",
      "loss: 0.486020  [   64/ 7792]\n",
      "loss: 0.430362  [ 6464/ 7792]\n",
      "Accuracy on Train Set => 0.8467659137577002 | Accuracy on Closed Validation Set => 0.534394250513347\n",
      "Epoch 11\n",
      "-------------------------------\n",
      "loss: 0.418722  [   64/ 7792]\n",
      "loss: 0.489460  [ 6464/ 7792]\n",
      "Accuracy on Train Set => 0.8558778234086243 | Accuracy on Closed Validation Set => 0.5333675564681725\n",
      "EarlyStopping counter: 1 out of 9\n",
      "Epoch 12\n",
      "-------------------------------\n",
      "loss: 0.438579  [   64/ 7792]\n",
      "loss: 0.391891  [ 6464/ 7792]\n",
      "Accuracy on Train Set => 0.8653747433264887 | Accuracy on Closed Validation Set => 0.5349075975359343\n",
      "Epoch 13\n",
      "-------------------------------\n",
      "loss: 0.396896  [   64/ 7792]\n",
      "loss: 0.320527  [ 6464/ 7792]\n",
      "Accuracy on Train Set => 0.8694815195071869 | Accuracy on Closed Validation Set => 0.5328542094455853\n",
      "EarlyStopping counter: 1 out of 9\n",
      "Epoch 14\n",
      "-------------------------------\n",
      "loss: 0.346589  [   64/ 7792]\n",
      "loss: 0.423036  [ 6464/ 7792]\n",
      "Accuracy on Train Set => 0.8733316221765913 | Accuracy on Closed Validation Set => 0.5323408624229979\n",
      "EarlyStopping counter: 2 out of 9\n",
      "Epoch 15\n",
      "-------------------------------\n",
      "loss: 0.334417  [   64/ 7792]\n",
      "loss: 0.369143  [ 6464/ 7792]\n",
      "Accuracy on Train Set => 0.8766683778234087 | Accuracy on Closed Validation Set => 0.5261806981519507\n",
      "EarlyStopping counter: 3 out of 9\n",
      "Epoch 16\n",
      "-------------------------------\n",
      "loss: 0.281736  [   64/ 7792]\n",
      "loss: 0.322261  [ 6464/ 7792]\n",
      "Accuracy on Train Set => 0.8807751540041068 | Accuracy on Closed Validation Set => 0.5318275154004107\n",
      "EarlyStopping counter: 4 out of 9\n",
      "Epoch 17\n",
      "-------------------------------\n",
      "loss: 0.233766  [   64/ 7792]\n",
      "loss: 0.370103  [ 6464/ 7792]\n",
      "Accuracy on Train Set => 0.882058521560575 | Accuracy on Closed Validation Set => 0.5354209445585215\n",
      "Epoch 18\n",
      "-------------------------------\n",
      "loss: 0.249103  [   64/ 7792]\n",
      "loss: 0.288327  [ 6464/ 7792]\n",
      "Accuracy on Train Set => 0.8830852156057495 | Accuracy on Closed Validation Set => 0.5349075975359343\n",
      "EarlyStopping counter: 1 out of 9\n",
      "Epoch 19\n",
      "-------------------------------\n",
      "loss: 0.288470  [   64/ 7792]\n",
      "loss: 0.375613  [ 6464/ 7792]\n",
      "Accuracy on Train Set => 0.8846252566735113 | Accuracy on Closed Validation Set => 0.5338809034907598\n",
      "EarlyStopping counter: 2 out of 9\n",
      "Epoch 20\n",
      "-------------------------------\n",
      "loss: 0.231759  [   64/ 7792]\n",
      "loss: 0.341344  [ 6464/ 7792]\n",
      "Accuracy on Train Set => 0.8843685831622177 | Accuracy on Closed Validation Set => 0.5333675564681725\n",
      "EarlyStopping counter: 3 out of 9\n",
      "Epoch 21\n",
      "-------------------------------\n",
      "loss: 0.259437  [   64/ 7792]\n",
      "loss: 0.266918  [ 6464/ 7792]\n",
      "Accuracy on Train Set => 0.8842402464065708 | Accuracy on Closed Validation Set => 0.5338809034907598\n",
      "EarlyStopping counter: 4 out of 9\n",
      "Epoch 22\n",
      "-------------------------------\n",
      "loss: 0.197788  [   64/ 7792]\n",
      "loss: 0.252263  [ 6464/ 7792]\n",
      "Accuracy on Train Set => 0.8850102669404517 | Accuracy on Closed Validation Set => 0.5328542094455853\n",
      "EarlyStopping counter: 5 out of 9\n",
      "Epoch 23\n",
      "-------------------------------\n",
      "loss: 0.238789  [   64/ 7792]\n",
      "loss: 0.352903  [ 6464/ 7792]\n",
      "Accuracy on Train Set => 0.8851386036960985 | Accuracy on Closed Validation Set => 0.5323408624229979\n",
      "EarlyStopping counter: 6 out of 9\n",
      "Epoch 24\n",
      "-------------------------------\n",
      "loss: 0.225150  [   64/ 7792]\n",
      "loss: 0.244097  [ 6464/ 7792]\n",
      "Accuracy on Train Set => 0.8843685831622177 | Accuracy on Closed Validation Set => 0.534394250513347\n",
      "EarlyStopping counter: 7 out of 9\n",
      "Epoch 25\n",
      "-------------------------------\n",
      "loss: 0.274243  [   64/ 7792]\n",
      "loss: 0.274051  [ 6464/ 7792]\n",
      "Accuracy on Train Set => 0.8846252566735113 | Accuracy on Closed Validation Set => 0.5338809034907598\n",
      "EarlyStopping counter: 8 out of 9\n",
      "Epoch 26\n",
      "-------------------------------\n",
      "loss: 0.229270  [   64/ 7792]\n",
      "loss: 0.245430  [ 6464/ 7792]\n",
      "Accuracy on Train Set => 0.8843685831622177 | Accuracy on Closed Validation Set => 0.5328542094455853\n",
      "EarlyStopping counter: 9 out of 9\n",
      "Early stopping\n"
     ]
    }
   ],
   "source": [
    "early_stopping_text = EarlyStopping(patience=9, delta=0, path=\"text_model.pt\")\n",
    "for epoch in range(num_epochs):\n",
    "    print(f\"Epoch {epoch+1}\\n-------------------------------\")\n",
    "    train(train_dataloader_text_only, text_model, loss_fn_text, optimizer_text)\n",
    "    train_accuracy = accuracy(train_dataloader_text_only,text_model)\n",
    "    val_accuracy = accuracy(val_dataloader_text_only,text_model)\n",
    "    print(f\"Accuracy on Train Set => {train_accuracy} | Accuracy on Closed Validation Set => {val_accuracy}\")\n",
    "    scheduler_text.step(val_accuracy)\n",
    "    early_stopping_text(val_accuracy,text_model)\n",
    "    if early_stopping_text.early_stop:\n",
    "        print(\"Early stopping\")\n",
    "        break"
   ]
  },
  {
   "cell_type": "markdown",
   "metadata": {},
   "source": [
    "### Audio Unimodal Training"
   ]
  },
  {
   "cell_type": "code",
   "execution_count": 19,
   "metadata": {},
   "outputs": [
    {
     "name": "stdout",
     "output_type": "stream",
     "text": [
      "Epoch 1\n",
      "-------------------------------\n",
      "loss: 1.936278  [   64/ 7792]\n"
     ]
    },
    {
     "name": "stdout",
     "output_type": "stream",
     "text": [
      "loss: 1.720240  [ 6464/ 7792]\n",
      "Accuracy on Train Set => 0.4167094455852156 | Accuracy on Closed Validation Set => 0.40143737166324434\n",
      "Epoch 2\n",
      "-------------------------------\n",
      "loss: 1.509226  [   64/ 7792]\n",
      "loss: 1.598263  [ 6464/ 7792]\n",
      "Accuracy on Train Set => 0.43724332648870634 | Accuracy on Closed Validation Set => 0.41940451745379875\n",
      "Epoch 3\n",
      "-------------------------------\n",
      "loss: 1.415580  [   64/ 7792]\n",
      "loss: 1.617367  [ 6464/ 7792]\n",
      "Accuracy on Train Set => 0.45880390143737165 | Accuracy on Closed Validation Set => 0.43788501026694043\n",
      "Epoch 4\n",
      "-------------------------------\n",
      "loss: 1.355079  [   64/ 7792]\n",
      "loss: 1.536951  [ 6464/ 7792]\n",
      "Accuracy on Train Set => 0.476129363449692 | Accuracy on Closed Validation Set => 0.43480492813141686\n",
      "EarlyStopping counter: 1 out of 9\n",
      "Epoch 5\n",
      "-------------------------------\n",
      "loss: 1.326905  [   64/ 7792]\n",
      "loss: 1.556101  [ 6464/ 7792]\n",
      "Accuracy on Train Set => 0.49525154004106775 | Accuracy on Closed Validation Set => 0.4296714579055442\n",
      "EarlyStopping counter: 2 out of 9\n",
      "Epoch 6\n",
      "-------------------------------\n",
      "loss: 1.293923  [   64/ 7792]\n",
      "loss: 1.482113  [ 6464/ 7792]\n",
      "Accuracy on Train Set => 0.5050051334702259 | Accuracy on Closed Validation Set => 0.42505133470225875\n",
      "EarlyStopping counter: 3 out of 9\n",
      "Epoch 7\n",
      "-------------------------------\n",
      "loss: 1.237379  [   64/ 7792]\n",
      "loss: 1.348364  [ 6464/ 7792]\n",
      "Accuracy on Train Set => 0.5391427104722792 | Accuracy on Closed Validation Set => 0.41940451745379875\n",
      "EarlyStopping counter: 4 out of 9\n",
      "Epoch 8\n",
      "-------------------------------\n",
      "loss: 1.046962  [   64/ 7792]\n",
      "loss: 1.130349  [ 6464/ 7792]\n",
      "Accuracy on Train Set => 0.5927874743326489 | Accuracy on Closed Validation Set => 0.44353182751540043\n",
      "Epoch 9\n",
      "-------------------------------\n",
      "loss: 1.068945  [   64/ 7792]\n",
      "loss: 1.110667  [ 6464/ 7792]\n",
      "Accuracy on Train Set => 0.6223049281314168 | Accuracy on Closed Validation Set => 0.433264887063655\n",
      "EarlyStopping counter: 1 out of 9\n",
      "Epoch 10\n",
      "-------------------------------\n",
      "loss: 1.044960  [   64/ 7792]\n",
      "loss: 0.995000  [ 6464/ 7792]\n",
      "Accuracy on Train Set => 0.6423254620123203 | Accuracy on Closed Validation Set => 0.43788501026694043\n",
      "EarlyStopping counter: 2 out of 9\n",
      "Epoch 11\n",
      "-------------------------------\n",
      "loss: 1.030903  [   64/ 7792]\n",
      "loss: 1.015321  [ 6464/ 7792]\n",
      "Accuracy on Train Set => 0.6626026694045175 | Accuracy on Closed Validation Set => 0.4286447638603696\n",
      "EarlyStopping counter: 3 out of 9\n",
      "Epoch 12\n",
      "-------------------------------\n",
      "loss: 0.942957  [   64/ 7792]\n",
      "loss: 0.940776  [ 6464/ 7792]\n",
      "Accuracy on Train Set => 0.6772330595482546 | Accuracy on Closed Validation Set => 0.43018480492813144\n",
      "EarlyStopping counter: 4 out of 9\n",
      "Epoch 13\n",
      "-------------------------------\n",
      "loss: 0.859973  [   64/ 7792]\n",
      "loss: 0.879008  [ 6464/ 7792]\n",
      "Accuracy on Train Set => 0.6828798767967146 | Accuracy on Closed Validation Set => 0.43480492813141686\n",
      "EarlyStopping counter: 5 out of 9\n",
      "Epoch 14\n",
      "-------------------------------\n",
      "loss: 0.848179  [   64/ 7792]\n",
      "loss: 0.904457  [ 6464/ 7792]\n",
      "Accuracy on Train Set => 0.6857032854209446 | Accuracy on Closed Validation Set => 0.4317248459958932\n",
      "EarlyStopping counter: 6 out of 9\n",
      "Epoch 15\n",
      "-------------------------------\n",
      "loss: 0.870485  [   64/ 7792]\n",
      "loss: 0.820743  [ 6464/ 7792]\n",
      "Accuracy on Train Set => 0.6904517453798767 | Accuracy on Closed Validation Set => 0.4337782340862423\n",
      "EarlyStopping counter: 7 out of 9\n",
      "Epoch 16\n",
      "-------------------------------\n",
      "loss: 0.829880  [   64/ 7792]\n",
      "loss: 0.916803  [ 6464/ 7792]\n",
      "Accuracy on Train Set => 0.6919917864476386 | Accuracy on Closed Validation Set => 0.43275154004106775\n",
      "EarlyStopping counter: 8 out of 9\n",
      "Epoch 17\n",
      "-------------------------------\n",
      "loss: 0.876971  [   64/ 7792]\n",
      "loss: 0.831702  [ 6464/ 7792]\n",
      "Accuracy on Train Set => 0.69314681724846 | Accuracy on Closed Validation Set => 0.4337782340862423\n",
      "EarlyStopping counter: 9 out of 9\n",
      "Early stopping\n"
     ]
    }
   ],
   "source": [
    "early_stopping_audio = EarlyStopping(patience=9, delta=0, path=\"audio_model.pt\")\n",
    "for epoch in range(num_epochs):\n",
    "    print(f\"Epoch {epoch+1}\\n-------------------------------\")\n",
    "    train(train_dataloader_audio_only, audio_model, loss_fn_audio, optimizer_audio)\n",
    "    train_accuracy = accuracy(train_dataloader_audio_only,audio_model)\n",
    "    val_accuracy = accuracy(val_dataloader_audio_only,audio_model)\n",
    "    print(f\"Accuracy on Train Set => {train_accuracy} | Accuracy on Closed Validation Set => {val_accuracy}\")\n",
    "    scheduler_audio.step(val_accuracy)\n",
    "    early_stopping_audio(val_accuracy,audio_model)\n",
    "    if early_stopping_audio.early_stop:\n",
    "        print(\"Early stopping\")\n",
    "        break"
   ]
  },
  {
   "cell_type": "markdown",
   "metadata": {},
   "source": [
    "### Multimodal Training"
   ]
  },
  {
   "cell_type": "code",
   "execution_count": 20,
   "metadata": {},
   "outputs": [
    {
     "name": "stdout",
     "output_type": "stream",
     "text": [
      "Epoch 1\n",
      "-------------------------------\n",
      "loss: 1.916712  [   64/ 7792]\n",
      "loss: 1.618428  [ 6464/ 7792]\n",
      "Accuracy on Train Set => 0.5232289527720739 | Accuracy on Closed Validation Set => 0.4917864476386037\n",
      "Epoch 2\n",
      "-------------------------------\n",
      "loss: 1.245455  [   64/ 7792]\n",
      "loss: 1.407195  [ 6464/ 7792]\n",
      "Accuracy on Train Set => 0.5754620123203286 | Accuracy on Closed Validation Set => 0.5318275154004107\n",
      "Epoch 3\n",
      "-------------------------------\n",
      "loss: 1.124364  [   64/ 7792]\n",
      "loss: 1.265554  [ 6464/ 7792]\n",
      "Accuracy on Train Set => 0.6242299794661191 | Accuracy on Closed Validation Set => 0.5379876796714579\n",
      "Epoch 4\n",
      "-------------------------------\n",
      "loss: 1.037282  [   64/ 7792]\n",
      "loss: 1.210520  [ 6464/ 7792]\n",
      "Accuracy on Train Set => 0.6597792607802875 | Accuracy on Closed Validation Set => 0.5328542094455853\n",
      "EarlyStopping counter: 1 out of 9\n",
      "Epoch 5\n",
      "-------------------------------\n",
      "loss: 0.995822  [   64/ 7792]\n",
      "loss: 1.043528  [ 6464/ 7792]\n",
      "Accuracy on Train Set => 0.7136806981519507 | Accuracy on Closed Validation Set => 0.5523613963039015\n",
      "Epoch 6\n",
      "-------------------------------\n",
      "loss: 0.917821  [   64/ 7792]\n",
      "loss: 0.886757  [ 6464/ 7792]\n",
      "Accuracy on Train Set => 0.7458932238193019 | Accuracy on Closed Validation Set => 0.5164271047227926\n",
      "EarlyStopping counter: 1 out of 9\n",
      "Epoch 7\n",
      "-------------------------------\n",
      "loss: 0.673073  [   64/ 7792]\n",
      "loss: 0.747800  [ 6464/ 7792]\n",
      "Accuracy on Train Set => 0.7954312114989733 | Accuracy on Closed Validation Set => 0.5030800821355236\n",
      "EarlyStopping counter: 2 out of 9\n",
      "Epoch 8\n",
      "-------------------------------\n",
      "loss: 0.529906  [   64/ 7792]\n",
      "loss: 0.580130  [ 6464/ 7792]\n",
      "Accuracy on Train Set => 0.8000513347022588 | Accuracy on Closed Validation Set => 0.5123203285420944\n",
      "EarlyStopping counter: 3 out of 9\n",
      "Epoch 9\n",
      "-------------------------------\n",
      "loss: 0.617679  [   64/ 7792]\n",
      "loss: 0.467483  [ 6464/ 7792]\n",
      "Accuracy on Train Set => 0.7979979466119097 | Accuracy on Closed Validation Set => 0.46611909650924027\n",
      "EarlyStopping counter: 4 out of 9\n",
      "Epoch 10\n",
      "-------------------------------\n",
      "loss: 0.549055  [   64/ 7792]\n",
      "loss: 0.295707  [ 6464/ 7792]\n",
      "Accuracy on Train Set => 0.929799794661191 | Accuracy on Closed Validation Set => 0.5400410677618069\n",
      "EarlyStopping counter: 5 out of 9\n",
      "Epoch 11\n",
      "-------------------------------\n",
      "loss: 0.257992  [   64/ 7792]\n",
      "loss: 0.178730  [ 6464/ 7792]\n",
      "Accuracy on Train Set => 0.9521303901437371 | Accuracy on Closed Validation Set => 0.5523613963039015\n",
      "Epoch 12\n",
      "-------------------------------\n",
      "loss: 0.156461  [   64/ 7792]\n",
      "loss: 0.146833  [ 6464/ 7792]\n",
      "Accuracy on Train Set => 0.9640657084188912 | Accuracy on Closed Validation Set => 0.5646817248459959\n",
      "Epoch 13\n",
      "-------------------------------\n",
      "loss: 0.167324  [   64/ 7792]\n",
      "loss: 0.114903  [ 6464/ 7792]\n",
      "Accuracy on Train Set => 0.9702258726899384 | Accuracy on Closed Validation Set => 0.5503080082135524\n",
      "EarlyStopping counter: 1 out of 9\n",
      "Epoch 14\n",
      "-------------------------------\n",
      "loss: 0.135700  [   64/ 7792]\n",
      "loss: 0.077571  [ 6464/ 7792]\n",
      "Accuracy on Train Set => 0.976129363449692 | Accuracy on Closed Validation Set => 0.5523613963039015\n",
      "EarlyStopping counter: 2 out of 9\n",
      "Epoch 15\n",
      "-------------------------------\n",
      "loss: 0.148260  [   64/ 7792]\n",
      "loss: 0.085404  [ 6464/ 7792]\n",
      "Accuracy on Train Set => 0.981776180698152 | Accuracy on Closed Validation Set => 0.5513347022587269\n",
      "EarlyStopping counter: 3 out of 9\n",
      "Epoch 16\n",
      "-------------------------------\n",
      "loss: 0.084420  [   64/ 7792]\n",
      "loss: 0.075667  [ 6464/ 7792]\n",
      "Accuracy on Train Set => 0.9866529774127311 | Accuracy on Closed Validation Set => 0.5574948665297741\n",
      "EarlyStopping counter: 4 out of 9\n",
      "Epoch 17\n",
      "-------------------------------\n",
      "loss: 0.098992  [   64/ 7792]\n",
      "loss: 0.052652  [ 6464/ 7792]\n",
      "Accuracy on Train Set => 0.9888347022587269 | Accuracy on Closed Validation Set => 0.5564681724845996\n",
      "EarlyStopping counter: 5 out of 9\n",
      "Epoch 18\n",
      "-------------------------------\n",
      "loss: 0.092619  [   64/ 7792]\n",
      "loss: 0.046815  [ 6464/ 7792]\n",
      "Accuracy on Train Set => 0.9901180698151951 | Accuracy on Closed Validation Set => 0.5605749486652978\n",
      "EarlyStopping counter: 6 out of 9\n",
      "Epoch 19\n",
      "-------------------------------\n",
      "loss: 0.068501  [   64/ 7792]\n",
      "loss: 0.085679  [ 6464/ 7792]\n",
      "Accuracy on Train Set => 0.9898613963039015 | Accuracy on Closed Validation Set => 0.555441478439425\n",
      "EarlyStopping counter: 7 out of 9\n",
      "Epoch 20\n",
      "-------------------------------\n",
      "loss: 0.063877  [   64/ 7792]\n",
      "loss: 0.047602  [ 6464/ 7792]\n",
      "Accuracy on Train Set => 0.9912731006160165 | Accuracy on Closed Validation Set => 0.5595482546201233\n",
      "EarlyStopping counter: 8 out of 9\n",
      "Epoch 21\n",
      "-------------------------------\n",
      "loss: 0.077673  [   64/ 7792]\n",
      "loss: 0.036405  [ 6464/ 7792]\n",
      "Accuracy on Train Set => 0.9912731006160165 | Accuracy on Closed Validation Set => 0.5626283367556468\n",
      "EarlyStopping counter: 9 out of 9\n",
      "Early stopping\n"
     ]
    }
   ],
   "source": [
    "early_stopping = EarlyStopping(patience=9, delta=0)\n",
    "for epoch in range(num_epochs):\n",
    "    print(f\"Epoch {epoch+1}\\n-------------------------------\")\n",
    "    train(train_dataloader, model, loss_fn, optimizer)\n",
    "    print(f\"Accuracy on Train Set => {accuracy(train_dataloader,model)} | Accuracy on Closed Validation Set => {accuracy(val_closed_set_dataloader,model)}\")\n",
    "    scheduler.step(accuracy(val_closed_set_dataloader,model))\n",
    "    early_stopping(accuracy(val_closed_set_dataloader,model),model)\n",
    "    if early_stopping.early_stop:\n",
    "        print(\"Early stopping\")\n",
    "        break"
   ]
  },
  {
   "cell_type": "markdown",
   "metadata": {
    "collapsed": false
   },
   "source": [
    "## Evaluation (of the multimodal model on closed and open set labels both)"
   ]
  },
  {
   "cell_type": "code",
   "execution_count": 21,
   "metadata": {
    "collapsed": false
   },
   "outputs": [],
   "source": [
    "def set_dropout_to_train(eval_model):\n",
    "    for module in eval_model.modules():\n",
    "        if isinstance(module, nn.Dropout):\n",
    "            module.train()\n",
    "\n",
    "def predict(label, model, text, spectrogram_data, n_simulations=100, threshold=1, other_label=OTHER_LABEL):\n",
    "    predictions = [model(text, spectrogram_data).detach().cpu() for _ in range(n_simulations)]\n",
    "    predictions = torch.stack(predictions)\n",
    "    predictions = F.softmax(predictions, dim=2)\n",
    "\n",
    "    mean_predictions = torch.mean(predictions,dim=0)\n",
    "    std_predictions = torch.mean(torch.std(predictions,dim=0),dim=1)\n",
    "    _,predicted_class = torch.max(mean_predictions,1)\n",
    "    high_uncertainty = std_predictions>threshold\n",
    "    predicted_class[high_uncertainty]=other_label\n",
    "    return predicted_class\n",
    "\n",
    "def evaluate(model, dataloader, device, threshold=0.6):\n",
    "    # After setting the model to evaluation mode, call this function\n",
    "    model.eval()\n",
    "    set_dropout_to_train(model)\n",
    "\n",
    "    size = len(dataloader.dataset)\n",
    "    total_correct = 0\n",
    "    total_confusion_matrix = torch.zeros((7,7))\n",
    "    # total_correct_pred_of_other_label, total_actual_other_label = 0,0\n",
    "    for batch, (text, spectrogram_data, label) in enumerate(dataloader):\n",
    "        text, spectrogram_data, label = text.to(device), spectrogram_data.to(device), label.to(device)\n",
    "\n",
    "        predicted = predict(label, model, text, spectrogram_data, threshold=threshold)\n",
    "        predicted = predicted.cpu()\n",
    "        actual = label.cpu()\n",
    "        correct = predicted == actual\n",
    "        total_correct += correct.sum().item()\n",
    "        cm = confusion_matrix(predicted,actual)\n",
    "        if(cm.shape[0]!=7 and cm.shape[1]!=7):\n",
    "            row_of_zeros = np.zeros((7-cm.shape[0],cm.shape[1]))\n",
    "            array_with_row = np.concatenate((cm, row_of_zeros), axis=0)\n",
    "\n",
    "            # Add a column of zeros at the end\n",
    "            column_of_zeros = np.zeros((7, 7-cm.shape[1]))\n",
    "            array_with_row_and_column = np.concatenate((array_with_row, column_of_zeros), axis=1)\n",
    "            cm = array_with_row_and_column\n",
    "\n",
    "        total_confusion_matrix+= cm\n",
    "\n",
    "    print(total_confusion_matrix)\n",
    "    return total_correct/size"
   ]
  },
  {
   "cell_type": "code",
   "execution_count": 22,
   "metadata": {},
   "outputs": [
    {
     "name": "stdout",
     "output_type": "stream",
     "text": [
      "tensor([[  9.,  12.,   1.,   4.,   1.,   4.,   1.],\n",
      "        [ 33., 245.,  51.,  35.,  14.,  75.,  20.],\n",
      "        [  1.,  36.,  53.,   4.,   1.,   5.,   4.],\n",
      "        [  6.,  31.,   2.,  63.,   3.,  19.,   6.],\n",
      "        [  3.,   5.,   2.,   3.,   5.,  29.,   2.],\n",
      "        [  4.,  50.,  11.,   8.,  23., 178.,  17.],\n",
      "        [  1.,   0.,   0.,   1.,   2.,   0.,   0.]], dtype=torch.float64)\n"
     ]
    },
    {
     "data": {
      "text/plain": [
       "0.5106186518928901"
      ]
     },
     "execution_count": 22,
     "metadata": {},
     "output_type": "execute_result"
    }
   ],
   "source": [
    "evaluate(model,val_dataloader,device,threshold=0.17)"
   ]
  },
  {
   "cell_type": "code",
   "execution_count": 23,
   "metadata": {},
   "outputs": [
    {
     "name": "stdout",
     "output_type": "stream",
     "text": [
      "tensor([[ 15.,   9.,   1.,   1.,   1.,   2.,   3.],\n",
      "        [ 25., 258.,  67.,  36.,   5.,  57.,  50.],\n",
      "        [  0.,  30.,  40.,   2.,   1.,  10.,  12.],\n",
      "        [  8.,  33.,   4.,  67.,   6.,   7.,  14.],\n",
      "        [  1.,   5.,   0.,   3.,   8.,  10.,   5.],\n",
      "        [  8.,  42.,   9.,   8.,  29., 163.,  26.],\n",
      "        [  0.,   1.,   0.,   1.,   0.,   1.,   0.]], dtype=torch.float64)\n"
     ]
    },
    {
     "data": {
      "text/plain": [
       "0.5083025830258303"
      ]
     },
     "execution_count": 23,
     "metadata": {},
     "output_type": "execute_result"
    }
   ],
   "source": [
    "evaluate(model,test_dataloader,device,threshold=0.17)"
   ]
  },
  {
   "cell_type": "code",
   "execution_count": 34,
   "metadata": {
    "collapsed": false
   },
   "outputs": [],
   "source": [
    "# learn pytorch basic with some basic models and datasets\n",
    "# https://pytorch.org/tutorials/beginner/basics/quickstart_tutorial.html\n",
    "# https://pytorch.org/tutorials/beginner/basics/transforms_tutorial.html\n",
    "# https://pytorch.org/tutorials/beginner/basics/data_tutorial.html\n",
    "# https://pytorch.org/tutorials/beginner/basics/optimization_tutorial.html\n",
    "# https://pytorch.org/tutorials/beginner/basics/autogradqs_tutorial.html\n",
    "# https://pytorch.org/tutorials/beginner/basics/nnqs_tutorial.html"
   ]
  },
  {
   "cell_type": "code",
   "execution_count": null,
   "metadata": {},
   "outputs": [],
   "source": []
  }
 ],
 "metadata": {
  "kernelspec": {
   "display_name": "Python 3",
   "language": "python",
   "name": "python3"
  },
  "language_info": {
   "codemirror_mode": {
    "name": "ipython",
    "version": 3
   },
   "file_extension": ".py",
   "mimetype": "text/x-python",
   "name": "python",
   "nbconvert_exporter": "python",
   "pygments_lexer": "ipython3",
   "version": "3.12.0"
  }
 },
 "nbformat": 4,
 "nbformat_minor": 0
}
