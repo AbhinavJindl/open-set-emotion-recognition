{
 "cells": [
  {
   "cell_type": "markdown",
   "metadata": {
    "collapsed": false
   },
   "source": [
    "# Open Set Emotion Recognition"
   ]
  },
  {
   "cell_type": "markdown",
   "metadata": {
    "collapsed": false
   },
   "source": [
    "## Library Imports"
   ]
  },
  {
   "cell_type": "code",
   "execution_count": 3,
   "metadata": {
    "collapsed": false
   },
   "outputs": [
    {
     "name": "stdout",
     "output_type": "stream",
     "text": [
      "Using device: cuda\n"
     ]
    }
   ],
   "source": [
    "import warnings\n",
    "warnings.filterwarnings(\"ignore\")\n",
    "import sys\n",
    "import os\n",
    "module_path = os.path.abspath(os.path.join('..'))\n",
    "if module_path not in sys.path:\n",
    "    sys.path.append(module_path)\n",
    "from collections import Counter, defaultdict\n",
    "import torch.nn as nn\n",
    "import os\n",
    "import pandas as pd\n",
    "from torch.utils.data import Dataset\n",
    "from torch.utils.data import DataLoader\n",
    "from tqdm.notebook import tqdm\n",
    "tqdm.pandas()\n",
    "from tqdm import tqdm\n",
    "import librosa\n",
    "import re\n",
    "from collections import Counter\n",
    "import torch\n",
    "from torchvision import models, transforms\n",
    "from PIL import Image\n",
    "from scipy import signal\n",
    "from scipy.io import wavfile\n",
    "import matplotlib.pyplot as plt\n",
    "import numpy as np\n",
    "import time\n",
    "from sklearn.model_selection import train_test_split\n",
    "from sklearn.metrics import accuracy_score,f1_score,confusion_matrix\n",
    "import torch.nn.functional as F\n",
    "from torch.optim.lr_scheduler import ReduceLROnPlateau\n",
    "import torchaudio\n",
    "from transformers import HubertModel, HubertConfig\n",
    "from sentence_transformers import SentenceTransformer\n",
    "from functools import lru_cache\n",
    "\n",
    "import utils\n",
    "\n",
    "device = (\n",
    "    \"cuda\"\n",
    "    if torch.cuda.is_available()\n",
    "    else \"mps\"\n",
    "    if torch.backends.mps.is_available()\n",
    "    else \"cpu\"\n",
    ")\n",
    "print(f\"Using device: {device}\")"
   ]
  },
  {
   "cell_type": "code",
   "execution_count": 4,
   "metadata": {},
   "outputs": [],
   "source": [
    "torch.manual_seed(42)\n",
    "OTHER_LABEL = 6"
   ]
  },
  {
   "cell_type": "markdown",
   "metadata": {
    "collapsed": false
   },
   "source": [
    "## Dataset Creation"
   ]
  },
  {
   "cell_type": "markdown",
   "metadata": {
    "collapsed": false
   },
   "source": [
    "### MELD"
   ]
  },
  {
   "cell_type": "code",
   "execution_count": 4,
   "metadata": {
    "collapsed": false
   },
   "outputs": [],
   "source": [
    "# class MELDDataset(Dataset):\n",
    "#     def __init__(self, meld_dir, split, transform=None):\n",
    "#         train_df = pd.read_csv(\"../MELD_Dataset/train_sent_emo.csv\")\n",
    "#         labels = train_df['Emotion'].unique().tolist()\n",
    "#         self.label_to_int = {label: i for i, label in enumerate(labels)}\n",
    "\n",
    "#         self.meld_dir = meld_dir\n",
    "#         self.transform = transform\n",
    "#         self.split = split\n",
    "#         self.img_path = os.path.join(self.meld_dir, 'mel_spectrograms', f'{self.split}_img')\n",
    "#         self.img_path = os.path.join(self.meld_dir, 'log_spectrogram', f'{self.split}_audio')\n",
    "\n",
    "#         # load and create sentence embeddings\n",
    "#         self.dialogues = self.load_dialogues()\n",
    "#         self.sbert = SentenceTransformer('multi-qa-mpnet-base-dot-v1', device=device)\n",
    "#         sentences = self.dialogues['Utterance'].tolist()\n",
    "#         sentences = [text.replace(\"\\x92\", \"'\") for text in sentences]\n",
    "#         self.sentence_embeddings = self.sbert.encode(sentences, convert_to_tensor=True, show_progress_bar=True, batch_size=128, device=device)\n",
    "\n",
    "#         self.spectrograms = self.load_spectrograms()\n",
    "#         self.resnet_model = models.resnet50(pretrained=True)\n",
    "#         self.feature_extractor = torch.nn.Sequential(*list(self.resnet_model.children())[:-1]).to(device)\n",
    "#         self.feature_extractor.eval()\n",
    "\n",
    "#     def load_dialogues(self):\n",
    "#         dialogue_file = os.path.join(self.meld_dir, f'{self.split}_sent_emo.csv')\n",
    "#         dialogues = pd.read_csv(dialogue_file)\n",
    "#         return dialogues\n",
    "\n",
    "#     def load_spectrograms(self):\n",
    "#         images = os.listdir(self.img_path)\n",
    "#         return images\n",
    "\n",
    "#     def __len__(self):\n",
    "#         assert(len(self.sentence_embeddings) == len(self.spectrograms))\n",
    "#         return len(self.dialogues)\n",
    "\n",
    "#     def preprocess_img(self, img):\n",
    "#         preprocessor = transforms.Compose([\n",
    "#             transforms.Resize(256),\n",
    "#             transforms.CenterCrop(224),\n",
    "#             transforms.ToTensor(),\n",
    "#         ])\n",
    "#         img_t =  preprocessor(img).to(device)\n",
    "#         return img_t\n",
    "\n",
    "#     def extract_audio_features_from_spectrogram(self, img):\n",
    "#         # Pass the input through the model\n",
    "#         with torch.no_grad():\n",
    "#             output = self.feature_extractor(img)\n",
    "#         return output\n",
    "\n",
    "#     def __getitem__(self, idx):\n",
    "#         row = self.dialogues.iloc[idx]\n",
    "#         text = self.sentence_embeddings[idx]\n",
    "#         spectrogram_data = Image.open(os.path.join(self.img_path, f'dia{row[\"Dialogue_ID\"]}_utt{row[\"Utterance_ID\"]}.png'))\n",
    "#         spectrogram_data = self.preprocess_img(spectrogram_data)\n",
    "#         spectrogram_data = spectrogram_data[0:3, :, :]\n",
    "#         spectrogram_data = spectrogram_data.unsqueeze(0)\n",
    "#         spectrogram_data = self.extract_audio_features_from_spectrogram(spectrogram_data)\n",
    "#         spectrogram_data = spectrogram_data.view(-1, 2048)[0]\n",
    "#         label = row['Emotion']\n",
    "#         label = torch.tensor(self.label_to_int[label])\n",
    "#         return text, spectrogram_data, label\n",
    "\n",
    "# train_meld = MELDDataset(\"../MELD_Dataset\", \"train\")\n",
    "# # test_meld = MELDDataset(\"../MELD_Dataset\", \"test\")\n",
    "# # dev_meld = MELDDataset(\"../MELD_Dataset\", \"dev\")\n",
    "\n",
    "# # concat all 3 datasets into 1 dataset\n",
    "# meld_dataset = train_meld # + test_meld + dev_meld"
   ]
  },
  {
   "cell_type": "code",
   "execution_count": 5,
   "metadata": {
    "collapsed": false
   },
   "outputs": [],
   "source": [
    "# len(meld_dataset)"
   ]
  },
  {
   "cell_type": "markdown",
   "metadata": {
    "collapsed": false
   },
   "source": [
    "#### IEMOCAP"
   ]
  },
  {
   "cell_type": "code",
   "execution_count": 6,
   "metadata": {},
   "outputs": [],
   "source": [
    "IEMOCAP_FULL_PATH = os.path.join(os.path.dirname(os.getcwd()),\"IEMOCAP_full_release\")\n",
    "IEMOCAP_MAIN_FOLDER = os.path.join(IEMOCAP_FULL_PATH,\"IEMOCAP_full_release\")\n",
    "TRANSCRIPTION_FOLDER = os.path.join(\"dialog\", \"transcriptions\")\n",
    "AUDIO_FOLDER = os.path.join(\"sentences\", \"wav\")\n",
    "CATEGORICAL_LABELS_PATH = os.path.join(\"dialog\", \"EmoEvaluation\", \"Categorical\")\n",
    "AUGMENTED_AUDIO_FOLDER = os.path.join(os.path.dirname(os.getcwd()), \"augmented\")"
   ]
  },
  {
   "cell_type": "code",
   "execution_count": 7,
   "metadata": {},
   "outputs": [],
   "source": [
    "def get_evaluator_filenames_with_video_file_prefix(input_list, prefix_value):\n",
    "    regex_pattern = re.compile(f'^{re.escape(prefix_value)}.*\\.txt$')\n",
    "    matching_strings = [s for s in input_list if regex_pattern.match(s)]\n",
    "    return matching_strings\n",
    "\n",
    "def get_agreed_upon_evaluation(evaluations):\n",
    "    top_two_frequent_evaluations = Counter(evaluations).most_common(2)\n",
    "    if(len(top_two_frequent_evaluations)==1):\n",
    "        return top_two_frequent_evaluations[0][0]\n",
    "    most_frequent_evaluation_and_its_frequency, second_most_frequent_evaluation_and_its_frequency = top_two_frequent_evaluations\n",
    "    highest_frequency = most_frequent_evaluation_and_its_frequency[1]\n",
    "    second_highest_frequency = second_most_frequent_evaluation_and_its_frequency[1]\n",
    "    if(highest_frequency==second_highest_frequency):\n",
    "        return \"AMBIGUOUS\"\n",
    "    else:\n",
    "        return most_frequent_evaluation_and_its_frequency[0]\n",
    "\n",
    "def get_utterance_to_evaluationCounter_mapping_from_evaluation_files(evaluation_files):\n",
    "    utterance_to_all_evaluations = {}\n",
    "\n",
    "    for evaluation_file in evaluation_files:\n",
    "        utterance_to_evaluationList = {}\n",
    "        with open(evaluation_file,'r') as f:\n",
    "            contents = f.read()\n",
    "            utterance_evaluations = contents.split(\"\\n\")\n",
    "            for evaluation in utterance_evaluations:\n",
    "                evaluation = evaluation.strip()\n",
    "                if(len(evaluation)==0):\n",
    "                    continue\n",
    "                matches = re.findall(r':[^;]+;', evaluation)\n",
    "                matches = [match[1:-1] for match in matches]\n",
    "                utterance_to_evaluationList[evaluation.split()[0]] = matches\n",
    "        \n",
    "        # Combine lists from dict1\n",
    "        for key, value_list in utterance_to_evaluationList.items():\n",
    "            utterance_to_all_evaluations[key] = utterance_to_all_evaluations.get(key, []) + value_list\n",
    "\n",
    "    utterance_to_evaluationsCounter = {k: get_agreed_upon_evaluation(v) for k,v in utterance_to_all_evaluations.items()}\n",
    "    return utterance_to_evaluationsCounter\n",
    "\n",
    "def is_label_a_closed_label(evaluation):\n",
    "    return evaluation in [\"Frustration\",\"Excited\",\"Neutral state\",\"Anger\",\"Sadness\",\"Happiness\"]\n",
    "\n",
    "def create_unprocessed_dataset(is_closed_label_set_flag):\n",
    "    dataset = []\n",
    "    audio_files = []\n",
    "    sentences_list = []\n",
    "    for session_num in range(1,6):\n",
    "        for transcription_filename in os.listdir(os.path.join(IEMOCAP_MAIN_FOLDER,f\"Session{session_num}\", TRANSCRIPTION_FOLDER)):\n",
    "            if(transcription_filename[0]!=\".\"): \n",
    "\n",
    "                filename_without_extension = transcription_filename.split(\".\")[0]\n",
    "                \n",
    "                categorical_labels_folder_full_path = os.path.join(IEMOCAP_MAIN_FOLDER, f\"Session{session_num}\", CATEGORICAL_LABELS_PATH)\n",
    "                evaluation_filenames = get_evaluator_filenames_with_video_file_prefix(os.listdir(categorical_labels_folder_full_path), filename_without_extension)\n",
    "                evaluation_files_full_paths_for_this_file = [os.path.join(IEMOCAP_MAIN_FOLDER, f\"Session{session_num}\", CATEGORICAL_LABELS_PATH, f) for f in evaluation_filenames]\n",
    "                evaluations_per_utterance = get_utterance_to_evaluationCounter_mapping_from_evaluation_files(evaluation_files_full_paths_for_this_file)\n",
    "                \n",
    "                transcription_file_full_path = os.path.join(IEMOCAP_MAIN_FOLDER, f\"Session{session_num}\", TRANSCRIPTION_FOLDER, transcription_filename) \n",
    "                with open(transcription_file_full_path,'r') as f:\n",
    "                    contents = f.read()\n",
    "                    lines = contents.split(\"\\n\")\n",
    "\n",
    "                    # Iterate through utterances where every utterance looks like:\n",
    "                    # Ses01F_impro01_F000 [006.2901-008.2357]: Excuse me.\n",
    "                    for line in lines:\n",
    "\n",
    "                        # Remove extra spaces and check if the line is not an empty link (usually at EOF)\n",
    "                        line = line.strip()\n",
    "                        if(len(line)==0):\n",
    "                            break\n",
    "\n",
    "                        # Remove idx of first space, ], -\n",
    "                        try:\n",
    "                            space_idx = line.index(\" \")\n",
    "                            timestampEndBracket_idx = line.index(\"]\")\n",
    "                            timestampHyphen_idx = line.index(\"-\")\n",
    "                        except:\n",
    "                            continue\n",
    "                        else:\n",
    "                            audio_filename = line[:space_idx]        # output audio file name = utterance name\n",
    "                            text = line[timestampEndBracket_idx+3:]         # the transcription of the utterance\n",
    "                            evaluation = evaluations_per_utterance.get(audio_filename,\"KEY_ERROR\")\n",
    "\n",
    "                            utterance_audios_per_video_folder = audio_filename[:line.rindex('_')]       # Only need Ses01F_impro01 from Ses01F_impro01_F000\n",
    "                            audio_file_full_path = os.path.join(IEMOCAP_MAIN_FOLDER, f\"Session{session_num}\", AUDIO_FOLDER, utterance_audios_per_video_folder, audio_filename+\".wav\")         # name of the video file\n",
    "\n",
    "                            if(evaluation!=\"KEY_ERROR\" and evaluation!= \"AMBIGUOUS\" and os.path.isfile(audio_file_full_path)==True and is_label_a_closed_label(evaluation)==is_closed_label_set_flag):\n",
    "                            # if(evaluation!=\"KEY_ERROR\" and os.path.isfile(audio_file_full_path)==True):    \n",
    "                                audio_files.append(audio_file_full_path)\n",
    "                                sentences_list.append(text)\n",
    "                                dataset.append((text,audio_file_full_path,evaluation))\n",
    "    return dataset, sentences_list, audio_files"
   ]
  },
  {
   "cell_type": "code",
   "execution_count": 8,
   "metadata": {},
   "outputs": [],
   "source": [
    "openSetUnprocessedDataset, openSetSentencesList, openSetAudioFiles = create_unprocessed_dataset(is_closed_label_set_flag = False)\n",
    "closedSetUnprocessedDataset, closedSetSentencesList, closedSetAudioFiles= create_unprocessed_dataset(is_closed_label_set_flag = True)"
   ]
  },
  {
   "cell_type": "code",
   "execution_count": 9,
   "metadata": {},
   "outputs": [
    {
     "data": {
      "text/plain": [
       "('Who told you to get in this line?',\n",
       " 'd:\\\\Projects\\\\open-set-emotion-recognition\\\\IEMOCAP_full_release\\\\IEMOCAP_full_release\\\\Session1\\\\sentences\\\\wav\\\\Ses01F_impro01\\\\Ses01F_impro01_M002.wav',\n",
       " 'Frustration')"
      ]
     },
     "execution_count": 9,
     "metadata": {},
     "output_type": "execute_result"
    }
   ],
   "source": [
    "closedSetUnprocessedDataset[5]"
   ]
  },
  {
   "cell_type": "code",
   "execution_count": 10,
   "metadata": {},
   "outputs": [],
   "source": [
    "CREATE_AND_SAVE_AUGMENTED_FILES = False"
   ]
  },
  {
   "cell_type": "code",
   "execution_count": 11,
   "metadata": {},
   "outputs": [],
   "source": [
    "class IemocapDataset(Dataset):\n",
    "    def __init__(self, unprocessed_dataset, sentences_list, audio_files, split, is_closed_label_set_flag, save_augmented_files = False ) -> None:\n",
    "        self.unprocessed_dataset = unprocessed_dataset\n",
    "        self.labels_to_int = {\n",
    "            'Neutral state': 0,\n",
    "            'Frustration': 1,\n",
    "            'Anger': 2,\n",
    "            'Sadness': 3,\n",
    "            'Happiness': 4,\n",
    "            'Excited': 5,\n",
    "            'Surprise': 6,\n",
    "            'Fear': 7,\n",
    "            'Other': 8,\n",
    "            'Disgust': 9\n",
    "        }\n",
    "        self.split = split\n",
    "        self.save_augmented_files = save_augmented_files\n",
    "        \n",
    "        config = HubertConfig.from_pretrained(\"facebook/hubert-large-ls960-ft\")\n",
    "        self.hubert_model = HubertModel.from_pretrained(\"facebook/hubert-large-ls960-ft\", config=config)\n",
    "\n",
    "        self.sbert = SentenceTransformer('multi-qa-mpnet-base-dot-v1', device=device)\n",
    "        self.sentence_embeddings = self.sbert.encode(self.sentences_list, convert_to_tensor=True, show_progress_bar=True, batch_size=128, device=device)\n",
    "\n",
    "        if self.split == \"train\":\n",
    "            self.sentence_embeddings = np.repeat(self.sentence_embeddings, repeats=4, axis=0)\n",
    "\n",
    "        \n",
    "        self.audio_files = audio_files\n",
    "        self.is_closed_label_set_flag = is_closed_label_set_flag\n",
    "\n",
    "        \n",
    "\n",
    "        if(self.split == \"train\"):\n",
    "            self.AUGMENTED_AUDIO_FOLDER = os.path.join(os.path.dirname(os.getcwd()), \"augmented\")\n",
    "            self.unprocessed_dataset = self.create_augmented_dataset()\n",
    "\n",
    "    def create_augmented_dataset(self):\n",
    "        augmented_dataset = []\n",
    "        os.makedirs(self.AUGMENTED_AUDIO_FOLDER,exist_ok=True)\n",
    "        for text, audio_file_full_path, evaluation in self.unprocessed_dataset:\n",
    "            _, audio_filename_and_extension = os.path.split(audio_file_full_path)\n",
    "            audio_filename, extension = audio_filename_and_extension.split(\".\")\n",
    "            for augmented_version_num in range(4):\n",
    "                augmented_audio_path = os.path.join(self.AUGMENTED_AUDIO_FOLDER,f\"{audio_filename}_version_{augmented_version_num}.{extension}\")\n",
    "                if(self.save_augmented_files):\n",
    "                    utils.augment_audio_and_save(input_audio_path = audio_file_full_path, augmented_audio_path = augmented_audio_path)\n",
    "                augmented_dataset.append((text, augmented_audio_path, evaluation))\n",
    "        return augmented_dataset\n",
    "    \n",
    "    @lru_cache(maxsize=None)\n",
    "    def cached_audio_features(self,audio_path):\n",
    "        waveform, sample_rate = torchaudio.load(audio_path)\n",
    "\n",
    "        # Resample if necessary (HuBERT uses 16 kHz sample rate)\n",
    "        if sample_rate != 16000:\n",
    "            waveform = torchaudio.transforms.Resample(sample_rate, 16000)(waveform)\n",
    "            sample_rate = 16000\n",
    "\n",
    "        # Ensure single channel audio (mono)\n",
    "        if waveform.shape[0] > 1:\n",
    "            waveform = torch.mean(waveform, dim=0, keepdim=True)\n",
    "\n",
    "        # Normalize audio\n",
    "        waveform = waveform / torch.max(torch.abs(waveform))\n",
    "\n",
    "        # Step 3: Encode audio waveforms using HuBERT model\n",
    "        # Pass the waveform through the model\n",
    "        with torch.no_grad():\n",
    "            outputs = self.hubert_model(waveform)\n",
    "\n",
    "        # Get the hidden states\n",
    "        hidden_states = outputs.last_hidden_state\n",
    "        frame_averaged_hidden_states = torch.mean(hidden_states, dim=1)\n",
    "        frame_averaged_hidden_states = frame_averaged_hidden_states.view(-1,1024)[0]\n",
    "        return frame_averaged_hidden_states\n",
    "    \n",
    "    def __len__(self):\n",
    "        return len(self.unprocessed_dataset)\n",
    "    \n",
    "    def __getitem__(self, idx):\n",
    "        _, audio, label = self.unprocessed_dataset[idx]\n",
    "\n",
    "        text = self.sentence_embeddings[idx]\n",
    "        audio_features = self.cached_audio_features(audio)\n",
    "\n",
    "        if self.is_closed_label_set_flag==False:\n",
    "            label = OTHER_LABEL\n",
    "        else:\n",
    "            label = self.labels_to_int[label]\n",
    "        \n",
    "        return text, audio_features, label"
   ]
  },
  {
   "cell_type": "code",
   "execution_count": 12,
   "metadata": {},
   "outputs": [],
   "source": [
    "def get_stratified_split(unprocessed_dataset, sentences_list, audio_files, test_size):\n",
    "    # instance[-1] is label\n",
    "    labels = [instance[-1] for instance in unprocessed_dataset]\n",
    "    unprocessed_train_dataset, unprocessed_test_dataset, train_sentences_list, test_sentences_list, train_audio_files, test_audio_files = train_test_split(unprocessed_dataset, sentences_list, audio_files, test_size=test_size, stratify=labels, random_state=42)\n",
    "    return unprocessed_train_dataset, unprocessed_test_dataset, train_sentences_list, test_sentences_list, train_audio_files, test_audio_files"
   ]
  },
  {
   "cell_type": "code",
   "execution_count": 13,
   "metadata": {},
   "outputs": [],
   "source": [
    "closed_set_unprocessed_train_dataset, temp_unprocessed_dataset, closed_set_train_sentences_list, temp_sentences_list, closed_set_train_audio_files, temp_audio_files = get_stratified_split(closedSetUnprocessedDataset, closedSetSentencesList, closedSetAudioFiles, 0.2)\n",
    "closed_set_unprocessed_val_dataset, closed_set_unprocessed_test_dataset, closed_set_val_sentences_list, closed_set_test_sentences_list, closed_set_val_audio_files, closed_set_test_audio_files = get_stratified_split(temp_unprocessed_dataset, temp_sentences_list, temp_audio_files, 0.5)\n",
    "open_set_unprocessed_val_dataset, open_set_unprocessed_test_dataset, open_set_val_sentences_list, open_set_test_sentences_list, open_set_val_audio_files, open_set_test_audio_files = get_stratified_split(openSetUnprocessedDataset, openSetSentencesList, openSetAudioFiles, 0.5)\n",
    "# entire_val_dataset = closed_set_unprocessed_val_dataset + open_set_unprocessed_val_dataset\n",
    "# entire_test_dataset = closed_set_unprocessed_test_dataset + open_set_unprocessed_test_dataset"
   ]
  },
  {
   "cell_type": "code",
   "execution_count": 14,
   "metadata": {},
   "outputs": [
    {
     "name": "stderr",
     "output_type": "stream",
     "text": [
      "Batches: 100%|██████████| 185/185 [01:32<00:00,  2.00it/s]\n",
      "Some weights of HubertModel were not initialized from the model checkpoint at facebook/hubert-large-ls960-ft and are newly initialized: ['hubert.encoder.pos_conv_embed.conv.parametrizations.weight.original0', 'hubert.encoder.pos_conv_embed.conv.parametrizations.weight.original1']\n",
      "You should probably TRAIN this model on a down-stream task to be able to use it for predictions and inference.\n",
      "Batches: 100%|██████████| 6/6 [00:05<00:00,  1.09it/s]\n",
      "Some weights of HubertModel were not initialized from the model checkpoint at facebook/hubert-large-ls960-ft and are newly initialized: ['hubert.encoder.pos_conv_embed.conv.parametrizations.weight.original0', 'hubert.encoder.pos_conv_embed.conv.parametrizations.weight.original1']\n",
      "You should probably TRAIN this model on a down-stream task to be able to use it for predictions and inference.\n",
      "Batches: 100%|██████████| 6/6 [00:05<00:00,  1.12it/s]\n",
      "Some weights of HubertModel were not initialized from the model checkpoint at facebook/hubert-large-ls960-ft and are newly initialized: ['hubert.encoder.pos_conv_embed.conv.parametrizations.weight.original0', 'hubert.encoder.pos_conv_embed.conv.parametrizations.weight.original1']\n",
      "You should probably TRAIN this model on a down-stream task to be able to use it for predictions and inference.\n",
      "Batches: 100%|██████████| 1/1 [00:00<00:00,  9.55it/s]\n",
      "Some weights of HubertModel were not initialized from the model checkpoint at facebook/hubert-large-ls960-ft and are newly initialized: ['hubert.encoder.pos_conv_embed.conv.parametrizations.weight.original0', 'hubert.encoder.pos_conv_embed.conv.parametrizations.weight.original1']\n",
      "You should probably TRAIN this model on a down-stream task to be able to use it for predictions and inference.\n",
      "Batches: 100%|██████████| 1/1 [00:00<00:00,  7.96it/s]\n",
      "Some weights of HubertModel were not initialized from the model checkpoint at facebook/hubert-large-ls960-ft and are newly initialized: ['hubert.encoder.pos_conv_embed.conv.parametrizations.weight.original0', 'hubert.encoder.pos_conv_embed.conv.parametrizations.weight.original1']\n",
      "You should probably TRAIN this model on a down-stream task to be able to use it for predictions and inference.\n"
     ]
    }
   ],
   "source": [
    "closed_set_train_dataset = IemocapDataset(unprocessed_dataset = closed_set_unprocessed_train_dataset,\n",
    "                                          sentences_list = closed_set_train_sentences_list,\n",
    "                                          audio_files = closed_set_train_audio_files,\n",
    "                                          split = \"train\",\n",
    "                                          is_closed_label_set_flag = True,\n",
    "                                          save_augmented_files=CREATE_AND_SAVE_AUGMENTED_FILES)\n",
    "\n",
    "closed_set_val_dataset = IemocapDataset(unprocessed_dataset = closed_set_unprocessed_val_dataset,\n",
    "                                        sentences_list = closed_set_val_sentences_list,\n",
    "                                        audio_files = closed_set_val_audio_files,\n",
    "                                        split=\"val\",\n",
    "                                        is_closed_label_set_flag=True,\n",
    "                                        save_augmented_files=CREATE_AND_SAVE_AUGMENTED_FILES)\n",
    "\n",
    "closed_set_test_dataset = IemocapDataset(unprocessed_dataset = closed_set_unprocessed_test_dataset,\n",
    "                                        sentences_list = closed_set_test_sentences_list,\n",
    "                                        audio_files = closed_set_test_audio_files,\n",
    "                                        split=\"test\",\n",
    "                                        is_closed_label_set_flag=True,\n",
    "                                        save_augmented_files=CREATE_AND_SAVE_AUGMENTED_FILES)\n",
    "\n",
    "open_set_val_dataset = IemocapDataset(unprocessed_dataset = open_set_unprocessed_val_dataset,\n",
    "                                      sentences_list = open_set_val_sentences_list,\n",
    "                                      audio_files = open_set_val_audio_files,\n",
    "                                      split=\"val\",\n",
    "                                      is_closed_label_set_flag=False,\n",
    "                                      save_augmented_files=CREATE_AND_SAVE_AUGMENTED_FILES)\n",
    "\n",
    "open_set_test_dataset = IemocapDataset(unprocessed_dataset = open_set_unprocessed_test_dataset,\n",
    "                                      sentences_list = open_set_test_sentences_list,\n",
    "                                      audio_files = open_set_test_audio_files,\n",
    "                                      split=\"test\",\n",
    "                                      is_closed_label_set_flag=False,\n",
    "                                      save_augmented_files=CREATE_AND_SAVE_AUGMENTED_FILES)"
   ]
  },
  {
   "cell_type": "code",
   "execution_count": 15,
   "metadata": {},
   "outputs": [
    {
     "name": "stdout",
     "output_type": "stream",
     "text": [
      "23616\n",
      "738\n",
      "738\n",
      "76\n",
      "76\n"
     ]
    }
   ],
   "source": [
    "print(len(closed_set_train_dataset))\n",
    "print(len(closed_set_val_dataset))\n",
    "print(len(closed_set_test_dataset))\n",
    "print(len(open_set_val_dataset))\n",
    "print(len(open_set_test_dataset))\n"
   ]
  },
  {
   "cell_type": "code",
   "execution_count": 16,
   "metadata": {},
   "outputs": [],
   "source": [
    "entire_val_dataset = closed_set_val_dataset + open_set_val_dataset\n",
    "entire_test_dataset = closed_set_test_dataset + open_set_test_dataset"
   ]
  },
  {
   "cell_type": "code",
   "execution_count": 17,
   "metadata": {},
   "outputs": [
    {
     "data": {
      "text/plain": [
       "(814, 814)"
      ]
     },
     "execution_count": 17,
     "metadata": {},
     "output_type": "execute_result"
    }
   ],
   "source": [
    "len(entire_val_dataset), len(entire_test_dataset)"
   ]
  },
  {
   "cell_type": "code",
   "execution_count": 18,
   "metadata": {
    "collapsed": false
   },
   "outputs": [],
   "source": [
    "# Create data loaders.\n",
    "batch_size = 64\n",
    "\n",
    "# AUDIO + TEXT DATALOADERS (CONSISTS OF BOTH OPEN AND CLOSED LABELS)\n",
    "train_dataloader = DataLoader(closed_set_train_dataset, batch_size=batch_size, shuffle=True)\n",
    "val_dataloader = DataLoader(entire_val_dataset, batch_size=batch_size, shuffle=True)\n",
    "test_dataloader = DataLoader(entire_test_dataset, batch_size=batch_size, shuffle=True)\n",
    "\n",
    "# AUDIO + TEXT DATALOADERS (ONLY CLOSED LABELS - USED FOR CHECKING MODEL PERFORMANCE AFTER KEEPING ASIDE THE OPEN SET CHALLENGE)\n",
    "val_closed_set_dataloader = DataLoader(closed_set_val_dataset, batch_size=batch_size, shuffle=True)\n",
    "test_closed_set_dataloader = DataLoader(closed_set_test_dataset, batch_size=batch_size, shuffle=True)\n",
    "\n"
   ]
  },
  {
   "cell_type": "markdown",
   "metadata": {
    "collapsed": false
   },
   "source": [
    "## Model Architectures Definition"
   ]
  },
  {
   "cell_type": "code",
   "execution_count": 19,
   "metadata": {},
   "outputs": [],
   "source": [
    "# MODELS PATHS\n",
    "MODELS_DIR = os.path.join(os.path.dirname(os.getcwd()), \"MODELS\")\n",
    "if not os.path.exists(MODELS_DIR):\n",
    "    os.makedirs(MODELS_DIR)\n",
    "\n",
    "TEXT_MODEL_PATH = os.path.join(MODELS_DIR, \"text_model_augmented.pt\")\n",
    "AUDIO_MODEL_PATH = os.path.join(MODELS_DIR, \"audio_model_augmented.pt\")\n",
    "MULTIMODAL_MODEL_PATH = os.path.join(MODELS_DIR, \"multimodal_model_augmented.pt\")"
   ]
  },
  {
   "cell_type": "code",
   "execution_count": 20,
   "metadata": {},
   "outputs": [],
   "source": [
    "class EarlyStopping:\n",
    "    def __init__(self, patience=5, delta=0, path='model_checkpoint.pt'):\n",
    "        self.patience = patience\n",
    "        self.delta = delta\n",
    "        self.path = path\n",
    "        self.counter = 0\n",
    "        self.best_score = None\n",
    "        self.early_stop = False\n",
    "        self.val_acc_max = np.Inf\n",
    "\n",
    "    def __call__(self, val_acc, model):\n",
    "\n",
    "        if self.best_score is None:\n",
    "            self.best_score = val_acc\n",
    "            self.save_checkpoint(val_acc, model)\n",
    "        elif val_acc < self.best_score + self.delta:\n",
    "            self.counter += 1\n",
    "            print(f'EarlyStopping counter: {self.counter} out of {self.patience}')\n",
    "            if self.counter >= self.patience:\n",
    "                self.early_stop = True\n",
    "        else:\n",
    "            self.best_score = val_acc\n",
    "            self.save_checkpoint(val_acc, model)\n",
    "            self.counter = 0\n",
    "\n",
    "    def save_checkpoint(self, val_acc, model):\n",
    "        torch.save(model.state_dict(), self.path)\n",
    "        self.val_loss_min = val_acc"
   ]
  },
  {
   "cell_type": "markdown",
   "metadata": {},
   "source": [
    "### Text Unimodal"
   ]
  },
  {
   "cell_type": "code",
   "execution_count": 21,
   "metadata": {},
   "outputs": [
    {
     "data": {
      "text/plain": [
       "TextEmotionModel(\n",
       "  (fc): Sequential(\n",
       "    (0): Linear(in_features=768, out_features=1024, bias=True)\n",
       "    (1): BatchNorm1d(1024, eps=1e-05, momentum=0.1, affine=True, track_running_stats=True)\n",
       "    (2): Dropout(p=0.2, inplace=False)\n",
       "    (3): ReLU()\n",
       "    (4): Linear(in_features=1024, out_features=512, bias=True)\n",
       "    (5): BatchNorm1d(512, eps=1e-05, momentum=0.1, affine=True, track_running_stats=True)\n",
       "    (6): Dropout(p=0.2, inplace=False)\n",
       "    (7): ReLU()\n",
       "    (8): Linear(in_features=512, out_features=6, bias=True)\n",
       "  )\n",
       ")"
      ]
     },
     "execution_count": 21,
     "metadata": {},
     "output_type": "execute_result"
    }
   ],
   "source": [
    "class TextEmotionModel(nn.Module):\n",
    "    def __init__(self, num_classes):\n",
    "        super(TextEmotionModel, self).__init__()\n",
    "        # sequential model with 2 layers, followed by dropout and relu layers and output layer\n",
    "        self.fc = nn.Sequential(\n",
    "            nn.Linear(768, 1024),\n",
    "            nn.BatchNorm1d(1024),\n",
    "            nn.Dropout(0.2),\n",
    "            nn.ReLU(),\n",
    "            nn.Linear(1024, 512),\n",
    "            nn.BatchNorm1d(512),\n",
    "            nn.Dropout(0.2),\n",
    "            nn.ReLU(),\n",
    "            nn.Linear(512, num_classes)\n",
    "        )\n",
    "\n",
    "\n",
    "    def forward(self, text):\n",
    "        return self.fc(text)\n",
    "\n",
    "\n",
    "text_model = TextEmotionModel(6)\n",
    "text_model.to(device)"
   ]
  },
  {
   "cell_type": "markdown",
   "metadata": {},
   "source": [
    "### Audio Unimodal"
   ]
  },
  {
   "cell_type": "code",
   "execution_count": 22,
   "metadata": {},
   "outputs": [
    {
     "data": {
      "text/plain": [
       "AudioEmotionModel(\n",
       "  (fc): Sequential(\n",
       "    (0): Linear(in_features=1024, out_features=1024, bias=True)\n",
       "    (1): BatchNorm1d(1024, eps=1e-05, momentum=0.1, affine=True, track_running_stats=True)\n",
       "    (2): Dropout(p=0.2, inplace=False)\n",
       "    (3): ReLU()\n",
       "    (4): Linear(in_features=1024, out_features=512, bias=True)\n",
       "    (5): BatchNorm1d(512, eps=1e-05, momentum=0.1, affine=True, track_running_stats=True)\n",
       "    (6): Dropout(p=0.2, inplace=False)\n",
       "    (7): ReLU()\n",
       "    (8): Linear(in_features=512, out_features=6, bias=True)\n",
       "  )\n",
       ")"
      ]
     },
     "execution_count": 22,
     "metadata": {},
     "output_type": "execute_result"
    }
   ],
   "source": [
    "class AudioEmotionModel(nn.Module):\n",
    "    def __init__(self, num_classes):\n",
    "        super(AudioEmotionModel, self).__init__()\n",
    "        # sequential model with 2 layers, followed by dropout and relu layers and output layer\n",
    "        self.fc = nn.Sequential(\n",
    "            nn.Linear(1024, 1024),\n",
    "            nn.BatchNorm1d(1024),\n",
    "            nn.Dropout(0.2),\n",
    "            nn.ReLU(),\n",
    "            nn.Linear(1024, 512),\n",
    "            nn.BatchNorm1d(512),\n",
    "            nn.Dropout(0.2),\n",
    "            nn.ReLU(),\n",
    "            nn.Linear(512, num_classes)\n",
    "        )\n",
    "\n",
    "\n",
    "    def forward(self, audio):\n",
    "        return self.fc(audio)\n",
    "\n",
    "\n",
    "audio_model = AudioEmotionModel(6)\n",
    "audio_model.to(device)"
   ]
  },
  {
   "cell_type": "markdown",
   "metadata": {},
   "source": [
    "### Multimodal"
   ]
  },
  {
   "cell_type": "code",
   "execution_count": 23,
   "metadata": {
    "collapsed": false
   },
   "outputs": [
    {
     "data": {
      "text/plain": [
       "AudioTextEmotionModel(\n",
       "  (fc): Sequential(\n",
       "    (0): Linear(in_features=1792, out_features=1024, bias=True)\n",
       "    (1): BatchNorm1d(1024, eps=1e-05, momentum=0.1, affine=True, track_running_stats=True)\n",
       "    (2): Dropout(p=0.2, inplace=False)\n",
       "    (3): ReLU()\n",
       "    (4): Linear(in_features=1024, out_features=512, bias=True)\n",
       "    (5): BatchNorm1d(512, eps=1e-05, momentum=0.1, affine=True, track_running_stats=True)\n",
       "    (6): Dropout(p=0.2, inplace=False)\n",
       "    (7): ReLU()\n",
       "    (8): Linear(in_features=512, out_features=6, bias=True)\n",
       "  )\n",
       ")"
      ]
     },
     "execution_count": 23,
     "metadata": {},
     "output_type": "execute_result"
    }
   ],
   "source": [
    "class AudioTextEmotionModel(nn.Module):\n",
    "    def __init__(self, num_classes):\n",
    "        super(AudioTextEmotionModel, self).__init__()\n",
    "        # sequential model with 2 layers, followed by dropout and relu layers and output layer\n",
    "        self.fc = nn.Sequential(\n",
    "            nn.Linear(1024 + 768, 1024),\n",
    "            nn.BatchNorm1d(1024),\n",
    "            nn.Dropout(0.2),\n",
    "            nn.ReLU(),\n",
    "            nn.Linear(1024, 512),\n",
    "            nn.BatchNorm1d(512),\n",
    "            nn.Dropout(0.2),\n",
    "            nn.ReLU(),\n",
    "            nn.Linear(512, num_classes)\n",
    "        )\n",
    "\n",
    "\n",
    "    def forward(self, text, audio):\n",
    "        combined = torch.cat([audio, text], axis=1)\n",
    "        return self.fc(combined)\n",
    "\n",
    "\n",
    "model = AudioTextEmotionModel(6)\n",
    "model.to(device)\n"
   ]
  },
  {
   "cell_type": "markdown",
   "metadata": {},
   "source": [
    "### Model Try 2"
   ]
  },
  {
   "cell_type": "code",
   "execution_count": 24,
   "metadata": {},
   "outputs": [],
   "source": [
    "# class AudioTextEmotionModel(nn.Module):\n",
    "#     def __init__(self, text_input_size, audio_input_size, hidden_size, output_size):\n",
    "#         super(AudioTextEmotionModel, self).__init__()\n",
    "#         self.text_input_size = text_input_size\n",
    "#         self.audio_input_size = audio_input_size\n",
    "#         self.hidden_size = hidden_size\n",
    "#         self.output_size = output_size\n",
    "        \n",
    "#         # Attention mechanism parameters\n",
    "#         self.attention_weights = nn.Parameter(torch.randn(text_input_size, audio_input_size))\n",
    "        \n",
    "#         # Feedforward network\n",
    "#         self.fc = nn.Sequential(\n",
    "#             nn.Linear(text_input_size + audio_input_size, hidden_size),\n",
    "#             nn.ReLU(),\n",
    "#             nn.Linear(hidden_size, output_size)\n",
    "#         )\n",
    "        \n",
    "#     def forward(self, text_embeddings, audio_embeddings):\n",
    "#         # Compute attention scores\n",
    "#         attention_scores = torch.matmul(text_embeddings, self.attention_weights)\n",
    "#         attention_weights = F.softmax(attention_scores, dim=1)\n",
    "        \n",
    "#         # Compute attended representation\n",
    "#         attended_representation = audio_embeddings * attention_weights\n",
    "        \n",
    "#         # Concatenate text embeddings and attended representation\n",
    "#         concatenated_input = torch.cat((text_embeddings, attended_representation), dim=1)\n",
    "        \n",
    "#         # Feedforward network for classification\n",
    "#         output = self.fc(concatenated_input)\n",
    "#         return output\n",
    "\n",
    "# # Example usage:\n",
    "# text_input_size = 768  # Size of text embeddings\n",
    "# audio_input_size = 2048  # Size of audio embeddings\n",
    "# hidden_size = 512  # Size of the hidden layer in the feedforward network\n",
    "# output_size = 6  # Number of classes for classification\n",
    "\n",
    "# model = AudioTextEmotionModel(text_input_size, audio_input_size, hidden_size, output_size)\n",
    "# model.to(device)\n"
   ]
  },
  {
   "cell_type": "markdown",
   "metadata": {
    "collapsed": false
   },
   "source": [
    "## Loss Function and Optimizer (of the 2 unimodal models and the multimodal model)"
   ]
  },
  {
   "cell_type": "code",
   "execution_count": 25,
   "metadata": {
    "collapsed": false
   },
   "outputs": [],
   "source": [
    "# TEXT ONLY \n",
    "loss_fn_text = nn.CrossEntropyLoss()\n",
    "optimizer_text = torch.optim.RMSprop(text_model.parameters(), lr=1e-3, momentum=0.9)\n",
    "scheduler_text = ReduceLROnPlateau(optimizer_text, mode='max', factor=0.1, patience=3, verbose=True)\n",
    "\n",
    "# AUDIO ONLY\n",
    "loss_fn_audio = nn.CrossEntropyLoss()\n",
    "optimizer_audio = torch.optim.RMSprop(audio_model.parameters(), lr=1e-3, momentum=0.9)\n",
    "scheduler_audio = ReduceLROnPlateau(optimizer_audio, mode='max', factor=0.1, patience=3, verbose=True)\n",
    "\n",
    "# TEXT + AUDIO\n",
    "loss_fn = nn.CrossEntropyLoss()\n",
    "optimizer = torch.optim.RMSprop(model.parameters(), lr=1e-3, momentum=0.9)\n",
    "scheduler = ReduceLROnPlateau(optimizer, mode='max', factor=0.1, patience=3, verbose=True)\n",
    "\n",
    "num_epochs = 100"
   ]
  },
  {
   "cell_type": "markdown",
   "metadata": {
    "collapsed": false
   },
   "source": [
    "## Train (the 2 unimodal models and the multimodal model on only closed set labels to test the performance. We have kept aside the open set challenge for now)"
   ]
  },
  {
   "cell_type": "code",
   "execution_count": 26,
   "metadata": {
    "collapsed": false
   },
   "outputs": [],
   "source": [
    "def accuracy(dataloader, model):\n",
    "    size = len(dataloader.dataset)\n",
    "    total_correct = 0\n",
    "    model.eval()\n",
    "    for batch, x_and_y in enumerate(dataloader):\n",
    "        x_and_y_device = [x_and_y[i].to(device) for i in range(len(x_and_y))]\n",
    "\n",
    "        # Compute prediction error\n",
    "        pred = model(*x_and_y_device[:-1])\n",
    "        predicted = torch.argmax(pred,dim=1).cpu()\n",
    "        label = x_and_y_device[-1]\n",
    "        actual = label.cpu()\n",
    "        correct = predicted == actual\n",
    "        total_correct += correct.sum().item()\n",
    "    return total_correct/size\n",
    "\n",
    "def train(dataloader, model, loss_fn, optimizer):\n",
    "    size = len(dataloader.dataset)\n",
    "    model.train()\n",
    "    for batch, x_and_y in enumerate(dataloader):\n",
    "        x_and_y_device = [x_and_y[i].to(device) for i in range(len(x_and_y))]\n",
    "\n",
    "        # Compute prediction error\n",
    "        pred = model(*x_and_y_device[:-1])\n",
    "        label = x_and_y_device[-1]\n",
    "        loss = loss_fn(pred, label)\n",
    "\n",
    "        # Backpropagation\n",
    "        loss.backward()\n",
    "        optimizer.step()\n",
    "        optimizer.zero_grad()\n",
    "\n",
    "        if batch % 100 == 0:\n",
    "            loss, current = loss.item(), (batch + 1) * len(x_and_y_device[0])\n",
    "            \n",
    "            print(f\"loss: {loss:>7f}  [{current:>5d}/{size:>5d}]\")"
   ]
  },
  {
   "cell_type": "markdown",
   "metadata": {},
   "source": [
    "### Text Unimodal Training"
   ]
  },
  {
   "cell_type": "code",
   "execution_count": null,
   "metadata": {},
   "outputs": [
    {
     "name": "stdout",
     "output_type": "stream",
     "text": [
      "Epoch 1\n",
      "-------------------------------\n",
      "loss: 1.870664  [   64/ 5904]\n",
      "Accuracy on Train Set => 0.5343834688346883 | Accuracy on Closed Validation Set => 0.46070460704607047\n",
      "Epoch 2\n",
      "-------------------------------\n",
      "loss: 1.017479  [   64/ 5904]\n",
      "Accuracy on Train Set => 0.6268631436314364 | Accuracy on Closed Validation Set => 0.4905149051490515\n",
      "Epoch 3\n",
      "-------------------------------\n",
      "loss: 0.926881  [   64/ 5904]\n",
      "Accuracy on Train Set => 0.6834349593495935 | Accuracy on Closed Validation Set => 0.4932249322493225\n",
      "Epoch 4\n",
      "-------------------------------\n",
      "loss: 0.875097  [   64/ 5904]\n",
      "Accuracy on Train Set => 0.7251016260162602 | Accuracy on Closed Validation Set => 0.5060975609756098\n",
      "Epoch 5\n",
      "-------------------------------\n",
      "loss: 0.737137  [   64/ 5904]\n",
      "Accuracy on Train Set => 0.7577913279132791 | Accuracy on Closed Validation Set => 0.5182926829268293\n",
      "Epoch 6\n",
      "-------------------------------\n",
      "loss: 0.649189  [   64/ 5904]\n",
      "Accuracy on Train Set => 0.7823509485094851 | Accuracy on Closed Validation Set => 0.5033875338753387\n",
      "EarlyStopping counter: 1 out of 9\n",
      "Epoch 7\n",
      "-------------------------------\n",
      "loss: 0.538125  [   64/ 5904]\n",
      "Accuracy on Train Set => 0.7981029810298103 | Accuracy on Closed Validation Set => 0.5291327913279132\n",
      "Epoch 8\n",
      "-------------------------------\n",
      "loss: 0.582624  [   64/ 5904]\n",
      "Accuracy on Train Set => 0.8199525745257452 | Accuracy on Closed Validation Set => 0.5237127371273713\n",
      "EarlyStopping counter: 1 out of 9\n",
      "Epoch 9\n",
      "-------------------------------\n",
      "loss: 0.457040  [   64/ 5904]\n",
      "Accuracy on Train Set => 0.8241869918699187 | Accuracy on Closed Validation Set => 0.5271002710027101\n",
      "EarlyStopping counter: 2 out of 9\n",
      "Epoch 10\n",
      "-------------------------------\n",
      "loss: 0.420882  [   64/ 5904]\n",
      "Accuracy on Train Set => 0.8211382113821138 | Accuracy on Closed Validation Set => 0.5142276422764228\n",
      "EarlyStopping counter: 3 out of 9\n",
      "Epoch 11\n",
      "-------------------------------\n",
      "loss: 0.488718  [   64/ 5904]\n",
      "Accuracy on Train Set => 0.8494241192411924 | Accuracy on Closed Validation Set => 0.5311653116531165\n",
      "Epoch 12\n",
      "-------------------------------\n",
      "loss: 0.300663  [   64/ 5904]\n",
      "Accuracy on Train Set => 0.8289295392953929 | Accuracy on Closed Validation Set => 0.5277777777777778\n",
      "EarlyStopping counter: 1 out of 9\n",
      "Epoch 13\n",
      "-------------------------------\n",
      "loss: 0.288501  [   64/ 5904]\n",
      "Accuracy on Train Set => 0.8543360433604336 | Accuracy on Closed Validation Set => 0.5121951219512195\n",
      "EarlyStopping counter: 2 out of 9\n",
      "Epoch 14\n",
      "-------------------------------\n",
      "loss: 0.209884  [   64/ 5904]\n",
      "Accuracy on Train Set => 0.8602642276422764 | Accuracy on Closed Validation Set => 0.502710027100271\n",
      "EarlyStopping counter: 3 out of 9\n",
      "Epoch 15\n",
      "-------------------------------\n",
      "loss: 0.220318  [   64/ 5904]\n",
      "Accuracy on Train Set => 0.8611111111111112 | Accuracy on Closed Validation Set => 0.516260162601626\n",
      "EarlyStopping counter: 4 out of 9\n",
      "Epoch 16\n",
      "-------------------------------\n",
      "loss: 0.296165  [   64/ 5904]\n",
      "Accuracy on Train Set => 0.902269647696477 | Accuracy on Closed Validation Set => 0.5399728997289973\n",
      "Epoch 17\n",
      "-------------------------------\n",
      "loss: 0.167130  [   64/ 5904]\n",
      "Accuracy on Train Set => 0.907520325203252 | Accuracy on Closed Validation Set => 0.5420054200542005\n",
      "Epoch 18\n",
      "-------------------------------\n",
      "loss: 0.167128  [   64/ 5904]\n",
      "Accuracy on Train Set => 0.9114159891598916 | Accuracy on Closed Validation Set => 0.5447154471544715\n",
      "Epoch 19\n",
      "-------------------------------\n",
      "loss: 0.138051  [   64/ 5904]\n",
      "Accuracy on Train Set => 0.9149728997289973 | Accuracy on Closed Validation Set => 0.5420054200542005\n",
      "EarlyStopping counter: 1 out of 9\n",
      "Epoch 20\n",
      "-------------------------------\n",
      "loss: 0.118161  [   64/ 5904]\n",
      "Accuracy on Train Set => 0.9151422764227642 | Accuracy on Closed Validation Set => 0.5481029810298103\n",
      "Epoch 21\n",
      "-------------------------------\n",
      "loss: 0.075689  [   64/ 5904]\n",
      "Accuracy on Train Set => 0.9198848238482384 | Accuracy on Closed Validation Set => 0.5494579945799458\n",
      "Epoch 22\n",
      "-------------------------------\n",
      "loss: 0.092752  [   64/ 5904]\n",
      "Accuracy on Train Set => 0.9190379403794038 | Accuracy on Closed Validation Set => 0.5440379403794038\n",
      "EarlyStopping counter: 1 out of 9\n",
      "Epoch 23\n",
      "-------------------------------\n",
      "loss: 0.063003  [   64/ 5904]\n",
      "Accuracy on Train Set => 0.9197154471544715 | Accuracy on Closed Validation Set => 0.540650406504065\n",
      "EarlyStopping counter: 2 out of 9\n",
      "Epoch 24\n",
      "-------------------------------\n",
      "loss: 0.077061  [   64/ 5904]\n",
      "Accuracy on Train Set => 0.9183604336043361 | Accuracy on Closed Validation Set => 0.5426829268292683\n",
      "EarlyStopping counter: 3 out of 9\n",
      "Epoch 25\n",
      "-------------------------------\n",
      "loss: 0.069990  [   64/ 5904]\n",
      "Accuracy on Train Set => 0.9195460704607046 | Accuracy on Closed Validation Set => 0.5474254742547425\n",
      "EarlyStopping counter: 4 out of 9\n",
      "Epoch 26\n",
      "-------------------------------\n",
      "loss: 0.090158  [   64/ 5904]\n",
      "Accuracy on Train Set => 0.921239837398374 | Accuracy on Closed Validation Set => 0.5487804878048781\n",
      "EarlyStopping counter: 5 out of 9\n",
      "Epoch 27\n",
      "-------------------------------\n",
      "loss: 0.071636  [   64/ 5904]\n",
      "Accuracy on Train Set => 0.9217479674796748 | Accuracy on Closed Validation Set => 0.5501355013550135\n",
      "Epoch 28\n",
      "-------------------------------\n",
      "loss: 0.059120  [   64/ 5904]\n",
      "Accuracy on Train Set => 0.9220867208672087 | Accuracy on Closed Validation Set => 0.5467479674796748\n",
      "EarlyStopping counter: 1 out of 9\n",
      "Epoch 29\n",
      "-------------------------------\n",
      "loss: 0.071633  [   64/ 5904]\n",
      "Accuracy on Train Set => 0.9225948509485095 | Accuracy on Closed Validation Set => 0.5460704607046071\n",
      "EarlyStopping counter: 2 out of 9\n",
      "Epoch 30\n",
      "-------------------------------\n",
      "loss: 0.056439  [   64/ 5904]\n",
      "Accuracy on Train Set => 0.9224254742547425 | Accuracy on Closed Validation Set => 0.5481029810298103\n",
      "EarlyStopping counter: 3 out of 9\n",
      "Epoch 31\n",
      "-------------------------------\n",
      "loss: 0.062788  [   64/ 5904]\n",
      "Accuracy on Train Set => 0.9224254742547425 | Accuracy on Closed Validation Set => 0.5487804878048781\n",
      "EarlyStopping counter: 4 out of 9\n",
      "Epoch 32\n",
      "-------------------------------\n",
      "loss: 0.068641  [   64/ 5904]\n",
      "Accuracy on Train Set => 0.9222560975609756 | Accuracy on Closed Validation Set => 0.5487804878048781\n",
      "EarlyStopping counter: 5 out of 9\n",
      "Epoch 33\n",
      "-------------------------------\n",
      "loss: 0.100834  [   64/ 5904]\n",
      "Accuracy on Train Set => 0.9222560975609756 | Accuracy on Closed Validation Set => 0.5474254742547425\n",
      "EarlyStopping counter: 6 out of 9\n",
      "Epoch 34\n",
      "-------------------------------\n",
      "loss: 0.069902  [   64/ 5904]\n",
      "Accuracy on Train Set => 0.9222560975609756 | Accuracy on Closed Validation Set => 0.5467479674796748\n",
      "EarlyStopping counter: 7 out of 9\n",
      "Epoch 35\n",
      "-------------------------------\n",
      "loss: 0.078722  [   64/ 5904]\n",
      "Accuracy on Train Set => 0.9227642276422764 | Accuracy on Closed Validation Set => 0.5481029810298103\n",
      "EarlyStopping counter: 8 out of 9\n",
      "Epoch 36\n",
      "-------------------------------\n",
      "loss: 0.068757  [   64/ 5904]\n",
      "Accuracy on Train Set => 0.9222560975609756 | Accuracy on Closed Validation Set => 0.551490514905149\n",
      "Epoch 37\n",
      "-------------------------------\n",
      "loss: 0.051428  [   64/ 5904]\n",
      "Accuracy on Train Set => 0.9225948509485095 | Accuracy on Closed Validation Set => 0.5481029810298103\n",
      "EarlyStopping counter: 1 out of 9\n",
      "Epoch 38\n",
      "-------------------------------\n",
      "loss: 0.081761  [   64/ 5904]\n",
      "Accuracy on Train Set => 0.9224254742547425 | Accuracy on Closed Validation Set => 0.5481029810298103\n",
      "EarlyStopping counter: 2 out of 9\n",
      "Epoch 39\n",
      "-------------------------------\n",
      "loss: 0.089061  [   64/ 5904]\n",
      "Accuracy on Train Set => 0.9224254742547425 | Accuracy on Closed Validation Set => 0.5481029810298103\n",
      "EarlyStopping counter: 3 out of 9\n",
      "Epoch 40\n",
      "-------------------------------\n",
      "loss: 0.081575  [   64/ 5904]\n",
      "Accuracy on Train Set => 0.9220867208672087 | Accuracy on Closed Validation Set => 0.5481029810298103\n",
      "EarlyStopping counter: 4 out of 9\n",
      "Epoch 41\n",
      "-------------------------------\n",
      "loss: 0.086035  [   64/ 5904]\n",
      "Accuracy on Train Set => 0.9222560975609756 | Accuracy on Closed Validation Set => 0.5474254742547425\n",
      "EarlyStopping counter: 5 out of 9\n",
      "Epoch 42\n",
      "-------------------------------\n",
      "loss: 0.064643  [   64/ 5904]\n",
      "Accuracy on Train Set => 0.9225948509485095 | Accuracy on Closed Validation Set => 0.5494579945799458\n",
      "EarlyStopping counter: 6 out of 9\n",
      "Epoch 43\n",
      "-------------------------------\n",
      "loss: 0.058956  [   64/ 5904]\n",
      "Accuracy on Train Set => 0.9220867208672087 | Accuracy on Closed Validation Set => 0.5487804878048781\n",
      "EarlyStopping counter: 7 out of 9\n",
      "Epoch 44\n",
      "-------------------------------\n",
      "loss: 0.066362  [   64/ 5904]\n",
      "Accuracy on Train Set => 0.9225948509485095 | Accuracy on Closed Validation Set => 0.5487804878048781\n",
      "EarlyStopping counter: 8 out of 9\n",
      "Epoch 45\n",
      "-------------------------------\n",
      "loss: 0.065974  [   64/ 5904]\n",
      "Accuracy on Train Set => 0.9220867208672087 | Accuracy on Closed Validation Set => 0.5501355013550135\n",
      "EarlyStopping counter: 9 out of 9\n",
      "Early stopping\n",
      "MODEL TRAINED...RE-LOADING BEST MODEL\n",
      "Best Text Model's accuracy on Closed Validation Set => 0.551490514905149\n"
     ]
    }
   ],
   "source": [
    "# early_stopping_text = EarlyStopping(patience=9, delta=0, path=TEXT_MODEL_PATH)\n",
    "# for epoch in range(num_epochs):\n",
    "#     print(f\"Epoch {epoch+1}\\n-------------------------------\")\n",
    "#     train(train_dataloader_text_only, text_model, loss_fn_text, optimizer_text)\n",
    "#     train_accuracy = accuracy(train_dataloader_text_only,text_model)\n",
    "#     val_accuracy = accuracy(val_dataloader_text_only,text_model)\n",
    "#     print(f\"Accuracy on Train Set => {train_accuracy} | Accuracy on Closed Validation Set => {val_accuracy}\")\n",
    "#     scheduler_text.step(val_accuracy)\n",
    "#     early_stopping_text(val_accuracy,text_model)\n",
    "#     if early_stopping_text.early_stop:\n",
    "#         print(\"Early stopping\")\n",
    "#         break\n",
    "    \n",
    "# print(f\"MODEL TRAINED...RE-LOADING BEST MODEL\")\n",
    "# text_model = TextEmotionModel(6)\n",
    "# text_model.to(device)\n",
    "# text_model.load_state_dict(torch.load(TEXT_MODEL_PATH))\n",
    "# best_text_model_val_accuracy = accuracy(val_dataloader_text_only,text_model)\n",
    "# print(f\"Best Text Model's accuracy on Closed Validation Set => {best_text_model_val_accuracy}\")"
   ]
  },
  {
   "cell_type": "markdown",
   "metadata": {},
   "source": [
    "### Audio Unimodal Training"
   ]
  },
  {
   "cell_type": "code",
   "execution_count": null,
   "metadata": {},
   "outputs": [
    {
     "name": "stdout",
     "output_type": "stream",
     "text": [
      "Epoch 1\n",
      "-------------------------------\n",
      "loss: 1.835142  [   64/ 5904]\n"
     ]
    },
    {
     "name": "stdout",
     "output_type": "stream",
     "text": [
      "Accuracy on Train Set => 0.3680555555555556 | Accuracy on Closed Validation Set => 0.35365853658536583\n",
      "Epoch 2\n",
      "-------------------------------\n",
      "loss: 1.523795  [   64/ 5904]\n",
      "Accuracy on Train Set => 0.49983062330623307 | Accuracy on Closed Validation Set => 0.4573170731707317\n",
      "Epoch 3\n",
      "-------------------------------\n",
      "loss: 1.288141  [   64/ 5904]\n",
      "Accuracy on Train Set => 0.35958672086720866 | Accuracy on Closed Validation Set => 0.33062330623306235\n",
      "EarlyStopping counter: 1 out of 9\n",
      "Epoch 4\n",
      "-------------------------------\n",
      "loss: 1.146449  [   64/ 5904]\n",
      "Accuracy on Train Set => 0.4261517615176152 | Accuracy on Closed Validation Set => 0.38685636856368566\n",
      "EarlyStopping counter: 2 out of 9\n",
      "Epoch 5\n",
      "-------------------------------\n",
      "loss: 1.085060  [   64/ 5904]\n",
      "Accuracy on Train Set => 0.4969512195121951 | Accuracy on Closed Validation Set => 0.4349593495934959\n",
      "EarlyStopping counter: 3 out of 9\n",
      "Epoch 6\n",
      "-------------------------------\n",
      "loss: 0.969926  [   64/ 5904]\n",
      "Accuracy on Train Set => 0.4625677506775068 | Accuracy on Closed Validation Set => 0.3915989159891599\n",
      "EarlyStopping counter: 4 out of 9\n",
      "Epoch 7\n",
      "-------------------------------\n",
      "loss: 0.874010  [   64/ 5904]\n",
      "Accuracy on Train Set => 0.6841124661246613 | Accuracy on Closed Validation Set => 0.5345528455284553\n",
      "Epoch 8\n",
      "-------------------------------\n",
      "loss: 0.772440  [   64/ 5904]\n",
      "Accuracy on Train Set => 0.7042682926829268 | Accuracy on Closed Validation Set => 0.5481029810298103\n",
      "Epoch 9\n",
      "-------------------------------\n",
      "loss: 0.752818  [   64/ 5904]\n",
      "Accuracy on Train Set => 0.7130758807588076 | Accuracy on Closed Validation Set => 0.5460704607046071\n",
      "EarlyStopping counter: 1 out of 9\n",
      "Epoch 10\n",
      "-------------------------------\n",
      "loss: 0.586335  [   64/ 5904]\n",
      "Accuracy on Train Set => 0.7257791327913279 | Accuracy on Closed Validation Set => 0.5494579945799458\n",
      "Epoch 11\n",
      "-------------------------------\n",
      "loss: 0.613887  [   64/ 5904]\n",
      "Accuracy on Train Set => 0.7342479674796748 | Accuracy on Closed Validation Set => 0.5548780487804879\n",
      "Epoch 12\n",
      "-------------------------------\n",
      "loss: 0.593665  [   64/ 5904]\n",
      "Accuracy on Train Set => 0.7486449864498645 | Accuracy on Closed Validation Set => 0.5555555555555556\n",
      "Epoch 13\n",
      "-------------------------------\n",
      "loss: 0.561665  [   64/ 5904]\n",
      "Accuracy on Train Set => 0.7591463414634146 | Accuracy on Closed Validation Set => 0.5494579945799458\n",
      "EarlyStopping counter: 1 out of 9\n",
      "Epoch 14\n",
      "-------------------------------\n",
      "loss: 0.479150  [   64/ 5904]\n",
      "Accuracy on Train Set => 0.763550135501355 | Accuracy on Closed Validation Set => 0.5420054200542005\n",
      "EarlyStopping counter: 2 out of 9\n",
      "Epoch 15\n",
      "-------------------------------\n",
      "loss: 0.560515  [   64/ 5904]\n",
      "Accuracy on Train Set => 0.7728658536585366 | Accuracy on Closed Validation Set => 0.5433604336043361\n",
      "EarlyStopping counter: 3 out of 9\n",
      "Epoch 16\n",
      "-------------------------------\n",
      "loss: 0.468410  [   64/ 5904]\n",
      "Accuracy on Train Set => 0.8067411924119241 | Accuracy on Closed Validation Set => 0.5562330623306233\n",
      "Epoch 17\n",
      "-------------------------------\n",
      "loss: 0.441918  [   64/ 5904]\n",
      "Accuracy on Train Set => 0.7943766937669376 | Accuracy on Closed Validation Set => 0.5440379403794038\n",
      "EarlyStopping counter: 1 out of 9\n",
      "Epoch 18\n",
      "-------------------------------\n",
      "loss: 0.377232  [   64/ 5904]\n",
      "Accuracy on Train Set => 0.8248644986449865 | Accuracy on Closed Validation Set => 0.5487804878048781\n",
      "EarlyStopping counter: 2 out of 9\n",
      "Epoch 19\n",
      "-------------------------------\n",
      "loss: 0.404029  [   64/ 5904]\n",
      "Accuracy on Train Set => 0.8136856368563685 | Accuracy on Closed Validation Set => 0.5453929539295393\n",
      "EarlyStopping counter: 3 out of 9\n",
      "Epoch 20\n",
      "-------------------------------\n",
      "loss: 0.344898  [   64/ 5904]\n",
      "Accuracy on Train Set => 0.8373983739837398 | Accuracy on Closed Validation Set => 0.5433604336043361\n",
      "EarlyStopping counter: 4 out of 9\n",
      "Epoch 21\n",
      "-------------------------------\n",
      "loss: 0.401619  [   64/ 5904]\n",
      "Accuracy on Train Set => 0.8716124661246613 | Accuracy on Closed Validation Set => 0.5575880758807588\n",
      "Epoch 22\n",
      "-------------------------------\n",
      "loss: 0.401484  [   64/ 5904]\n",
      "Accuracy on Train Set => 0.8731368563685636 | Accuracy on Closed Validation Set => 0.5691056910569106\n",
      "Epoch 23\n",
      "-------------------------------\n",
      "loss: 0.411799  [   64/ 5904]\n",
      "Accuracy on Train Set => 0.8761856368563685 | Accuracy on Closed Validation Set => 0.5677506775067751\n",
      "EarlyStopping counter: 1 out of 9\n",
      "Epoch 24\n",
      "-------------------------------\n",
      "loss: 0.368625  [   64/ 5904]\n",
      "Accuracy on Train Set => 0.8787262872628726 | Accuracy on Closed Validation Set => 0.5636856368563685\n",
      "EarlyStopping counter: 2 out of 9\n",
      "Epoch 25\n",
      "-------------------------------\n",
      "loss: 0.384064  [   64/ 5904]\n",
      "Accuracy on Train Set => 0.8802506775067751 | Accuracy on Closed Validation Set => 0.5630081300813008\n",
      "EarlyStopping counter: 3 out of 9\n",
      "Epoch 26\n",
      "-------------------------------\n",
      "loss: 0.332922  [   64/ 5904]\n",
      "Accuracy on Train Set => 0.8802506775067751 | Accuracy on Closed Validation Set => 0.5691056910569106\n",
      "Epoch 27\n",
      "-------------------------------\n",
      "loss: 0.365658  [   64/ 5904]\n",
      "Accuracy on Train Set => 0.8810975609756098 | Accuracy on Closed Validation Set => 0.5643631436314364\n",
      "EarlyStopping counter: 1 out of 9\n",
      "Epoch 28\n",
      "-------------------------------\n",
      "loss: 0.317698  [   64/ 5904]\n",
      "Accuracy on Train Set => 0.8826219512195121 | Accuracy on Closed Validation Set => 0.5684281842818428\n",
      "EarlyStopping counter: 2 out of 9\n",
      "Epoch 29\n",
      "-------------------------------\n",
      "loss: 0.342370  [   64/ 5904]\n",
      "Accuracy on Train Set => 0.8810975609756098 | Accuracy on Closed Validation Set => 0.5643631436314364\n",
      "EarlyStopping counter: 3 out of 9\n",
      "Epoch 30\n",
      "-------------------------------\n",
      "loss: 0.378798  [   64/ 5904]\n",
      "Accuracy on Train Set => 0.8800813008130082 | Accuracy on Closed Validation Set => 0.5663956639566395\n",
      "EarlyStopping counter: 4 out of 9\n",
      "Epoch 31\n",
      "-------------------------------\n",
      "loss: 0.283441  [   64/ 5904]\n",
      "Accuracy on Train Set => 0.8812669376693767 | Accuracy on Closed Validation Set => 0.5657181571815718\n",
      "EarlyStopping counter: 5 out of 9\n",
      "Epoch 32\n",
      "-------------------------------\n",
      "loss: 0.315076  [   64/ 5904]\n",
      "Accuracy on Train Set => 0.8822831978319783 | Accuracy on Closed Validation Set => 0.5677506775067751\n",
      "EarlyStopping counter: 6 out of 9\n",
      "Epoch 33\n",
      "-------------------------------\n",
      "loss: 0.396876  [   64/ 5904]\n",
      "Accuracy on Train Set => 0.8819444444444444 | Accuracy on Closed Validation Set => 0.5657181571815718\n",
      "EarlyStopping counter: 7 out of 9\n",
      "Epoch 34\n",
      "-------------------------------\n",
      "loss: 0.324785  [   64/ 5904]\n",
      "Accuracy on Train Set => 0.8816056910569106 | Accuracy on Closed Validation Set => 0.5636856368563685\n",
      "EarlyStopping counter: 8 out of 9\n",
      "Epoch 35\n",
      "-------------------------------\n",
      "loss: 0.344277  [   64/ 5904]\n",
      "Accuracy on Train Set => 0.88329945799458 | Accuracy on Closed Validation Set => 0.5684281842818428\n",
      "EarlyStopping counter: 9 out of 9\n",
      "Early stopping\n",
      "MODEL TRAINED...RE-LOADING BEST MODEL\n",
      "Best Audio Model's accuracy on Closed Validation Set => 0.5691056910569106\n"
     ]
    }
   ],
   "source": [
    "# early_stopping_audio = EarlyStopping(patience=9, delta=0, path=AUDIO_MODEL_PATH)\n",
    "# for epoch in range(num_epochs):\n",
    "#     print(f\"Epoch {epoch+1}\\n-------------------------------\")\n",
    "#     train(train_dataloader_audio_only, audio_model, loss_fn_audio, optimizer_audio)\n",
    "#     train_accuracy = accuracy(train_dataloader_audio_only,audio_model)\n",
    "#     val_accuracy = accuracy(val_dataloader_audio_only,audio_model)\n",
    "#     print(f\"Accuracy on Train Set => {train_accuracy} | Accuracy on Closed Validation Set => {val_accuracy}\")\n",
    "#     scheduler_audio.step(val_accuracy)\n",
    "#     early_stopping_audio(val_accuracy,audio_model)\n",
    "#     if early_stopping_audio.early_stop:\n",
    "#         print(\"Early stopping\")\n",
    "#         break\n",
    "\n",
    "# print(f\"MODEL TRAINED...RE-LOADING BEST MODEL\")\n",
    "# audio_model = AudioEmotionModel(6)\n",
    "# audio_model.to(device)\n",
    "# audio_model.load_state_dict(torch.load(AUDIO_MODEL_PATH))\n",
    "# best_audio_model_val_accuracy = accuracy(val_dataloader_audio_only,audio_model)\n",
    "# print(f\"Best Audio Model's accuracy on Closed Validation Set => {best_audio_model_val_accuracy}\")"
   ]
  },
  {
   "cell_type": "markdown",
   "metadata": {},
   "source": [
    "### Multimodal Training"
   ]
  },
  {
   "cell_type": "code",
   "execution_count": 27,
   "metadata": {},
   "outputs": [
    {
     "name": "stdout",
     "output_type": "stream",
     "text": [
      "Epoch 1\n",
      "-------------------------------\n"
     ]
    },
    {
     "name": "stdout",
     "output_type": "stream",
     "text": [
      "loss: 1.812544  [   64/23616]\n",
      "loss: 1.355613  [ 6464/23616]\n",
      "loss: 1.016742  [12864/23616]\n",
      "loss: 0.800030  [19264/23616]\n"
     ]
    }
   ],
   "source": [
    "early_stopping = EarlyStopping(patience=9, delta=0, path=MULTIMODAL_MODEL_PATH)\n",
    "for epoch in range(num_epochs):\n",
    "    print(f\"Epoch {epoch+1}\\n-------------------------------\")\n",
    "    train(train_dataloader, model, loss_fn, optimizer)\n",
    "    print(f\"Accuracy on Train Set => {accuracy(train_dataloader,model)} | Accuracy on Closed Validation Set => {accuracy(val_closed_set_dataloader,model)}\")\n",
    "    scheduler.step(accuracy(val_closed_set_dataloader,model))\n",
    "    early_stopping(accuracy(val_closed_set_dataloader,model),model)\n",
    "    if early_stopping.early_stop:\n",
    "        print(\"Early stopping\")\n",
    "        break\n",
    "\n",
    "print(f\"MODEL TRAINED...RE-LOADING BEST MODEL\")\n",
    "model = AudioTextEmotionModel(6)\n",
    "model.to(device)\n",
    "model.load_state_dict(torch.load(MULTIMODAL_MODEL_PATH))\n",
    "best_multimodal_model_val_accuracy = accuracy(val_closed_set_dataloader,model)\n",
    "print(f\"Best Multimodal Model's accuracy on Closed Validation Set => {best_multimodal_model_val_accuracy}\")"
   ]
  },
  {
   "cell_type": "markdown",
   "metadata": {
    "collapsed": false
   },
   "source": [
    "## Evaluation (of the multimodal model on closed and open set labels both)"
   ]
  },
  {
   "cell_type": "code",
   "execution_count": 23,
   "metadata": {
    "collapsed": false
   },
   "outputs": [],
   "source": [
    "def set_dropout_to_train(eval_model):\n",
    "    for module in eval_model.modules():\n",
    "        if isinstance(module, nn.Dropout):\n",
    "            module.train()\n",
    "\n",
    "def predict(label, model, text, spectrogram_data, n_simulations=100, threshold=1, other_label=OTHER_LABEL):\n",
    "    predictions = [model(text, spectrogram_data).detach().cpu() for _ in range(n_simulations)]\n",
    "    predictions = torch.stack(predictions)\n",
    "    predictions = F.softmax(predictions, dim=2)\n",
    "\n",
    "    mean_predictions = torch.mean(predictions,dim=0)\n",
    "    std_predictions = torch.mean(torch.std(predictions,dim=0),dim=1)\n",
    "    _,predicted_class = torch.max(mean_predictions,1)\n",
    "    high_uncertainty = std_predictions>threshold\n",
    "    predicted_class[high_uncertainty]=other_label\n",
    "    return predicted_class\n",
    "\n",
    "def evaluate(model, dataloader, device, threshold=0.6):\n",
    "    # After setting the model to evaluation mode, call this function\n",
    "    model.eval()\n",
    "    set_dropout_to_train(model)\n",
    "\n",
    "    size = len(dataloader.dataset)\n",
    "    total_correct = 0\n",
    "    total_confusion_matrix = torch.zeros((7,7))\n",
    "    # total_correct_pred_of_other_label, total_actual_other_label = 0,0\n",
    "    for batch, (text, spectrogram_data, label) in enumerate(dataloader):\n",
    "        text, spectrogram_data, label = text.to(device), spectrogram_data.to(device), label.to(device)\n",
    "\n",
    "        predicted = predict(label, model, text, spectrogram_data, threshold=threshold)\n",
    "        predicted = predicted.cpu()\n",
    "        actual = label.cpu()\n",
    "        correct = predicted == actual\n",
    "        total_correct += correct.sum().item()\n",
    "        cm = confusion_matrix(predicted,actual)\n",
    "        if(cm.shape[0]!=7 and cm.shape[1]!=7):\n",
    "            row_of_zeros = np.zeros((7-cm.shape[0],cm.shape[1]))\n",
    "            array_with_row = np.concatenate((cm, row_of_zeros), axis=0)\n",
    "\n",
    "            # Add a column of zeros at the end\n",
    "            column_of_zeros = np.zeros((7, 7-cm.shape[1]))\n",
    "            array_with_row_and_column = np.concatenate((array_with_row, column_of_zeros), axis=1)\n",
    "            cm = array_with_row_and_column\n",
    "\n",
    "        total_confusion_matrix+= cm\n",
    "\n",
    "    print(total_confusion_matrix)\n",
    "    return total_correct/size"
   ]
  },
  {
   "cell_type": "code",
   "execution_count": 24,
   "metadata": {},
   "outputs": [
    {
     "name": "stdout",
     "output_type": "stream",
     "text": [
      "tensor([[170.,  18.,   7.,  20.,   9.,  11.,  42.],\n",
      "        [ 20., 110.,  11.,   8.,   3.,   6.,   6.],\n",
      "        [  7.,  11.,  80.,   0.,   2.,   4.,  13.],\n",
      "        [  8.,   6.,   0.,  72.,   2.,   1.,   4.],\n",
      "        [  6.,   3.,   1.,   0.,  41.,   5.,   6.],\n",
      "        [  4.,   9.,   4.,   3.,   7.,  67.,   5.],\n",
      "        [  0.,   2.,   0.,   0.,   0.,   0.,   0.]], dtype=torch.float64)\n"
     ]
    },
    {
     "data": {
      "text/plain": [
       "0.6633906633906634"
      ]
     },
     "execution_count": 24,
     "metadata": {},
     "output_type": "execute_result"
    }
   ],
   "source": [
    "evaluate(model,val_dataloader,device,threshold=0.18)"
   ]
  },
  {
   "cell_type": "code",
   "execution_count": 25,
   "metadata": {},
   "outputs": [
    {
     "name": "stdout",
     "output_type": "stream",
     "text": [
      "tensor([[163.,  16.,   6.,  16.,  10.,   9.,  39.],\n",
      "        [ 21., 115.,  17.,   2.,   3.,   9.,   9.],\n",
      "        [  4.,  15.,  73.,   2.,   1.,   3.,  14.],\n",
      "        [ 12.,   3.,   0.,  81.,   2.,   0.,   3.],\n",
      "        [  3.,   5.,   3.,   1.,  41.,   7.,   4.],\n",
      "        [ 12.,   5.,   4.,   0.,   7.,  65.,   7.],\n",
      "        [  1.,   0.,   0.,   0.,   1.,   0.,   0.]], dtype=torch.float64)\n"
     ]
    },
    {
     "data": {
      "text/plain": [
       "0.6609336609336609"
      ]
     },
     "execution_count": 25,
     "metadata": {},
     "output_type": "execute_result"
    }
   ],
   "source": [
    "evaluate(model,test_dataloader,device,threshold=0.18)"
   ]
  },
  {
   "cell_type": "code",
   "execution_count": 34,
   "metadata": {
    "collapsed": false
   },
   "outputs": [],
   "source": [
    "# learn pytorch basic with some basic models and datasets\n",
    "# https://pytorch.org/tutorials/beginner/basics/quickstart_tutorial.html\n",
    "# https://pytorch.org/tutorials/beginner/basics/transforms_tutorial.html\n",
    "# https://pytorch.org/tutorials/beginner/basics/data_tutorial.html\n",
    "# https://pytorch.org/tutorials/beginner/basics/optimization_tutorial.html\n",
    "# https://pytorch.org/tutorials/beginner/basics/autogradqs_tutorial.html\n",
    "# https://pytorch.org/tutorials/beginner/basics/nnqs_tutorial.html"
   ]
  },
  {
   "cell_type": "code",
   "execution_count": null,
   "metadata": {},
   "outputs": [],
   "source": []
  }
 ],
 "metadata": {
  "kernelspec": {
   "display_name": "Python 3",
   "language": "python",
   "name": "python3"
  },
  "language_info": {
   "codemirror_mode": {
    "name": "ipython",
    "version": 3
   },
   "file_extension": ".py",
   "mimetype": "text/x-python",
   "name": "python",
   "nbconvert_exporter": "python",
   "pygments_lexer": "ipython3",
   "version": "3.10.13"
  }
 },
 "nbformat": 4,
 "nbformat_minor": 0
}
