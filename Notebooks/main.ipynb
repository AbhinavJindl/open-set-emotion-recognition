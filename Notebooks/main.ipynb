{
 "cells": [
  {
   "cell_type": "markdown",
   "metadata": {
    "collapsed": false
   },
   "source": [
    "# Open Set Emotion Recognition"
   ]
  },
  {
   "cell_type": "markdown",
   "metadata": {
    "collapsed": false
   },
   "source": [
    "## Library Imports"
   ]
  },
  {
   "cell_type": "code",
   "execution_count": 4,
   "metadata": {
    "collapsed": false
   },
   "outputs": [
    {
     "name": "stdout",
     "output_type": "stream",
     "text": [
      "Using device: cpu\n"
     ]
    }
   ],
   "source": [
    "import warnings\n",
    "warnings.filterwarnings(\"ignore\")\n",
    "import sys\n",
    "import os\n",
    "module_path = os.path.abspath(os.path.join('..'))\n",
    "if module_path not in sys.path:\n",
    "    sys.path.append(module_path)\n",
    "from collections import Counter\n",
    "import torch.nn as nn\n",
    "import os\n",
    "import pandas as pd\n",
    "from torch.utils.data import Dataset\n",
    "from torch.utils.data import DataLoader\n",
    "from tqdm.notebook import tqdm\n",
    "tqdm.pandas()\n",
    "from tqdm import tqdm\n",
    "import re\n",
    "from collections import Counter\n",
    "import torch\n",
    "import numpy as np\n",
    "from sklearn.model_selection import train_test_split\n",
    "from sklearn.metrics import accuracy_score,f1_score,confusion_matrix\n",
    "import torch.nn.functional as F\n",
    "from torch.optim.lr_scheduler import ReduceLROnPlateau\n",
    "import torchaudio\n",
    "from transformers import HubertModel, HubertConfig\n",
    "from sentence_transformers import SentenceTransformer\n",
    "from functools import lru_cache\n",
    "import utils\n",
    "\n",
    "device = (\n",
    "    \"cuda\"\n",
    "    if torch.cuda.is_available()\n",
    "    else \"mps\"\n",
    "    if torch.backends.mps.is_available()\n",
    "    else \"cpu\"\n",
    ")\n",
    "torch.manual_seed(42)\n",
    "print(f\"Using device: {device}\")"
   ]
  },
  {
   "cell_type": "code",
   "execution_count": 188,
   "metadata": {},
   "outputs": [
    {
     "name": "stderr",
     "output_type": "stream",
     "text": [
      "Some weights of the model checkpoint at facebook/hubert-base-ls960 were not used when initializing HubertModel: ['encoder.pos_conv_embed.conv.weight_g', 'encoder.pos_conv_embed.conv.weight_v']\n",
      "- This IS expected if you are initializing HubertModel from the checkpoint of a model trained on another task or with another architecture (e.g. initializing a BertForSequenceClassification model from a BertForPreTraining model).\n",
      "- This IS NOT expected if you are initializing HubertModel from the checkpoint of a model that you expect to be exactly identical (initializing a BertForSequenceClassification model from a BertForSequenceClassification model).\n",
      "Some weights of HubertModel were not initialized from the model checkpoint at facebook/hubert-base-ls960 and are newly initialized: ['encoder.pos_conv_embed.conv.parametrizations.weight.original0', 'encoder.pos_conv_embed.conv.parametrizations.weight.original1']\n",
      "You should probably TRAIN this model on a down-stream task to be able to use it for predictions and inference.\n"
     ]
    }
   ],
   "source": [
    "ALL_LABELS = [\"Neutral state\",\"Frustration\",\"Anger\",\"Sadness\",\"Happiness\",\"Excited\",\"Surprise\",\"Fear\",\"Other\",\"Disgust\"]\n",
    "LABELS_TO_INT = {label: i for i, label in enumerate(ALL_LABELS)}\n",
    "CLOSED_LABELS = ALL_LABELS[:6]\n",
    "OTHER_LABEL = len(CLOSED_LABELS)\n",
    "\n",
    "SAVED_DATA_DIR = os.path.join(os.path.dirname(os.getcwd()), \"SAVED_DATA\")\n",
    "if not os.path.exists(SAVED_DATA_DIR):\n",
    "    os.makedirs(SAVED_DATA_DIR)\n",
    "\n",
    "SAVED_HUBERT_EMBEDDINGS = os.path.join(SAVED_DATA_DIR, \"hubert_embeddings.pickle\")\n",
    "\n",
    "CREATE_AND_SAVE_AUGMENTED_FILES = False\n",
    "\n",
    "if os.path.exists(SAVED_HUBERT_EMBEDDINGS):\n",
    "    hubert_embeddings = utils.load_data_using_pickle(SAVED_HUBERT_EMBEDDINGS)\n",
    "else:\n",
    "    hubert_embeddings = {} # audio path to embedding vector dict\n",
    "\n",
    "\n",
    "HUBERT_MODEL_NAME = \"facebook/hubert-large-ls960-ft\"\n",
    "# HUBERT_MODEL_NAME = \"facebook/hubert-base-ls960\"\n",
    "HUBERT_MODEL_DIMENSION = 1024 # or 768\n",
    "config = HubertConfig.from_pretrained(HUBERT_MODEL_NAME)\n",
    "hubert_model = HubertModel.from_pretrained(HUBERT_MODEL_NAME, config=config)\n",
    "sbert = SentenceTransformer('multi-qa-mpnet-base-dot-v1', device=device)\n",
    "\n",
    "def save_hubert_embeddings():\n",
    "    utils.save_data_using_pickle(hubert_embeddings, SAVED_HUBERT_EMBEDDINGS)"
   ]
  },
  {
   "cell_type": "markdown",
   "metadata": {
    "collapsed": false
   },
   "source": [
    "## Dataset Creation"
   ]
  },
  {
   "cell_type": "markdown",
   "metadata": {
    "collapsed": false
   },
   "source": [
    "### MELD"
   ]
  },
  {
   "cell_type": "code",
   "execution_count": 3,
   "metadata": {
    "collapsed": false
   },
   "outputs": [],
   "source": [
    "# class MELDDataset(Dataset):\n",
    "#     def __init__(self, meld_dir, split, transform=None):\n",
    "#         train_df = pd.read_csv(\"../MELD_Dataset/train_sent_emo.csv\")\n",
    "#         labels = train_df['Emotion'].unique().tolist()\n",
    "#         self.label_to_int = {label: i for i, label in enumerate(labels)}\n",
    "\n",
    "#         self.meld_dir = meld_dir\n",
    "#         self.transform = transform\n",
    "#         self.split = split\n",
    "#         self.img_path = os.path.join(self.meld_dir, 'mel_spectrograms', f'{self.split}_img')\n",
    "#         self.img_path = os.path.join(self.meld_dir, 'log_spectrogram', f'{self.split}_audio')\n",
    "\n",
    "#         # load and create sentence embeddings\n",
    "#         self.dialogues = self.load_dialogues()\n",
    "#         sentences = self.dialogues['Utterance'].tolist()\n",
    "#         sentences = [text.replace(\"\\x92\", \"'\") for text in sentences]\n",
    "#         self.sentence_embeddings = sbert.encode(sentences, convert_to_tensor=True, show_progress_bar=True, batch_size=128, device=device)\n",
    "\n",
    "#         self.spectrograms = self.load_spectrograms()\n",
    "#         self.resnet_model = models.resnet50(pretrained=True)\n",
    "#         self.feature_extractor = torch.nn.Sequential(*list(self.resnet_model.children())[:-1]).to(device)\n",
    "#         self.feature_extractor.eval()\n",
    "\n",
    "#     def load_dialogues(self):\n",
    "#         dialogue_file = os.path.join(self.meld_dir, f'{self.split}_sent_emo.csv')\n",
    "#         dialogues = pd.read_csv(dialogue_file)\n",
    "#         return dialogues\n",
    "\n",
    "#     def load_spectrograms(self):\n",
    "#         images = os.listdir(self.img_path)\n",
    "#         return images\n",
    "\n",
    "#     def __len__(self):\n",
    "#         assert(len(self.sentence_embeddings) == len(self.spectrograms))\n",
    "#         return len(self.dialogues)\n",
    "\n",
    "#     def preprocess_img(self, img):\n",
    "#         preprocessor = transforms.Compose([\n",
    "#             transforms.Resize(256),\n",
    "#             transforms.CenterCrop(224),\n",
    "#             transforms.ToTensor(),\n",
    "#         ])\n",
    "#         img_t =  preprocessor(img).to(device)\n",
    "#         return img_t\n",
    "\n",
    "#     def extract_audio_features_from_spectrogram(self, img):\n",
    "#         # Pass the input through the model\n",
    "#         with torch.no_grad():\n",
    "#             output = self.feature_extractor(img)\n",
    "#         return output\n",
    "\n",
    "#     def __getitem__(self, idx):\n",
    "#         row = self.dialogues.iloc[idx]\n",
    "#         text = self.sentence_embeddings[idx]\n",
    "#         spectrogram_data = Image.open(os.path.join(self.img_path, f'dia{row[\"Dialogue_ID\"]}_utt{row[\"Utterance_ID\"]}.png'))\n",
    "#         spectrogram_data = self.preprocess_img(spectrogram_data)\n",
    "#         spectrogram_data = spectrogram_data[0:3, :, :]\n",
    "#         spectrogram_data = spectrogram_data.unsqueeze(0)\n",
    "#         spectrogram_data = self.extract_audio_features_from_spectrogram(spectrogram_data)\n",
    "#         spectrogram_data = spectrogram_data.view(-1, 2048)[0]\n",
    "#         label = row['Emotion']\n",
    "#         label = torch.tensor(self.label_to_int[label])\n",
    "#         return text, spectrogram_data, label\n",
    "\n",
    "# train_meld = MELDDataset(\"../MELD_Dataset\", \"train\")\n",
    "# # test_meld = MELDDataset(\"../MELD_Dataset\", \"test\")\n",
    "# # dev_meld = MELDDataset(\"../MELD_Dataset\", \"dev\")\n",
    "\n",
    "# # concat all 3 datasets into 1 dataset\n",
    "# meld_dataset = train_meld # + test_meld + dev_meld"
   ]
  },
  {
   "cell_type": "code",
   "execution_count": 4,
   "metadata": {
    "collapsed": false
   },
   "outputs": [],
   "source": [
    "# len(meld_dataset)"
   ]
  },
  {
   "cell_type": "markdown",
   "metadata": {
    "collapsed": false
   },
   "source": [
    "#### IEMOCAP"
   ]
  },
  {
   "cell_type": "code",
   "execution_count": 189,
   "metadata": {},
   "outputs": [],
   "source": [
    "IEMOCAP_FULL_PATH = os.path.join(os.path.dirname(os.getcwd()),\"IEMOCAP_full_release\")\n",
    "IEMOCAP_MAIN_FOLDER = os.path.join(IEMOCAP_FULL_PATH,\"IEMOCAP_full_release\")\n",
    "TRANSCRIPTION_FOLDER = os.path.join(\"dialog\", \"transcriptions\")\n",
    "AUDIO_FOLDER = os.path.join(\"sentences\", \"wav\")\n",
    "CATEGORICAL_LABELS_PATH = os.path.join(\"dialog\", \"EmoEvaluation\", \"Categorical\")\n",
    "AUGMENTED_AUDIO_FOLDER = os.path.join(os.path.dirname(os.getcwd()), \"augmented\")"
   ]
  },
  {
   "cell_type": "code",
   "execution_count": 190,
   "metadata": {},
   "outputs": [],
   "source": [
    "def get_evaluator_filenames_with_video_file_prefix(input_list, prefix_value):\n",
    "    regex_pattern = re.compile(f'^{re.escape(prefix_value)}.*\\.txt$')\n",
    "    matching_strings = [s for s in input_list if regex_pattern.match(s)]\n",
    "    return matching_strings\n",
    "\n",
    "def get_agreed_upon_evaluation(evaluations):\n",
    "    top_two_frequent_evaluations = Counter(evaluations).most_common(2)\n",
    "    if(len(top_two_frequent_evaluations)==1):\n",
    "        return top_two_frequent_evaluations[0][0]\n",
    "    most_frequent_evaluation_and_its_frequency, second_most_frequent_evaluation_and_its_frequency = top_two_frequent_evaluations\n",
    "    highest_frequency = most_frequent_evaluation_and_its_frequency[1]\n",
    "    second_highest_frequency = second_most_frequent_evaluation_and_its_frequency[1]\n",
    "    if(highest_frequency==second_highest_frequency):\n",
    "        return \"AMBIGUOUS\"\n",
    "    else:\n",
    "        return most_frequent_evaluation_and_its_frequency[0]\n",
    "\n",
    "def get_utterance_to_evaluationCounter_mapping_from_evaluation_files(evaluation_files):\n",
    "    utterance_to_all_evaluations = {}\n",
    "\n",
    "    for evaluation_file in evaluation_files:\n",
    "        utterance_to_evaluationList = {}\n",
    "        with open(evaluation_file,'r') as f:\n",
    "            contents = f.read()\n",
    "            utterance_evaluations = contents.split(\"\\n\")\n",
    "            for evaluation in utterance_evaluations:\n",
    "                evaluation = evaluation.strip()\n",
    "                if(len(evaluation)==0):\n",
    "                    continue\n",
    "                matches = re.findall(r':[^;]+;', evaluation)\n",
    "                matches = [match[1:-1] for match in matches]\n",
    "                utterance_to_evaluationList[evaluation.split()[0]] = matches\n",
    "        \n",
    "        # Combine lists from dict1\n",
    "        for key, value_list in utterance_to_evaluationList.items():\n",
    "            utterance_to_all_evaluations[key] = utterance_to_all_evaluations.get(key, []) + value_list\n",
    "\n",
    "    utterance_to_evaluationsCounter = {k: get_agreed_upon_evaluation(v) for k,v in utterance_to_all_evaluations.items()}\n",
    "    return utterance_to_evaluationsCounter\n",
    "\n",
    "def is_label_a_closed_label(evaluation):\n",
    "    return evaluation in CLOSED_LABELS\n",
    "\n",
    "def create_unprocessed_dataset(is_closed_label_set_flag):\n",
    "    dataset = []\n",
    "    audio_files = []\n",
    "    sentences_list = []\n",
    "    for session_num in range(1,6):\n",
    "        for transcription_filename in os.listdir(os.path.join(IEMOCAP_MAIN_FOLDER,f\"Session{session_num}\", TRANSCRIPTION_FOLDER)):\n",
    "            if(transcription_filename[0]!=\".\"): \n",
    "\n",
    "                filename_without_extension = transcription_filename.split(\".\")[0]\n",
    "                \n",
    "                categorical_labels_folder_full_path = os.path.join(IEMOCAP_MAIN_FOLDER, f\"Session{session_num}\", CATEGORICAL_LABELS_PATH)\n",
    "                evaluation_filenames = get_evaluator_filenames_with_video_file_prefix(os.listdir(categorical_labels_folder_full_path), filename_without_extension)\n",
    "                evaluation_files_full_paths_for_this_file = [os.path.join(IEMOCAP_MAIN_FOLDER, f\"Session{session_num}\", CATEGORICAL_LABELS_PATH, f) for f in evaluation_filenames]\n",
    "                evaluations_per_utterance = get_utterance_to_evaluationCounter_mapping_from_evaluation_files(evaluation_files_full_paths_for_this_file)\n",
    "                \n",
    "                transcription_file_full_path = os.path.join(IEMOCAP_MAIN_FOLDER, f\"Session{session_num}\", TRANSCRIPTION_FOLDER, transcription_filename) \n",
    "                with open(transcription_file_full_path,'r') as f:\n",
    "                    contents = f.read()\n",
    "                    lines = contents.split(\"\\n\")\n",
    "\n",
    "                    # Iterate through utterances where every utterance looks like:\n",
    "                    # Ses01F_impro01_F000 [006.2901-008.2357]: Excuse me.\n",
    "                    for line in lines:\n",
    "\n",
    "                        # Remove extra spaces and check if the line is not an empty link (usually at EOF)\n",
    "                        line = line.strip()\n",
    "                        if(len(line)==0):\n",
    "                            break\n",
    "\n",
    "                        # Remove idx of first space, ], -\n",
    "                        try:\n",
    "                            space_idx = line.index(\" \")\n",
    "                            timestampEndBracket_idx = line.index(\"]\")\n",
    "                            timestampHyphen_idx = line.index(\"-\")\n",
    "                        except:\n",
    "                            continue\n",
    "                        else:\n",
    "                            audio_filename = line[:space_idx]        # output audio file name = utterance name\n",
    "                            text = line[timestampEndBracket_idx+3:]         # the transcription of the utterance\n",
    "                            evaluation = evaluations_per_utterance.get(audio_filename,\"KEY_ERROR\")\n",
    "\n",
    "                            utterance_audios_per_video_folder = audio_filename[:line.rindex('_')]       # Only need Ses01F_impro01 from Ses01F_impro01_F000\n",
    "                            audio_file_full_path = os.path.join(IEMOCAP_MAIN_FOLDER, f\"Session{session_num}\", AUDIO_FOLDER, utterance_audios_per_video_folder, audio_filename+\".wav\")         # name of the video file\n",
    "\n",
    "                            if(evaluation!=\"KEY_ERROR\" and evaluation!= \"AMBIGUOUS\" and os.path.isfile(audio_file_full_path)==True and is_label_a_closed_label(evaluation)==is_closed_label_set_flag):\n",
    "                            # if(evaluation!=\"KEY_ERROR\" and os.path.isfile(audio_file_full_path)==True):    \n",
    "                                audio_files.append(audio_file_full_path)\n",
    "                                sentences_list.append(text)\n",
    "                                dataset.append((text,audio_file_full_path,evaluation))\n",
    "    \n",
    "    return dataset, sentences_list, audio_files"
   ]
  },
  {
   "cell_type": "code",
   "execution_count": 191,
   "metadata": {},
   "outputs": [],
   "source": [
    "openSetUnprocessedDataset, openSetSentencesList, openSetAudioFiles = create_unprocessed_dataset(is_closed_label_set_flag = False)\n",
    "closedSetUnprocessedDataset, closedSetSentencesList, closedSetAudioFiles= create_unprocessed_dataset(is_closed_label_set_flag = True)"
   ]
  },
  {
   "cell_type": "code",
   "execution_count": 192,
   "metadata": {},
   "outputs": [
    {
     "data": {
      "text/plain": [
       "('Who told you to get in this line?',\n",
       " 'c:\\\\Users\\\\Abhinav Jindal\\\\OneDrive\\\\Documents\\\\Courses\\\\CS535\\\\open-set-emotion-recognition\\\\IEMOCAP_full_release\\\\IEMOCAP_full_release\\\\Session1\\\\sentences\\\\wav\\\\Ses01F_impro01\\\\Ses01F_impro01_M002.wav',\n",
       " 'Frustration')"
      ]
     },
     "execution_count": 192,
     "metadata": {},
     "output_type": "execute_result"
    }
   ],
   "source": [
    "closedSetUnprocessedDataset[5]"
   ]
  },
  {
   "cell_type": "code",
   "execution_count": 193,
   "metadata": {},
   "outputs": [],
   "source": [
    "class IemocapDataset(Dataset):\n",
    "    def __init__(self, unprocessed_dataset, sentences_list, audio_files, split, is_closed_label_set_flag, save_augmented_files ) -> None:\n",
    "        self.unprocessed_dataset = unprocessed_dataset\n",
    "        self.split = split\n",
    "        self.save_augmented_files = save_augmented_files\n",
    "        self.augment_times = 4\n",
    "        self.sentence_embeddings = sbert.encode(sentences_list, convert_to_tensor=True, show_progress_bar=True, batch_size=128, device=device)\n",
    "\n",
    "        # we augment just for train, so we are repeating the sentences as only audios are augmented\n",
    "        # if self.split == \"train\":\n",
    "        #     self.sentence_embeddings = np.repeat(self.sentence_embeddings, repeats=self.augment_times, axis=0)\n",
    "        \n",
    "        self.audio_files = audio_files\n",
    "        self.is_closed_label_set_flag = is_closed_label_set_flag\n",
    "\n",
    "        # if self.split == \"train\":\n",
    "        #     self.unprocessed_dataset = self.create_augmented_dataset()\n",
    "\n",
    "    def create_augmented_dataset(self):\n",
    "        augmented_dataset = []\n",
    "        os.makedirs(AUGMENTED_AUDIO_FOLDER, exist_ok=True)\n",
    "        for text, audio_file_full_path, evaluation in self.unprocessed_dataset:\n",
    "            _, audio_filename_and_extension = os.path.split(audio_file_full_path)\n",
    "            audio_filename, extension = audio_filename_and_extension.split(\".\")\n",
    "            for augmented_version_num in range(self.augment_times):\n",
    "                augmented_audio_path = os.path.join(AUGMENTED_AUDIO_FOLDER,f\"{audio_filename}_version_{augmented_version_num}.{extension}\")\n",
    "                if self.save_augmented_files:\n",
    "                    utils.augment_audio_and_save(input_audio_path = audio_file_full_path, augmented_audio_path = augmented_audio_path)\n",
    "                else:\n",
    "                    assert(os.path.exists(augmented_audio_path), f\"Augmented Audio Path {augmented_audio_path} not exist\")\n",
    "                augmented_dataset.append((text, augmented_audio_path, evaluation))\n",
    "        return augmented_dataset\n",
    "    \n",
    "    def get_hidden_states_from_audio_and_save(self, audio_path):\n",
    "        if os.path.basename(audio_path) in hubert_embeddings:\n",
    "            return hubert_embeddings[os.path.basename(audio_path)]\n",
    "        \n",
    "        waveform, sample_rate = torchaudio.load(audio_path)\n",
    "\n",
    "        # Resample if necessary (HuBERT uses 16 kHz sample rate)\n",
    "        if sample_rate != 16000:\n",
    "            waveform = torchaudio.transforms.Resample(sample_rate, 16000)(waveform)\n",
    "            sample_rate = 16000\n",
    "\n",
    "        # Ensure single channel audio (mono)\n",
    "        if waveform.shape[0] > 1:\n",
    "            waveform = torch.mean(waveform, dim=0, keepdim=True)\n",
    "\n",
    "        # Normalize audio\n",
    "        waveform = waveform / torch.max(torch.abs(waveform))\n",
    "\n",
    "        # Step 3: Encode audio waveforms using HuBERT model\n",
    "        # Pass the waveform through the model\n",
    "        with torch.no_grad():\n",
    "            outputs = hubert_model(waveform)\n",
    "\n",
    "        # Get the hidden states\n",
    "        hidden_states = outputs.last_hidden_state\n",
    "        hubert_embeddings[os.path.basename(audio_path)] = hidden_states\n",
    "        return hidden_states\n",
    "\n",
    "    def get_audio_features(self, audio_path):\n",
    "        hidden_states = self.get_hidden_states_from_audio_and_save(audio_path)\n",
    "        frame_averaged_hidden_states = torch.mean(hidden_states, dim=1)\n",
    "        frame_averaged_hidden_states = frame_averaged_hidden_states.view(-1,HUBERT_MODEL_DIMENSION)[0]\n",
    "        return frame_averaged_hidden_states\n",
    "    \n",
    "    def __len__(self):\n",
    "        return len(self.unprocessed_dataset)\n",
    "    \n",
    "    def __getitem__(self, idx):\n",
    "        _, audio, label = self.unprocessed_dataset[idx]\n",
    "\n",
    "        text = self.sentence_embeddings[idx]\n",
    "        audio_features = self.get_audio_features(audio)\n",
    "\n",
    "        if self.is_closed_label_set_flag==False:\n",
    "            label = OTHER_LABEL\n",
    "        else:\n",
    "            label = LABELS_TO_INT[label]\n",
    "        \n",
    "        return text, audio_features, label"
   ]
  },
  {
   "cell_type": "code",
   "execution_count": 194,
   "metadata": {},
   "outputs": [],
   "source": [
    "def get_stratified_split(unprocessed_dataset, sentences_list, audio_files, test_size):\n",
    "    # instance[-1] is label\n",
    "    labels = [instance[-1] for instance in unprocessed_dataset]\n",
    "    unprocessed_train_dataset, unprocessed_test_dataset, train_sentences_list, test_sentences_list, train_audio_files, test_audio_files = train_test_split(unprocessed_dataset, sentences_list, audio_files, test_size=test_size, stratify=labels, random_state=42)\n",
    "    return unprocessed_train_dataset, unprocessed_test_dataset, train_sentences_list, test_sentences_list, train_audio_files, test_audio_files"
   ]
  },
  {
   "cell_type": "code",
   "execution_count": 195,
   "metadata": {},
   "outputs": [],
   "source": [
    "closed_set_unprocessed_train_dataset, temp_unprocessed_dataset, closed_set_train_sentences_list, temp_sentences_list, closed_set_train_audio_files, temp_audio_files = get_stratified_split(closedSetUnprocessedDataset, closedSetSentencesList, closedSetAudioFiles, 0.2)\n",
    "closed_set_unprocessed_val_dataset, closed_set_unprocessed_test_dataset, closed_set_val_sentences_list, closed_set_test_sentences_list, closed_set_val_audio_files, closed_set_test_audio_files = get_stratified_split(temp_unprocessed_dataset, temp_sentences_list, temp_audio_files, 0.5)\n",
    "open_set_unprocessed_val_dataset, open_set_unprocessed_test_dataset, open_set_val_sentences_list, open_set_test_sentences_list, open_set_val_audio_files, open_set_test_audio_files = get_stratified_split(openSetUnprocessedDataset, openSetSentencesList, openSetAudioFiles, 0.5)\n",
    "# entire_val_dataset = closed_set_unprocessed_val_dataset + open_set_unprocessed_val_dataset\n",
    "# entire_test_dataset = closed_set_unprocessed_test_dataset + open_set_unprocessed_test_dataset"
   ]
  },
  {
   "cell_type": "code",
   "execution_count": 196,
   "metadata": {},
   "outputs": [
    {
     "data": {
      "application/vnd.jupyter.widget-view+json": {
       "model_id": "a75370812ecc4f96ae46372ed05cb384",
       "version_major": 2,
       "version_minor": 0
      },
      "text/plain": [
       "Batches:   0%|          | 0/7 [00:00<?, ?it/s]"
      ]
     },
     "metadata": {},
     "output_type": "display_data"
    },
    {
     "data": {
      "application/vnd.jupyter.widget-view+json": {
       "model_id": "52eef151710d4861acff0a938433f7d2",
       "version_major": 2,
       "version_minor": 0
      },
      "text/plain": [
       "Batches:   0%|          | 0/1 [00:00<?, ?it/s]"
      ]
     },
     "metadata": {},
     "output_type": "display_data"
    },
    {
     "data": {
      "application/vnd.jupyter.widget-view+json": {
       "model_id": "7af6b90f97ad4c6b80839138a18cf647",
       "version_major": 2,
       "version_minor": 0
      },
      "text/plain": [
       "Batches:   0%|          | 0/1 [00:00<?, ?it/s]"
      ]
     },
     "metadata": {},
     "output_type": "display_data"
    },
    {
     "data": {
      "application/vnd.jupyter.widget-view+json": {
       "model_id": "6e175f9a6586412eaee96838769886fa",
       "version_major": 2,
       "version_minor": 0
      },
      "text/plain": [
       "Batches:   0%|          | 0/1 [00:00<?, ?it/s]"
      ]
     },
     "metadata": {},
     "output_type": "display_data"
    },
    {
     "data": {
      "application/vnd.jupyter.widget-view+json": {
       "model_id": "23fe24b6396e41c6a093b654eaaaba5c",
       "version_major": 2,
       "version_minor": 0
      },
      "text/plain": [
       "Batches:   0%|          | 0/1 [00:00<?, ?it/s]"
      ]
     },
     "metadata": {},
     "output_type": "display_data"
    }
   ],
   "source": [
    "closed_set_train_dataset = IemocapDataset(unprocessed_dataset = closed_set_unprocessed_train_dataset,\n",
    "                                          sentences_list = closed_set_train_sentences_list,\n",
    "                                          audio_files = closed_set_train_audio_files,\n",
    "                                          split = \"train\",\n",
    "                                          is_closed_label_set_flag = True,\n",
    "                                          save_augmented_files=CREATE_AND_SAVE_AUGMENTED_FILES)\n",
    "\n",
    "closed_set_val_dataset = IemocapDataset(unprocessed_dataset = closed_set_unprocessed_val_dataset,\n",
    "                                        sentences_list = closed_set_val_sentences_list,\n",
    "                                        audio_files = closed_set_val_audio_files,\n",
    "                                        split=\"val\",\n",
    "                                        is_closed_label_set_flag=True,\n",
    "                                        save_augmented_files=CREATE_AND_SAVE_AUGMENTED_FILES)\n",
    "\n",
    "closed_set_test_dataset = IemocapDataset(unprocessed_dataset = closed_set_unprocessed_test_dataset,\n",
    "                                        sentences_list = closed_set_test_sentences_list,\n",
    "                                        audio_files = closed_set_test_audio_files,\n",
    "                                        split=\"test\",\n",
    "                                        is_closed_label_set_flag=True,\n",
    "                                        save_augmented_files=CREATE_AND_SAVE_AUGMENTED_FILES)\n",
    "\n",
    "open_set_val_dataset = IemocapDataset(unprocessed_dataset = open_set_unprocessed_val_dataset,\n",
    "                                      sentences_list = open_set_val_sentences_list,\n",
    "                                      audio_files = open_set_val_audio_files,\n",
    "                                      split=\"val\",\n",
    "                                      is_closed_label_set_flag=False,\n",
    "                                      save_augmented_files=CREATE_AND_SAVE_AUGMENTED_FILES)\n",
    "\n",
    "open_set_test_dataset = IemocapDataset(unprocessed_dataset = open_set_unprocessed_test_dataset,\n",
    "                                      sentences_list = open_set_test_sentences_list,\n",
    "                                      audio_files = open_set_test_audio_files,\n",
    "                                      split=\"test\",\n",
    "                                      is_closed_label_set_flag=False,\n",
    "                                      save_augmented_files=CREATE_AND_SAVE_AUGMENTED_FILES)"
   ]
  },
  {
   "cell_type": "code",
   "execution_count": 197,
   "metadata": {},
   "outputs": [
    {
     "name": "stdout",
     "output_type": "stream",
     "text": [
      "800\n",
      "100\n",
      "100\n",
      "76\n",
      "76\n"
     ]
    }
   ],
   "source": [
    "print(len(closed_set_train_dataset))\n",
    "print(len(closed_set_val_dataset))\n",
    "print(len(closed_set_test_dataset))\n",
    "print(len(open_set_val_dataset))\n",
    "print(len(open_set_test_dataset))\n"
   ]
  },
  {
   "cell_type": "code",
   "execution_count": 198,
   "metadata": {},
   "outputs": [],
   "source": [
    "entire_val_dataset = closed_set_val_dataset + open_set_val_dataset\n",
    "entire_test_dataset = closed_set_test_dataset + open_set_test_dataset"
   ]
  },
  {
   "cell_type": "code",
   "execution_count": 199,
   "metadata": {},
   "outputs": [
    {
     "data": {
      "text/plain": [
       "(176, 176)"
      ]
     },
     "execution_count": 199,
     "metadata": {},
     "output_type": "execute_result"
    }
   ],
   "source": [
    "len(entire_val_dataset), len(entire_test_dataset)"
   ]
  },
  {
   "cell_type": "code",
   "execution_count": 200,
   "metadata": {
    "collapsed": false
   },
   "outputs": [],
   "source": [
    "# Create data loaders.\n",
    "batch_size = 64\n",
    "\n",
    "# AUDIO + TEXT DATALOADERS (CONSISTS OF BOTH OPEN AND CLOSED LABELS)\n",
    "train_dataloader = DataLoader(closed_set_train_dataset, batch_size=batch_size, shuffle=True)\n",
    "val_dataloader = DataLoader(entire_val_dataset, batch_size=batch_size, shuffle=True)\n",
    "test_dataloader = DataLoader(entire_test_dataset, batch_size=batch_size, shuffle=True)\n",
    "\n",
    "# AUDIO + TEXT DATALOADERS (ONLY CLOSED LABELS - USED FOR CHECKING MODEL PERFORMANCE AFTER KEEPING ASIDE THE OPEN SET CHALLENGE)\n",
    "val_closed_set_dataloader = DataLoader(closed_set_val_dataset, batch_size=batch_size, shuffle=True)\n",
    "test_closed_set_dataloader = DataLoader(closed_set_test_dataset, batch_size=batch_size, shuffle=True)\n",
    "\n"
   ]
  },
  {
   "cell_type": "markdown",
   "metadata": {
    "collapsed": false
   },
   "source": [
    "## Model Architectures Definition"
   ]
  },
  {
   "cell_type": "code",
   "execution_count": 201,
   "metadata": {},
   "outputs": [],
   "source": [
    "# MODELS PATHS\n",
    "MODELS_DIR = os.path.join(os.path.dirname(os.getcwd()), \"MODELS\")\n",
    "if not os.path.exists(MODELS_DIR):\n",
    "    os.makedirs(MODELS_DIR)\n",
    "\n",
    "TEXT_MODEL_PATH = os.path.join(MODELS_DIR, \"text_model_augmented.pt\")\n",
    "AUDIO_MODEL_PATH = os.path.join(MODELS_DIR, \"audio_model_augmented.pt\")\n",
    "MULTIMODAL_MODEL_PATH = os.path.join(MODELS_DIR, \"multimodal_model_augmented.pt\")"
   ]
  },
  {
   "cell_type": "code",
   "execution_count": 202,
   "metadata": {},
   "outputs": [],
   "source": [
    "class EarlyStopping:\n",
    "    def __init__(self, patience=5, delta=0, path='model_checkpoint.pt'):\n",
    "        self.patience = patience\n",
    "        self.delta = delta\n",
    "        self.path = path\n",
    "        self.counter = 0\n",
    "        self.best_score = None\n",
    "        self.early_stop = False\n",
    "        self.val_acc_max = np.Inf\n",
    "\n",
    "    def __call__(self, val_acc, model):\n",
    "\n",
    "        if self.best_score is None:\n",
    "            self.best_score = val_acc\n",
    "            self.save_checkpoint(val_acc, model)\n",
    "        elif val_acc < self.best_score + self.delta:\n",
    "            self.counter += 1\n",
    "            print(f'EarlyStopping counter: {self.counter} out of {self.patience}')\n",
    "            if self.counter >= self.patience:\n",
    "                self.early_stop = True\n",
    "        else:\n",
    "            self.best_score = val_acc\n",
    "            self.save_checkpoint(val_acc, model)\n",
    "            self.counter = 0\n",
    "\n",
    "    def save_checkpoint(self, val_acc, model):\n",
    "        torch.save(model.state_dict(), self.path)\n",
    "        self.val_loss_min = val_acc\n",
    "        save_hubert_embeddings()"
   ]
  },
  {
   "cell_type": "markdown",
   "metadata": {},
   "source": [
    "### Text Unimodal"
   ]
  },
  {
   "cell_type": "code",
   "execution_count": 203,
   "metadata": {},
   "outputs": [
    {
     "data": {
      "text/plain": [
       "TextEmotionModel(\n",
       "  (fc): Sequential(\n",
       "    (0): Linear(in_features=768, out_features=1024, bias=True)\n",
       "    (1): BatchNorm1d(1024, eps=1e-05, momentum=0.1, affine=True, track_running_stats=True)\n",
       "    (2): Dropout(p=0.2, inplace=False)\n",
       "    (3): ReLU()\n",
       "    (4): Linear(in_features=1024, out_features=512, bias=True)\n",
       "    (5): BatchNorm1d(512, eps=1e-05, momentum=0.1, affine=True, track_running_stats=True)\n",
       "    (6): Dropout(p=0.2, inplace=False)\n",
       "    (7): ReLU()\n",
       "    (8): Linear(in_features=512, out_features=6, bias=True)\n",
       "  )\n",
       ")"
      ]
     },
     "execution_count": 203,
     "metadata": {},
     "output_type": "execute_result"
    }
   ],
   "source": [
    "class TextEmotionModel(nn.Module):\n",
    "    def __init__(self, num_classes):\n",
    "        super(TextEmotionModel, self).__init__()\n",
    "        # sequential model with 2 layers, followed by dropout and relu layers and output layer\n",
    "        self.fc = nn.Sequential(\n",
    "            nn.Linear(768, 1024),\n",
    "            nn.BatchNorm1d(1024),\n",
    "            nn.Dropout(0.2),\n",
    "            nn.ReLU(),\n",
    "            nn.Linear(1024, 512),\n",
    "            nn.BatchNorm1d(512),\n",
    "            nn.Dropout(0.2),\n",
    "            nn.ReLU(),\n",
    "            nn.Linear(512, num_classes)\n",
    "        )\n",
    "\n",
    "\n",
    "    def forward(self, text):\n",
    "        return self.fc(text)\n",
    "\n",
    "\n",
    "text_model = TextEmotionModel(6)\n",
    "text_model.to(device)"
   ]
  },
  {
   "cell_type": "markdown",
   "metadata": {},
   "source": [
    "### Audio Unimodal"
   ]
  },
  {
   "cell_type": "code",
   "execution_count": 204,
   "metadata": {},
   "outputs": [
    {
     "data": {
      "text/plain": [
       "AudioEmotionModel(\n",
       "  (fc): Sequential(\n",
       "    (0): Linear(in_features=1024, out_features=1024, bias=True)\n",
       "    (1): BatchNorm1d(1024, eps=1e-05, momentum=0.1, affine=True, track_running_stats=True)\n",
       "    (2): Dropout(p=0.2, inplace=False)\n",
       "    (3): ReLU()\n",
       "    (4): Linear(in_features=1024, out_features=512, bias=True)\n",
       "    (5): BatchNorm1d(512, eps=1e-05, momentum=0.1, affine=True, track_running_stats=True)\n",
       "    (6): Dropout(p=0.2, inplace=False)\n",
       "    (7): ReLU()\n",
       "    (8): Linear(in_features=512, out_features=6, bias=True)\n",
       "  )\n",
       ")"
      ]
     },
     "execution_count": 204,
     "metadata": {},
     "output_type": "execute_result"
    }
   ],
   "source": [
    "class AudioEmotionModel(nn.Module):\n",
    "    def __init__(self, num_classes):\n",
    "        super(AudioEmotionModel, self).__init__()\n",
    "        # sequential model with 2 layers, followed by dropout and relu layers and output layer\n",
    "        self.fc = nn.Sequential(\n",
    "            nn.Linear(1024, 1024),\n",
    "            nn.BatchNorm1d(1024),\n",
    "            nn.Dropout(0.2),\n",
    "            nn.ReLU(),\n",
    "            nn.Linear(1024, 512),\n",
    "            nn.BatchNorm1d(512),\n",
    "            nn.Dropout(0.2),\n",
    "            nn.ReLU(),\n",
    "            nn.Linear(512, num_classes)\n",
    "        )\n",
    "\n",
    "\n",
    "    def forward(self, audio):\n",
    "        return self.fc(audio)\n",
    "\n",
    "\n",
    "audio_model = AudioEmotionModel(6)\n",
    "audio_model.to(device)"
   ]
  },
  {
   "cell_type": "markdown",
   "metadata": {},
   "source": [
    "### Multimodal"
   ]
  },
  {
   "cell_type": "code",
   "execution_count": 212,
   "metadata": {
    "collapsed": false
   },
   "outputs": [],
   "source": [
    "class AudioTextEmotionModel(nn.Module):\n",
    "    def __init__(self, num_classes):\n",
    "        super(AudioTextEmotionModel, self).__init__()\n",
    "        # sequential model with 2 layers, followed by dropout and relu layers and output layer\n",
    "        self.fc = nn.Sequential(\n",
    "            nn.Linear(HUBERT_MODEL_DIMENSION + 768, 1024),\n",
    "            nn.BatchNorm1d(1024),\n",
    "            nn.Dropout(0.2),\n",
    "            nn.ReLU(),\n",
    "            nn.Linear(1024, 512),\n",
    "            nn.BatchNorm1d(512),\n",
    "            nn.Dropout(0.2),\n",
    "            nn.ReLU(),\n",
    "            nn.Linear(512, num_classes)\n",
    "        )\n",
    "\n",
    "\n",
    "    def forward(self, text, audio):\n",
    "        combined = torch.cat([audio, text], axis=1)\n",
    "        return self.fc(combined)"
   ]
  },
  {
   "cell_type": "markdown",
   "metadata": {
    "collapsed": false
   },
   "source": [
    "## Loss Function and Optimizer (of the 2 unimodal models and the multimodal model)"
   ]
  },
  {
   "cell_type": "code",
   "execution_count": 210,
   "metadata": {
    "collapsed": false
   },
   "outputs": [],
   "source": [
    "# TEXT ONLY \n",
    "loss_fn_text = nn.CrossEntropyLoss()\n",
    "optimizer_text = torch.optim.RMSprop(text_model.parameters(), lr=1e-3, momentum=0.9)\n",
    "scheduler_text = ReduceLROnPlateau(optimizer_text, mode='max', factor=0.1, patience=3, verbose=True)\n",
    "\n",
    "# AUDIO ONLY\n",
    "loss_fn_audio = nn.CrossEntropyLoss()\n",
    "optimizer_audio = torch.optim.RMSprop(audio_model.parameters(), lr=1e-3, momentum=0.9)\n",
    "scheduler_audio = ReduceLROnPlateau(optimizer_audio, mode='max', factor=0.1, patience=3, verbose=True)\n",
    "\n",
    "num_epochs = 100"
   ]
  },
  {
   "cell_type": "markdown",
   "metadata": {
    "collapsed": false
   },
   "source": [
    "## Train (the 2 unimodal models and the multimodal model on only closed set labels to test the performance. We have kept aside the open set challenge for now)"
   ]
  },
  {
   "cell_type": "code",
   "execution_count": 211,
   "metadata": {
    "collapsed": false
   },
   "outputs": [],
   "source": [
    "def accuracy(dataloader, model):\n",
    "    size = len(dataloader.dataset)\n",
    "    total_correct = 0\n",
    "    model.eval()\n",
    "    for batch, x_and_y in enumerate(dataloader):\n",
    "        x_and_y_device = [x_and_y[i].to(device) for i in range(len(x_and_y))]\n",
    "\n",
    "        # Compute prediction error\n",
    "        pred = model(*x_and_y_device[:-1])\n",
    "        predicted = torch.argmax(pred,dim=1).cpu()\n",
    "        label = x_and_y_device[-1]\n",
    "        actual = label.cpu()\n",
    "        correct = predicted == actual\n",
    "        total_correct += correct.sum().item()\n",
    "    return total_correct/size\n",
    "\n",
    "def train(dataloader, model, loss_fn, optimizer):\n",
    "    size = len(dataloader.dataset)\n",
    "    model.train()\n",
    "    for batch, x_and_y in enumerate(dataloader):\n",
    "        x_and_y_device = [x_and_y[i].to(device) for i in range(len(x_and_y))]\n",
    "\n",
    "        # Compute prediction error\n",
    "        pred = model(*x_and_y_device[:-1])\n",
    "        label = x_and_y_device[-1]\n",
    "        loss = loss_fn(pred, label)\n",
    "\n",
    "        # Backpropagation\n",
    "        loss.backward()\n",
    "        optimizer.step()\n",
    "        optimizer.zero_grad()\n",
    "\n",
    "        if batch % 100 == 0:\n",
    "            loss, current = loss.item(), (batch + 1) * len(x_and_y_device[0])\n",
    "            \n",
    "            print(f\"loss: {loss:>7f}  [{current:>5d}/{size:>5d}]\")\n",
    "\n",
    "    save_hubert_embeddings()"
   ]
  },
  {
   "cell_type": "markdown",
   "metadata": {},
   "source": [
    "### Text Unimodal Training"
   ]
  },
  {
   "cell_type": "code",
   "execution_count": 208,
   "metadata": {},
   "outputs": [],
   "source": [
    "# early_stopping_text = EarlyStopping(patience=9, delta=0, path=TEXT_MODEL_PATH)\n",
    "# for epoch in range(num_epochs):\n",
    "#     print(f\"Epoch {epoch+1}\\n-------------------------------\")\n",
    "#     train(train_dataloader_text_only, text_model, loss_fn_text, optimizer_text)\n",
    "#     train_accuracy = accuracy(train_dataloader_text_only,text_model)\n",
    "#     val_accuracy = accuracy(val_dataloader_text_only,text_model)\n",
    "#     print(f\"Accuracy on Train Set => {train_accuracy} | Accuracy on Closed Validation Set => {val_accuracy}\")\n",
    "#     scheduler_text.step(val_accuracy)\n",
    "#     early_stopping_text(val_accuracy,text_model)\n",
    "#     if early_stopping_text.early_stop:\n",
    "#         print(\"Early stopping\")\n",
    "#         break\n",
    "    \n",
    "# print(f\"MODEL TRAINED...RE-LOADING BEST MODEL\")\n",
    "# text_model = TextEmotionModel(6)\n",
    "# text_model.to(device)\n",
    "# text_model.load_state_dict(torch.load(TEXT_MODEL_PATH))\n",
    "# best_text_model_val_accuracy = accuracy(val_dataloader_text_only,text_model)\n",
    "# print(f\"Best Text Model's accuracy on Closed Validation Set => {best_text_model_val_accuracy}\")"
   ]
  },
  {
   "cell_type": "markdown",
   "metadata": {},
   "source": [
    "### Audio Unimodal Training"
   ]
  },
  {
   "cell_type": "code",
   "execution_count": 209,
   "metadata": {},
   "outputs": [],
   "source": [
    "# early_stopping_audio = EarlyStopping(patience=9, delta=0, path=AUDIO_MODEL_PATH)\n",
    "# for epoch in range(num_epochs):\n",
    "#     print(f\"Epoch {epoch+1}\\n-------------------------------\")\n",
    "#     train(train_dataloader_audio_only, audio_model, loss_fn_audio, optimizer_audio)\n",
    "#     train_accuracy = accuracy(train_dataloader_audio_only,audio_model)\n",
    "#     val_accuracy = accuracy(val_dataloader_audio_only,audio_model)\n",
    "#     print(f\"Accuracy on Train Set => {train_accuracy} | Accuracy on Closed Validation Set => {val_accuracy}\")\n",
    "#     scheduler_audio.step(val_accuracy)\n",
    "#     early_stopping_audio(val_accuracy,audio_model)\n",
    "#     if early_stopping_audio.early_stop:\n",
    "#         print(\"Early stopping\")\n",
    "#         break\n",
    "\n",
    "# print(f\"MODEL TRAINED...RE-LOADING BEST MODEL\")\n",
    "# audio_model = AudioEmotionModel(6)\n",
    "# audio_model.to(device)\n",
    "# audio_model.load_state_dict(torch.load(AUDIO_MODEL_PATH))\n",
    "# best_audio_model_val_accuracy = accuracy(val_dataloader_audio_only,audio_model)\n",
    "# print(f\"Best Audio Model's accuracy on Closed Validation Set => {best_audio_model_val_accuracy}\")"
   ]
  },
  {
   "cell_type": "code",
   "execution_count": 222,
   "metadata": {},
   "outputs": [],
   "source": [
    "# from torchosr.models import Openmax\n",
    "# temp_model = AudioTextEmotionModel(6)\n",
    "# temp_model.to(device)\n",
    "# model = Openmax(lower_stack=temp_model, n_known=6)\n",
    "# model.to(device)\n",
    "\n",
    "# # TEXT + AUDIO\n",
    "# loss_fn = nn.CrossEntropyLoss()\n",
    "# optimizer = torch.optim.RMSprop(model.parameters(), lr=1e-3, momentum=0.9)\n",
    "# scheduler = ReduceLROnPlateau(optimizer, mode='max', factor=0.1, patience=3, verbose=True)\n",
    "\n",
    "# early_stopping = EarlyStopping(patience=9, delta=0, path=MULTIMODAL_MODEL_PATH)\n",
    "# for epoch in range(num_epochs):\n",
    "#     print(f\"Epoch {epoch+1}\\n-------------------------------\")\n",
    "#     model.train(train_dataloader, loss_fn, optimizer)\n",
    "    # print(f\"Accuracy on Train Set => {accuracy(train_dataloader,model)} | Accuracy on Closed Validation Set => {accuracy(val_closed_set_dataloader,model)}\")\n",
    "    # scheduler.step(accuracy(val_closed_set_dataloader,model))\n",
    "    # early_stopping(accuracy(val_closed_set_dataloader,model),model)\n",
    "    # if early_stopping.early_stop:\n",
    "    #     print(\"Early stopping\")\n",
    "    #     break\n",
    "\n",
    "# best_multimodal_model_val_accuracy = accuracy(val_closed_set_dataloader,model)\n",
    "# print(f\"Best Multimodal Model's accuracy on Closed Validation Set => {best_multimodal_model_val_accuracy}\")"
   ]
  },
  {
   "cell_type": "markdown",
   "metadata": {},
   "source": [
    "### Multimodal Training"
   ]
  },
  {
   "cell_type": "code",
   "execution_count": 157,
   "metadata": {},
   "outputs": [
    {
     "name": "stdout",
     "output_type": "stream",
     "text": [
      "Epoch 1\n",
      "-------------------------------\n",
      "loss: 0.011866  [   64/  800]\n",
      "Accuracy on Train Set => 1.0 | Accuracy on Closed Validation Set => 0.58\n",
      "Epoch 2\n",
      "-------------------------------\n",
      "loss: 0.009267  [   64/  800]\n",
      "Accuracy on Train Set => 1.0 | Accuracy on Closed Validation Set => 0.57\n",
      "EarlyStopping counter: 1 out of 9\n",
      "Epoch 3\n",
      "-------------------------------\n",
      "loss: 0.043240  [   64/  800]\n",
      "Accuracy on Train Set => 1.0 | Accuracy on Closed Validation Set => 0.59\n",
      "Epoch 4\n",
      "-------------------------------\n",
      "loss: 0.052966  [   64/  800]\n",
      "Accuracy on Train Set => 1.0 | Accuracy on Closed Validation Set => 0.58\n",
      "EarlyStopping counter: 1 out of 9\n",
      "Epoch 5\n",
      "-------------------------------\n",
      "loss: 0.019091  [   64/  800]\n",
      "Accuracy on Train Set => 1.0 | Accuracy on Closed Validation Set => 0.58\n",
      "EarlyStopping counter: 2 out of 9\n",
      "Epoch 6\n",
      "-------------------------------\n",
      "loss: 0.010346  [   64/  800]\n",
      "Accuracy on Train Set => 1.0 | Accuracy on Closed Validation Set => 0.58\n",
      "EarlyStopping counter: 3 out of 9\n",
      "Epoch 7\n",
      "-------------------------------\n",
      "loss: 0.046045  [   64/  800]\n",
      "Accuracy on Train Set => 1.0 | Accuracy on Closed Validation Set => 0.57\n",
      "EarlyStopping counter: 4 out of 9\n",
      "Epoch 8\n",
      "-------------------------------\n",
      "loss: 0.013278  [   64/  800]\n",
      "Accuracy on Train Set => 1.0 | Accuracy on Closed Validation Set => 0.57\n",
      "EarlyStopping counter: 5 out of 9\n",
      "Epoch 9\n",
      "-------------------------------\n",
      "loss: 0.011472  [   64/  800]\n",
      "Accuracy on Train Set => 1.0 | Accuracy on Closed Validation Set => 0.56\n",
      "EarlyStopping counter: 6 out of 9\n",
      "Epoch 10\n",
      "-------------------------------\n",
      "loss: 0.033567  [   64/  800]\n",
      "Accuracy on Train Set => 1.0 | Accuracy on Closed Validation Set => 0.58\n",
      "EarlyStopping counter: 7 out of 9\n",
      "Epoch 11\n",
      "-------------------------------\n",
      "loss: 0.057838  [   64/  800]\n",
      "Accuracy on Train Set => 1.0 | Accuracy on Closed Validation Set => 0.58\n",
      "EarlyStopping counter: 8 out of 9\n",
      "Epoch 12\n",
      "-------------------------------\n",
      "loss: 0.012651  [   64/  800]\n",
      "Accuracy on Train Set => 1.0 | Accuracy on Closed Validation Set => 0.58\n",
      "EarlyStopping counter: 9 out of 9\n",
      "Early stopping\n",
      "MODEL TRAINED...RE-LOADING BEST MODEL\n",
      "Best Multimodal Model's accuracy on Closed Validation Set => 0.59\n"
     ]
    }
   ],
   "source": [
    "model = AudioTextEmotionModel(6)\n",
    "model.to(device)\n",
    "\n",
    "# TEXT + AUDIO\n",
    "loss_fn = nn.CrossEntropyLoss()\n",
    "optimizer = torch.optim.RMSprop(model.parameters(), lr=1e-3, momentum=0.9)\n",
    "scheduler = ReduceLROnPlateau(optimizer, mode='max', factor=0.1, patience=3, verbose=True)\n",
    "\n",
    "early_stopping = EarlyStopping(patience=9, delta=0, path=MULTIMODAL_MODEL_PATH)\n",
    "for epoch in range(num_epochs):\n",
    "    print(f\"Epoch {epoch+1}\\n-------------------------------\")\n",
    "    train(train_dataloader, model, loss_fn, optimizer)\n",
    "    print(f\"Accuracy on Train Set => {accuracy(train_dataloader,model)} | Accuracy on Closed Validation Set => {accuracy(val_closed_set_dataloader,model)}\")\n",
    "    scheduler.step(accuracy(val_closed_set_dataloader,model))\n",
    "    early_stopping(accuracy(val_closed_set_dataloader,model),model)\n",
    "    if early_stopping.early_stop:\n",
    "        print(\"Early stopping\")\n",
    "        break\n",
    "\n",
    "print(f\"MODEL TRAINED...RE-LOADING BEST MODEL\")\n",
    "model = AudioTextEmotionModel(6)\n",
    "model.to(device)\n",
    "model.load_state_dict(torch.load(MULTIMODAL_MODEL_PATH))\n",
    "best_multimodal_model_val_accuracy = accuracy(val_closed_set_dataloader,model)\n",
    "print(f\"Best Multimodal Model's accuracy on Closed Validation Set => {best_multimodal_model_val_accuracy}\")"
   ]
  },
  {
   "cell_type": "markdown",
   "metadata": {
    "collapsed": false
   },
   "source": [
    "## Evaluation (of the multimodal model on closed and open set labels both)"
   ]
  },
  {
   "cell_type": "code",
   "execution_count": 158,
   "metadata": {
    "collapsed": false
   },
   "outputs": [],
   "source": [
    "def set_dropout_to_train(eval_model):\n",
    "    for module in eval_model.modules():\n",
    "        if isinstance(module, nn.Dropout):\n",
    "            module.train()\n",
    "\n",
    "def predict(label, model, text, spectrogram_data, n_simulations=100, threshold=1, other_label=OTHER_LABEL):\n",
    "    predictions = [model(text, spectrogram_data).detach().cpu() for _ in range(n_simulations)]\n",
    "    predictions = torch.stack(predictions)\n",
    "    predictions = F.softmax(predictions, dim=2)\n",
    "\n",
    "    mean_predictions = torch.mean(predictions,dim=0)\n",
    "    std_predictions = torch.mean(torch.std(predictions,dim=0),dim=1)\n",
    "    _,predicted_class = torch.max(mean_predictions,1)\n",
    "    high_uncertainty = std_predictions>threshold\n",
    "    predicted_class[high_uncertainty]=other_label\n",
    "    return predicted_class\n",
    "\n",
    "def evaluate(model, dataloader, device, threshold=0.6):\n",
    "    # After setting the model to evaluation mode, call this function\n",
    "    model.eval()\n",
    "    set_dropout_to_train(model)\n",
    "\n",
    "    size = len(dataloader.dataset)\n",
    "    total_correct = 0\n",
    "    total_confusion_matrix = torch.zeros((7,7))\n",
    "    # total_correct_pred_of_other_label, total_actual_other_label = 0,0\n",
    "    for batch, (text, spectrogram_data, label) in enumerate(dataloader):\n",
    "        text, spectrogram_data, label = text.to(device), spectrogram_data.to(device), label.to(device)\n",
    "\n",
    "        predicted = predict(label, model, text, spectrogram_data, threshold=threshold)\n",
    "        predicted = predicted.cpu()\n",
    "        actual = label.cpu()\n",
    "        correct = predicted == actual\n",
    "        total_correct += correct.sum().item()\n",
    "        cm = confusion_matrix(predicted,actual)\n",
    "        if(cm.shape[0]!=7 and cm.shape[1]!=7):\n",
    "            row_of_zeros = np.zeros((7-cm.shape[0],cm.shape[1]))\n",
    "            array_with_row = np.concatenate((cm, row_of_zeros), axis=0)\n",
    "\n",
    "            # Add a column of zeros at the end\n",
    "            column_of_zeros = np.zeros((7, 7-cm.shape[1]))\n",
    "            array_with_row_and_column = np.concatenate((array_with_row, column_of_zeros), axis=1)\n",
    "            cm = array_with_row_and_column\n",
    "\n",
    "        total_confusion_matrix+= cm\n",
    "\n",
    "    print(total_confusion_matrix)\n",
    "    return total_correct/size"
   ]
  },
  {
   "cell_type": "code",
   "execution_count": 177,
   "metadata": {},
   "outputs": [
    {
     "name": "stdout",
     "output_type": "stream",
     "text": [
      "tensor([[23.,  3.,  1.,  5.,  3.,  2., 30.],\n",
      "        [ 5., 17.,  4.,  3.,  0.,  2., 24.],\n",
      "        [ 1.,  0.,  6.,  0.,  1.,  0.,  8.],\n",
      "        [ 1.,  0.,  0.,  6.,  0.,  0.,  3.],\n",
      "        [ 1.,  1.,  1.,  0.,  3.,  3.,  3.],\n",
      "        [ 2.,  0.,  1.,  0.,  1.,  4.,  8.],\n",
      "        [ 0.,  0.,  0.,  0.,  0.,  0.,  0.]], dtype=torch.float64)\n"
     ]
    },
    {
     "data": {
      "text/plain": [
       "0.3352272727272727"
      ]
     },
     "execution_count": 177,
     "metadata": {},
     "output_type": "execute_result"
    }
   ],
   "source": [
    "evaluate(model,val_dataloader,device,threshold=0.18)"
   ]
  },
  {
   "cell_type": "code",
   "execution_count": 178,
   "metadata": {},
   "outputs": [
    {
     "name": "stdout",
     "output_type": "stream",
     "text": [
      "tensor([[21.,  6.,  1.,  4.,  2.,  2., 32.],\n",
      "        [ 5., 12.,  3.,  0.,  1.,  0., 19.],\n",
      "        [ 1.,  1.,  9.,  0.,  1.,  0.,  8.],\n",
      "        [ 4.,  0.,  0.,  8.,  0.,  0.,  3.],\n",
      "        [ 1.,  1.,  0.,  1.,  4.,  1.,  8.],\n",
      "        [ 1.,  0.,  0.,  0.,  1.,  9.,  6.],\n",
      "        [ 0.,  0.,  0.,  0.,  0.,  0.,  0.]], dtype=torch.float64)\n"
     ]
    },
    {
     "data": {
      "text/plain": [
       "0.35795454545454547"
      ]
     },
     "execution_count": 178,
     "metadata": {},
     "output_type": "execute_result"
    }
   ],
   "source": [
    "evaluate(model,test_dataloader,device,threshold=0.18)"
   ]
  },
  {
   "cell_type": "code",
   "execution_count": 161,
   "metadata": {},
   "outputs": [
    {
     "data": {
      "text/plain": [
       "1152"
      ]
     },
     "execution_count": 161,
     "metadata": {},
     "output_type": "execute_result"
    }
   ],
   "source": [
    "save_hubert_embeddings()\n",
    "len(hubert_embeddings)"
   ]
  },
  {
   "cell_type": "code",
   "execution_count": 34,
   "metadata": {
    "collapsed": false
   },
   "outputs": [],
   "source": [
    "# learn pytorch basic with some basic models and datasets\n",
    "# https://pytorch.org/tutorials/beginner/basics/quickstart_tutorial.html\n",
    "# https://pytorch.org/tutorials/beginner/basics/transforms_tutorial.html\n",
    "# https://pytorch.org/tutorials/beginner/basics/data_tutorial.html\n",
    "# https://pytorch.org/tutorials/beginner/basics/optimization_tutorial.html\n",
    "# https://pytorch.org/tutorials/beginner/basics/autogradqs_tutorial.html\n",
    "# https://pytorch.org/tutorials/beginner/basics/nnqs_tutorial.html"
   ]
  },
  {
   "cell_type": "code",
   "execution_count": 180,
   "metadata": {},
   "outputs": [],
   "source": [
    "import numpy as np\n",
    "import scipy.spatial.distance as spd\n",
    "import torch\n",
    "\n",
    "import libmr\n",
    "\n",
    "\n",
    "def calc_distance(query_score, mcv, eu_weight, distance_type='eucos'):\n",
    "    if distance_type == 'eucos':\n",
    "        query_distance = spd.euclidean(mcv, query_score) * eu_weight + \\\n",
    "            spd.cosine(mcv, query_score)\n",
    "    elif distance_type == 'euclidean':\n",
    "        query_distance = spd.euclidean(mcv, query_score)\n",
    "    elif distance_type == 'cosine':\n",
    "        query_distance = spd.cosine(mcv, query_score)\n",
    "    else:\n",
    "        print(\"distance type not known: enter either of eucos, euclidean or cosine\")\n",
    "    return query_distance\n",
    "\n",
    "\n",
    "def fit_weibull(means, dists, categories, tailsize=20, distance_type='eucos'):\n",
    "    \"\"\"\n",
    "    Input:\n",
    "        means (C, channel, C)\n",
    "        dists (N_c, channel, C) * C\n",
    "    Output:\n",
    "        weibull_model : Perform EVT based analysis using tails of distances and save\n",
    "                        weibull model parameters for re-adjusting softmax scores\n",
    "    \"\"\"\n",
    "    weibull_model = {}\n",
    "    for mean, dist, category_name in zip(means, dists, categories):\n",
    "        weibull_model[category_name] = {}\n",
    "        weibull_model[category_name]['distances_{}'.format(distance_type)] = dist[distance_type]\n",
    "        weibull_model[category_name]['mean_vec'] = mean\n",
    "        weibull_model[category_name]['weibull_model'] = []\n",
    "        for channel in range(mean.shape[0]):\n",
    "            mr = libmr.MR()\n",
    "            tailtofit = np.sort(dist[distance_type][channel, :])[-tailsize:]\n",
    "            mr.fit_high(tailtofit, len(tailtofit))\n",
    "            weibull_model[category_name]['weibull_model'].append(mr)\n",
    "\n",
    "    return weibull_model\n",
    "\n",
    "\n",
    "def query_weibull(category_name, weibull_model, distance_type='eucos'):\n",
    "    return [weibull_model[category_name]['mean_vec'],\n",
    "            weibull_model[category_name]['distances_{}'.format(distance_type)],\n",
    "            weibull_model[category_name]['weibull_model']]\n",
    "\n",
    "\n",
    "def compute_openmax_prob(scores, scores_u):\n",
    "    prob_scores, prob_unknowns = [], []\n",
    "    for s, su in zip(scores, scores_u):\n",
    "        channel_scores = np.exp(s)\n",
    "        channel_unknown = np.exp(np.sum(su))\n",
    "\n",
    "        total_denom = np.sum(channel_scores) + channel_unknown\n",
    "        prob_scores.append(channel_scores / total_denom)\n",
    "        prob_unknowns.append(channel_unknown / total_denom)\n",
    "\n",
    "    # Take channel mean\n",
    "    scores = np.mean(prob_scores, axis=0)\n",
    "    unknowns = np.mean(prob_unknowns, axis=0)\n",
    "    modified_scores = scores.tolist() + [unknowns]\n",
    "    return modified_scores\n",
    "\n",
    "\n",
    "def softmax(x):\n",
    "    e_x = np.exp(x - np.max(x))\n",
    "    return e_x / e_x.sum()\n",
    "\n",
    "\n",
    "def openmax(weibull_model, categories, input_score, eu_weight, alpha=10, distance_type='eucos'):\n",
    "    \"\"\"Re-calibrate scores via OpenMax layer\n",
    "    Output:\n",
    "        openmax probability and softmax probability\n",
    "    \"\"\"\n",
    "    nb_classes = len(categories)\n",
    "\n",
    "    ranked_list = input_score.argsort().ravel()[::-1][:alpha]\n",
    "    alpha_weights = [((alpha + 1) - i) / float(alpha) for i in range(1, alpha + 1)]\n",
    "    omega = np.zeros(nb_classes)\n",
    "    omega[ranked_list] = alpha_weights\n",
    "\n",
    "    scores, scores_u = [], []\n",
    "    for channel, input_score_channel in enumerate(input_score):\n",
    "        score_channel, score_channel_u = [], []\n",
    "        for c, category_name in enumerate(categories):\n",
    "            mav, dist, model = query_weibull(category_name, weibull_model, distance_type)\n",
    "            channel_dist = calc_distance(input_score_channel, mav[channel], eu_weight, distance_type)\n",
    "            wscore = model[channel].w_score(channel_dist)\n",
    "            modified_score = input_score_channel[c] * (1 - wscore * omega[c])\n",
    "            score_channel.append(modified_score)\n",
    "            score_channel_u.append(input_score_channel[c] - modified_score)\n",
    "\n",
    "        scores.append(score_channel)\n",
    "        scores_u.append(score_channel_u)\n",
    "\n",
    "    scores = np.asarray(scores)\n",
    "    scores_u = np.asarray(scores_u)\n",
    "\n",
    "    openmax_prob = np.array(compute_openmax_prob(scores, scores_u))\n",
    "    softmax_prob = softmax(np.array(input_score.ravel()))\n",
    "    return openmax_prob, softmax_prob\n",
    "\n",
    "\n",
    "def compute_channel_distances(mavs, features, eu_weight=0.5):\n",
    "    \"\"\"\n",
    "    Input:\n",
    "        mavs (channel, C)\n",
    "        features: (N, channel, C)\n",
    "    Output:\n",
    "        channel_distances: dict of distance distribution from MAV for each channel.\n",
    "    \"\"\"\n",
    "    eucos_dists, eu_dists, cos_dists = [], [], []\n",
    "    for channel, mcv in enumerate(mavs):  # Compute channel specific distances\n",
    "        eu_dists.append([spd.euclidean(mcv, feat[channel]) for feat in features])\n",
    "        cos_dists.append([spd.cosine(mcv, feat[channel]) for feat in features])\n",
    "        eucos_dists.append([spd.euclidean(mcv, feat[channel]) * eu_weight +\n",
    "                            spd.cosine(mcv, feat[channel]) for feat in features])\n",
    "\n",
    "    return {'eucos': np.array(eucos_dists), 'cosine': np.array(cos_dists), 'euclidean': np.array(eu_dists)}\n",
    "\n",
    "\n",
    "def compute_train_score_and_mavs_and_dists(train_class_num,trainloader,device,net):\n",
    "    scores = [[] for _ in range(train_class_num)]\n",
    "    with torch.no_grad():\n",
    "        for batch_idx, (inputs, targets) in enumerate(trainloader):\n",
    "            inputs, targets = inputs.to(device), targets.to(device)\n",
    "\n",
    "            # this must cause error for cifar\n",
    "            _, outputs = net(inputs)\n",
    "            for score, t in zip(outputs, targets):\n",
    "                # print(f\"torch.argmax(score) is {torch.argmax(score)}, t is {t}\")\n",
    "                if torch.argmax(score) == t:\n",
    "                    scores[t].append(score.unsqueeze(dim=0).unsqueeze(dim=0))\n",
    "    scores = [torch.cat(x).cpu().numpy() for x in scores]  # (N_c, 1, C) * C\n",
    "    mavs = np.array([np.mean(x, axis=0) for x in scores])  # (C, 1, C)\n",
    "    dists = [compute_channel_distances(mcv, score) for mcv, score in zip(mavs, scores)]\n",
    "    return scores, mavs, dists\n",
    "\n",
    "def predict_with_openmax(model, input, device, weibull_models, mean_activations):\n",
    "    model.eval()\n",
    "    with torch.no_grad():\n",
    "        input = input.to(device)\n",
    "        activations = model.fc1(input)\n",
    "        activations = model.relu(activations)\n",
    "\n",
    "    scores = openmax_score(weibull_models, mean_activations, activations.numpy())\n",
    "    return np.argmax(scores), scores\n"
   ]
  },
  {
   "cell_type": "code",
   "execution_count": null,
   "metadata": {},
   "outputs": [],
   "source": []
  }
 ],
 "metadata": {
  "kernelspec": {
   "display_name": "Python 3",
   "language": "python",
   "name": "python3"
  },
  "language_info": {
   "codemirror_mode": {
    "name": "ipython",
    "version": 3
   },
   "file_extension": ".py",
   "mimetype": "text/x-python",
   "name": "python",
   "nbconvert_exporter": "python",
   "pygments_lexer": "ipython3",
   "version": "3.10.13"
  }
 },
 "nbformat": 4,
 "nbformat_minor": 0
}
